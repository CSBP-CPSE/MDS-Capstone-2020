{
 "cells": [
  {
   "cell_type": "markdown",
   "metadata": {},
   "source": [
    "## LTC Web Scraping\n",
    "\n",
    "[How Ontario is responding to Covid-19](https://www.ontario.ca/page/how-ontario-is-responding-covid-19)\n",
    "\n",
    "**Authors:** KT and Shreeram\n",
    "\n",
    "*Note:* must run selenium server in command prompt\n",
    "\n",
    "`java -jar /path/to/selenium-server`\n",
    "\n",
    "`java -jar /usr/local/bin/selenium-server-standalone-3.141.59.jar`\n",
    "\n",
    "must also have installed\n",
    "\n",
    "`brew cask install chromedriver`\n",
    "\n",
    "`brew cask install chromium`\n",
    "\n",
    "---"
   ]
  },
  {
   "cell_type": "code",
   "execution_count": 1,
   "metadata": {},
   "outputs": [],
   "source": [
    "import pandas as pd\n",
    "from bs4 import BeautifulSoup\n",
    "import requests\n",
    "r = requests.get('https://www.ontario.ca/page/how-ontario-is-responding-covid-19#section-1')\n",
    "s = BeautifulSoup(r.text,'html5lib')"
   ]
  },
  {
   "cell_type": "code",
   "execution_count": 2,
   "metadata": {},
   "outputs": [
    {
     "data": {
      "text/plain": [
       "{'User-Agent': 'python-requests/2.23.0', 'Accept-Encoding': 'gzip, deflate', 'Accept': '*/*', 'Connection': 'keep-alive'}"
      ]
     },
     "execution_count": 2,
     "metadata": {},
     "output_type": "execute_result"
    }
   ],
   "source": [
    "r.request.headers"
   ]
  },
  {
   "cell_type": "code",
   "execution_count": 3,
   "metadata": {},
   "outputs": [
    {
     "data": {
      "text/plain": [
       "'Thu, 04 Jun 2020 19:05:10 GMT'"
      ]
     },
     "execution_count": 3,
     "metadata": {},
     "output_type": "execute_result"
    }
   ],
   "source": [
    "r.headers['Last-Modified']"
   ]
  },
  {
   "cell_type": "markdown",
   "metadata": {},
   "source": [
    "#### Method 5: Selenium Server"
   ]
  },
  {
   "cell_type": "code",
   "execution_count": 5,
   "metadata": {},
   "outputs": [],
   "source": [
    "from selenium import webdriver\n",
    "from selenium.webdriver.common.desired_capabilities import DesiredCapabilities\n",
    "\n",
    "driver = webdriver.Remote(\n",
    "   command_executor='http://127.0.0.1:4444/wd/hub',\n",
    "   desired_capabilities=DesiredCapabilities.CHROME)"
   ]
  },
  {
   "cell_type": "code",
   "execution_count": 6,
   "metadata": {},
   "outputs": [],
   "source": [
    "my_url = 'https://www.ontario.ca/page/how-ontario-is-responding-covid-19#section-1'\n",
    "driver.get(my_url)"
   ]
  },
  {
   "cell_type": "code",
   "execution_count": 9,
   "metadata": {},
   "outputs": [],
   "source": [
    "df = pd.read_html(driver.page_source)[5]\n",
    "df2 = pd.read_html(driver.page_source)[6]"
   ]
  },
  {
   "cell_type": "code",
   "execution_count": 13,
   "metadata": {},
   "outputs": [
    {
     "data": {
      "text/html": [
       "<div>\n",
       "<style scoped>\n",
       "    .dataframe tbody tr th:only-of-type {\n",
       "        vertical-align: middle;\n",
       "    }\n",
       "\n",
       "    .dataframe tbody tr th {\n",
       "        vertical-align: top;\n",
       "    }\n",
       "\n",
       "    .dataframe thead th {\n",
       "        text-align: right;\n",
       "    }\n",
       "</style>\n",
       "<table border=\"1\" class=\"dataframe\">\n",
       "  <thead>\n",
       "    <tr style=\"text-align: right;\">\n",
       "      <th></th>\n",
       "      <th>LTC Home</th>\n",
       "      <th>City</th>\n",
       "      <th>Beds</th>\n",
       "      <th>Resident Deaths</th>\n",
       "    </tr>\n",
       "  </thead>\n",
       "  <tbody>\n",
       "    <tr>\n",
       "      <th>0</th>\n",
       "      <td>Albright Gardens Homes, Incorporated</td>\n",
       "      <td>Beamsville</td>\n",
       "      <td>231</td>\n",
       "      <td>0</td>\n",
       "    </tr>\n",
       "    <tr>\n",
       "      <th>1</th>\n",
       "      <td>Alexander Place</td>\n",
       "      <td>Waterdown</td>\n",
       "      <td>128</td>\n",
       "      <td>0</td>\n",
       "    </tr>\n",
       "    <tr>\n",
       "      <th>2</th>\n",
       "      <td>Allendale</td>\n",
       "      <td>Milton</td>\n",
       "      <td>200</td>\n",
       "      <td>0</td>\n",
       "    </tr>\n",
       "    <tr>\n",
       "      <th>3</th>\n",
       "      <td>Altamont Care Community</td>\n",
       "      <td>Scarborough</td>\n",
       "      <td>159</td>\n",
       "      <td>53</td>\n",
       "    </tr>\n",
       "    <tr>\n",
       "      <th>4</th>\n",
       "      <td>Arbour Creek Long-Term Care Centre</td>\n",
       "      <td>Hamilton</td>\n",
       "      <td>129</td>\n",
       "      <td>0</td>\n",
       "    </tr>\n",
       "  </tbody>\n",
       "</table>\n",
       "</div>"
      ],
      "text/plain": [
       "                               LTC Home         City  Beds Resident Deaths\n",
       "0  Albright Gardens Homes, Incorporated   Beamsville   231               0\n",
       "1                       Alexander Place    Waterdown   128               0\n",
       "2                             Allendale       Milton   200               0\n",
       "3               Altamont Care Community  Scarborough   159              53\n",
       "4    Arbour Creek Long-Term Care Centre     Hamilton   129               0"
      ]
     },
     "execution_count": 13,
     "metadata": {},
     "output_type": "execute_result"
    }
   ],
   "source": [
    "df2.head()"
   ]
  },
  {
   "cell_type": "code",
   "execution_count": 12,
   "metadata": {},
   "outputs": [
    {
     "data": {
      "text/html": [
       "<div>\n",
       "<style scoped>\n",
       "    .dataframe tbody tr th:only-of-type {\n",
       "        vertical-align: middle;\n",
       "    }\n",
       "\n",
       "    .dataframe tbody tr th {\n",
       "        vertical-align: top;\n",
       "    }\n",
       "\n",
       "    .dataframe thead th {\n",
       "        text-align: right;\n",
       "    }\n",
       "</style>\n",
       "<table border=\"1\" class=\"dataframe\">\n",
       "  <thead>\n",
       "    <tr style=\"text-align: right;\">\n",
       "      <th></th>\n",
       "      <th>LTC Home</th>\n",
       "      <th>City</th>\n",
       "      <th>Beds</th>\n",
       "      <th>Confirmed Resident Cases</th>\n",
       "      <th>Resident Deaths</th>\n",
       "      <th>Confirmed Staff Cases</th>\n",
       "    </tr>\n",
       "  </thead>\n",
       "  <tbody>\n",
       "    <tr>\n",
       "      <th>0</th>\n",
       "      <td>Afton Park Place Long Term Care Community</td>\n",
       "      <td>Sarnia</td>\n",
       "      <td>128</td>\n",
       "      <td>0</td>\n",
       "      <td>0</td>\n",
       "      <td>&lt;5</td>\n",
       "    </tr>\n",
       "    <tr>\n",
       "      <th>1</th>\n",
       "      <td>Almonte Country Haven</td>\n",
       "      <td>Almonte</td>\n",
       "      <td>82</td>\n",
       "      <td>&lt;5</td>\n",
       "      <td>29</td>\n",
       "      <td>&lt;5</td>\n",
       "    </tr>\n",
       "    <tr>\n",
       "      <th>2</th>\n",
       "      <td>Anson Place Care Centre</td>\n",
       "      <td>Hagersville</td>\n",
       "      <td>61</td>\n",
       "      <td>0</td>\n",
       "      <td>23</td>\n",
       "      <td>&lt;5</td>\n",
       "    </tr>\n",
       "    <tr>\n",
       "      <th>3</th>\n",
       "      <td>Billings Court Manor</td>\n",
       "      <td>Burlington</td>\n",
       "      <td>160</td>\n",
       "      <td>0</td>\n",
       "      <td>&lt;5</td>\n",
       "      <td>0</td>\n",
       "    </tr>\n",
       "    <tr>\n",
       "      <th>4</th>\n",
       "      <td>Burton Manor</td>\n",
       "      <td>Brampton</td>\n",
       "      <td>128</td>\n",
       "      <td>0</td>\n",
       "      <td>12</td>\n",
       "      <td>&lt;5</td>\n",
       "    </tr>\n",
       "  </tbody>\n",
       "</table>\n",
       "</div>"
      ],
      "text/plain": [
       "                                    LTC Home         City  Beds  \\\n",
       "0  Afton Park Place Long Term Care Community       Sarnia   128   \n",
       "1                      Almonte Country Haven      Almonte    82   \n",
       "2                    Anson Place Care Centre  Hagersville    61   \n",
       "3                       Billings Court Manor   Burlington   160   \n",
       "4                               Burton Manor     Brampton   128   \n",
       "\n",
       "  Confirmed Resident Cases Resident Deaths Confirmed Staff Cases  \n",
       "0                        0               0                    <5  \n",
       "1                       <5              29                    <5  \n",
       "2                        0              23                    <5  \n",
       "3                        0              <5                     0  \n",
       "4                        0              12                    <5  "
      ]
     },
     "execution_count": 12,
     "metadata": {},
     "output_type": "execute_result"
    }
   ],
   "source": [
    "df.head()"
   ]
  },
  {
   "cell_type": "code",
   "execution_count": null,
   "metadata": {},
   "outputs": [],
   "source": [
    "# df.to_csv('ltc-active_thirdScrape.csv')\n",
    "# df2.to_csv('ltc-inactive_thirdScrape.csv')"
   ]
  },
  {
   "cell_type": "code",
   "execution_count": 14,
   "metadata": {},
   "outputs": [],
   "source": [
    "df2['Status'] = 'Inactive'"
   ]
  },
  {
   "cell_type": "code",
   "execution_count": 15,
   "metadata": {},
   "outputs": [],
   "source": [
    "df['Status'] = 'Active'"
   ]
  },
  {
   "cell_type": "code",
   "execution_count": 16,
   "metadata": {},
   "outputs": [],
   "source": [
    "all_ltc = df.append(df2)"
   ]
  },
  {
   "cell_type": "code",
   "execution_count": 18,
   "metadata": {},
   "outputs": [],
   "source": [
    "all_ltc.to_csv('../merge_LTC_database/merged_ltc_thirdScrape.csv')"
   ]
  },
  {
   "cell_type": "code",
   "execution_count": null,
   "metadata": {},
   "outputs": [],
   "source": []
  }
 ],
 "metadata": {
  "kernelspec": {
   "display_name": "Python 3",
   "language": "python",
   "name": "python3"
  },
  "language_info": {
   "codemirror_mode": {
    "name": "ipython",
    "version": 3
   },
   "file_extension": ".py",
   "mimetype": "text/x-python",
   "name": "python",
   "nbconvert_exporter": "python",
   "pygments_lexer": "ipython3",
   "version": "3.7.4"
  }
 },
 "nbformat": 4,
 "nbformat_minor": 4
}
