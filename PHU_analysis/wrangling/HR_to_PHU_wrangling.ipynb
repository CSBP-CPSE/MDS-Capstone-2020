{
 "cells": [
  {
   "cell_type": "code",
   "execution_count": 2,
   "metadata": {},
   "outputs": [],
   "source": [
    "import pandas as pd\n",
    "amenities = pd.read_csv('../data/QGIS_csv_files/amenity_score.csv')"
   ]
  },
  {
   "cell_type": "code",
   "execution_count": 16,
   "metadata": {},
   "outputs": [],
   "source": [
    "amenities.Location.replace({'York Regional Health Unit' : 'York Region Public Health Services',\n",
    "              'Waterloo Health Unit' : 'Region of Waterloo, Public Health',\n",
    "            'Halton Regional Health Unit' : 'Halton Region Health Department',\n",
    "              'Lambton Health Unit' : 'Lambton Public Health',\n",
    "             'Durham Regional Health Unit' : 'Durham Region Health Department',  \n",
    "             'City of Ottawa Health Unit' : 'Ottawa Public Health', \n",
    "             'Peel Regional Health Unit': 'Peel Public Health',\n",
    "              'Wellington-Dufferin-Guelph Health Unit': 'Wellington-Dufferin-Guelph Public Health',\n",
    "            'Kingston, Frontenac and Lennox and Addington Health Unit' : 'Kingston, Frontenac and Lennox & Addington Public Health',\n",
    "             'The Eastern Ontario Health Unit':'Eastern Ontario Health Unit',\n",
    "              'City of Hamilton Health Unit':'Hamilton Public Health Services',\n",
    "              'Niagara Regional Area Health Unit':'Niagara Region Public Health Department',\n",
    "              'Sudbury and District Health Unit':'Sudbury & District Health Unit',\n",
    "             'The District of Algoma Health Unit':'Algoma Public Health Unit',\n",
    "             'Peterborough County - City Health Unit':'Peterborough Public Health',\n",
    "             'City of Toronto Health Unit' : 'Toronto Public Health',\n",
    "             'Perth District Health Unit' : 'Huron Perth District Health Unit',\n",
    "             'Huron County Health Unit' : 'Huron Perth District Health Unit',\n",
    "            'Elgin-St. Thomas Health Unit' : 'Southwestern Public Health',\n",
    "            'Oxford County Health Unit' : 'Southwestern Public Health'}, inplace = True)"
   ]
  },
  {
   "cell_type": "code",
   "execution_count": 19,
   "metadata": {},
   "outputs": [],
   "source": [
    "amenities.to_csv('../data/clean/amenity_score_phu.csv')"
   ]
  },
  {
   "cell_type": "code",
   "execution_count": 20,
   "metadata": {},
   "outputs": [],
   "source": [
    "qgis = pd.read_csv('../data/QGIS_csv_files/DB_to_PHU_34.csv')"
   ]
  },
  {
   "cell_type": "code",
   "execution_count": 33,
   "metadata": {},
   "outputs": [],
   "source": [
    "qgis.ENG_LABEL.replace({'City of Hamilton Health Unit':'Hamilton Public Health Services',\n",
    "                         'The Eastern Ontario Health Unit':'Eastern Ontario Health Unit',\n",
    "                         'City of Ottawa Health Unit': 'Ottawa Public Health',\n",
    "                         'City of Toronto Health Unit':'Toronto Public Health',\n",
    "                         'Peterborough County - City Health Unit':'Peterborough Public Health',\n",
    "                         'Durham Regional Health Unit':'Durham Region Health Department',\n",
    "                         'Waterloo Health Unit':'Region of Waterloo, Public Health',\n",
    "                         'Kingston, Frontenac and Lennox and Addington Health Unit': 'Kingston, Frontenac and Lennox & Addington Public Health',\n",
    "                         'Sudbury and District Health Unit':'Sudbury & District Health Unit',\n",
    "                         'Niagara Regional Area Health Unit':'Niagara Region Public Health Department',\n",
    "                         'Lambton Health Unit': 'Lambton Public Health',\n",
    "                         'Huron Perth County Health Unit' : 'Huron Perth District Health Unit',\n",
    "                         'The District of Algoma Health Unit':'Algoma Public Health Unit',\n",
    "                         'Southwestern Health Unit':'Southwestern Public Health',\n",
    "                         'Peel Regional Health Unit':'Peel Public Health',\n",
    "                         'York Regional Health Unit': 'York Region Public Health Services',\n",
    "                         'Halton Regional Health Unit': 'Halton Region Health Department',\n",
    "                         'Wellington-Dufferin-Guelph Health Unit': 'Wellington-Dufferin-Guelph Public Health'}, inplace = True)"
   ]
  },
  {
   "cell_type": "code",
   "execution_count": 34,
   "metadata": {},
   "outputs": [],
   "source": [
    "qgis.to_csv('../data/clean/qgis_phu.csv')"
   ]
  },
  {
   "cell_type": "code",
   "execution_count": 11,
   "metadata": {},
   "outputs": [],
   "source": [
    "prox = pd.read_csv('../data/PMD-en/PMD-on.csv')"
   ]
  },
  {
   "cell_type": "code",
   "execution_count": 13,
   "metadata": {},
   "outputs": [
    {
     "data": {
      "text/plain": [
       "Index(['DBUID', 'DBPOP', 'DAUID', 'DAPOP', 'CSDUID', 'CSDNAME', 'CSDTYPE',\n",
       "       'CSDPOP', 'CMAUID', 'CMAPUID', 'CMANAME', 'CMATYPE', 'CMAPOP', 'PRUID',\n",
       "       'PRNAME', 'PRPOP', 'lon', 'lat', 'in_db_emp', 'prox_idx_emp',\n",
       "       'in_db_pharma', 'prox_idx_pharma', 'in_db_childcare',\n",
       "       'prox_idx_childcare', 'in_db_health', 'prox_idx_health',\n",
       "       'in_db_grocery', 'prox_idx_grocery', 'in_db_educpri',\n",
       "       'prox_idx_educpri', 'in_db_educsec', 'prox_idx_educsec', 'in_db_lib',\n",
       "       'prox_idx_lib', 'in_db_parks', 'prox_idx_parks', 'in_db_transit',\n",
       "       'prox_idx_transit', 'transit_na', 'amenity_dense', 'suppressed'],\n",
       "      dtype='object')"
      ]
     },
     "execution_count": 13,
     "metadata": {},
     "output_type": "execute_result"
    }
   ],
   "source": [
    "prox.columns"
   ]
  },
  {
   "cell_type": "code",
   "execution_count": null,
   "metadata": {},
   "outputs": [],
   "source": []
  }
 ],
 "metadata": {
  "kernelspec": {
   "display_name": "Python 3",
   "language": "python",
   "name": "python3"
  },
  "language_info": {
   "codemirror_mode": {
    "name": "ipython",
    "version": 3
   },
   "file_extension": ".py",
   "mimetype": "text/x-python",
   "name": "python",
   "nbconvert_exporter": "python",
   "pygments_lexer": "ipython3",
   "version": "3.7.4"
  }
 },
 "nbformat": 4,
 "nbformat_minor": 4
}
