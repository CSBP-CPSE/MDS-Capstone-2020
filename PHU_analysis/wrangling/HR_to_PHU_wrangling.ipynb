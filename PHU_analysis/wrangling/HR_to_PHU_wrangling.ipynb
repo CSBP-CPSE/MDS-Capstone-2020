{
 "cells": [
  {
   "cell_type": "markdown",
   "metadata": {},
   "source": [
    "### Convert HRs to PHUs\n",
    "---\n",
    "\n",
    "\n",
    "**Note:** There are 36 PHUs but only 34 reported in the live-updating Ontario Covid Case data. There are 36 \"Health Regions\" (as indicated on Statistics Canada exports) in the proximity and comorbidity data. After research, 2 pairs of Health Regions seemed to have merged, reducing the total number of unique regions to 34.\n",
    "\n",
    "It also appears that some Health Regions were renamed to Public Health Units.\n",
    "\n",
    "---\n",
    "\n",
    "***After Google Search:***\n",
    "\n",
    "socioeconomic HR | Covid PHU\n",
    "---------------------|----------\n",
    "Perth District Health Unit | renamed to Huron Perth \n",
    "Huron County Health Unit | renamed to Huron Perth \n",
    "Elgin-St. Thomas Health Unit | renamed to Southwestern Public Health\n",
    "Oxford County Health Unit | renamed to Southwestern Public Health\n",
    "*Huron County Health Unit has merged with Perth [Huron Perth Merger](https://www.huroncounty.ca/news/hello-huron-perth-public-health-the-merger-of-huron-and-perth-health-units-takes-effect-january-1-2020/)"
   ]
  },
  {
   "cell_type": "code",
   "execution_count": 2,
   "metadata": {},
   "outputs": [],
   "source": [
    "import pandas as pd\n",
    "amenities = pd.read_csv('../data/QGIS_csv_files/amenity_score.csv')"
   ]
  },
  {
   "cell_type": "code",
   "execution_count": 16,
   "metadata": {},
   "outputs": [],
   "source": [
    "amenities.Location.replace({'York Regional Health Unit' : 'York Region Public Health Services',\n",
    "              'Waterloo Health Unit' : 'Region of Waterloo, Public Health',\n",
    "            'Halton Regional Health Unit' : 'Halton Region Health Department',\n",
    "              'Lambton Health Unit' : 'Lambton Public Health',\n",
    "             'Durham Regional Health Unit' : 'Durham Region Health Department',  \n",
    "             'City of Ottawa Health Unit' : 'Ottawa Public Health', \n",
    "             'Peel Regional Health Unit': 'Peel Public Health',\n",
    "              'Wellington-Dufferin-Guelph Health Unit': 'Wellington-Dufferin-Guelph Public Health',\n",
    "            'Kingston, Frontenac and Lennox and Addington Health Unit' : 'Kingston, Frontenac and Lennox & Addington Public Health',\n",
    "             'The Eastern Ontario Health Unit':'Eastern Ontario Health Unit',\n",
    "              'City of Hamilton Health Unit':'Hamilton Public Health Services',\n",
    "              'Niagara Regional Area Health Unit':'Niagara Region Public Health Department',\n",
    "              'Sudbury and District Health Unit':'Sudbury & District Health Unit',\n",
    "             'The District of Algoma Health Unit':'Algoma Public Health Unit',\n",
    "             'Peterborough County - City Health Unit':'Peterborough Public Health',\n",
    "             'City of Toronto Health Unit' : 'Toronto Public Health',\n",
    "             'Perth District Health Unit' : 'Huron Perth District Health Unit',\n",
    "             'Huron County Health Unit' : 'Huron Perth District Health Unit',\n",
    "            'Elgin-St. Thomas Health Unit' : 'Southwestern Public Health',\n",
    "            'Oxford County Health Unit' : 'Southwestern Public Health'}, inplace = True)"
   ]
  },
  {
   "cell_type": "code",
   "execution_count": 19,
   "metadata": {},
   "outputs": [],
   "source": [
    "amenities.to_csv('../data/clean/amenity_score_phu.csv')"
   ]
  },
  {
   "cell_type": "markdown",
   "metadata": {},
   "source": [
    "---"
   ]
  },
  {
   "cell_type": "code",
   "execution_count": 20,
   "metadata": {},
   "outputs": [],
   "source": [
    "qgis = pd.read_csv('../data/QGIS_csv_files/DB_to_PHU_34.csv')"
   ]
  },
  {
   "cell_type": "code",
   "execution_count": 33,
   "metadata": {},
   "outputs": [],
   "source": [
    "qgis.ENG_LABEL.replace({'City of Hamilton Health Unit':'Hamilton Public Health Services',\n",
    "                         'The Eastern Ontario Health Unit':'Eastern Ontario Health Unit',\n",
    "                         'City of Ottawa Health Unit': 'Ottawa Public Health',\n",
    "                         'City of Toronto Health Unit':'Toronto Public Health',\n",
    "                         'Peterborough County - City Health Unit':'Peterborough Public Health',\n",
    "                         'Durham Regional Health Unit':'Durham Region Health Department',\n",
    "                         'Waterloo Health Unit':'Region of Waterloo, Public Health',\n",
    "                         'Kingston, Frontenac and Lennox and Addington Health Unit': 'Kingston, Frontenac and Lennox & Addington Public Health',\n",
    "                         'Sudbury and District Health Unit':'Sudbury & District Health Unit',\n",
    "                         'Niagara Regional Area Health Unit':'Niagara Region Public Health Department',\n",
    "                         'Lambton Health Unit': 'Lambton Public Health',\n",
    "                         'Huron Perth County Health Unit' : 'Huron Perth District Health Unit',\n",
    "                         'The District of Algoma Health Unit':'Algoma Public Health Unit',\n",
    "                         'Southwestern Health Unit':'Southwestern Public Health',\n",
    "                         'Peel Regional Health Unit':'Peel Public Health',\n",
    "                         'York Regional Health Unit': 'York Region Public Health Services',\n",
    "                         'Halton Regional Health Unit': 'Halton Region Health Department',\n",
    "                         'Wellington-Dufferin-Guelph Health Unit': 'Wellington-Dufferin-Guelph Public Health'}, inplace = True)"
   ]
  },
  {
   "cell_type": "code",
   "execution_count": 34,
   "metadata": {},
   "outputs": [],
   "source": [
    "qgis.to_csv('../data/clean/qgis_phu.csv')"
   ]
  }
 ],
 "metadata": {
  "kernelspec": {
   "display_name": "Python 3",
   "language": "python",
   "name": "python3"
  },
  "language_info": {
   "codemirror_mode": {
    "name": "ipython",
    "version": 3
   },
   "file_extension": ".py",
   "mimetype": "text/x-python",
   "name": "python",
   "nbconvert_exporter": "python",
   "pygments_lexer": "ipython3",
   "version": "3.7.4"
  }
 },
 "nbformat": 4,
 "nbformat_minor": 4
}
