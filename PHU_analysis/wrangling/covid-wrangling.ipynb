{
 "cells": [
  {
   "cell_type": "markdown",
   "metadata": {},
   "source": [
    "## Retrieving updated COVID-19 Data for Ontario\n",
    "\n",
    "**From:** [data.ontario.ca](https://data.ontario.ca/dataset/f4112442-bdc8-45d2-be3c-12efae72fb27/resource/455fd63b-603d-4608-8216-7d8647f43350)\n",
    "\n"
   ]
  },
  {
   "cell_type": "code",
   "execution_count": 2,
   "metadata": {},
   "outputs": [],
   "source": [
    "import pandas as pd\n",
    "data = pd.read_csv('https://data.ontario.ca/dataset/f4112442-bdc8-45d2-be3c-12efae72fb27/resource/455fd63b-603d-4608-8216-7d8647f43350/download/conposcovidloc.csv')\n",
    "data.to_csv('../data/ON_cases.csv')"
   ]
  },
  {
   "cell_type": "markdown",
   "metadata": {},
   "source": [
    "---\n",
    "### Data Wrangling\n",
    "---"
   ]
  },
  {
   "cell_type": "code",
   "execution_count": 4,
   "metadata": {},
   "outputs": [],
   "source": [
    "covid = pd.read_csv('../data/ON_cases.csv')"
   ]
  },
  {
   "cell_type": "markdown",
   "metadata": {},
   "source": [
    "#### Re-organize covid data - Age"
   ]
  },
  {
   "cell_type": "code",
   "execution_count": 5,
   "metadata": {},
   "outputs": [
    {
     "data": {
      "text/plain": [
       "array(['50s', '20s', '60s', '30s', '80s', '40s', '70s', '<20', '90s',\n",
       "       'Unknown'], dtype=object)"
      ]
     },
     "execution_count": 5,
     "metadata": {},
     "output_type": "execute_result"
    }
   ],
   "source": [
    "covid.Age_Group.unique()"
   ]
  },
  {
   "cell_type": "code",
   "execution_count": 6,
   "metadata": {},
   "outputs": [],
   "source": [
    "def fifties(x):\n",
    "    if x == '50s':\n",
    "        return 1\n",
    "    else:\n",
    "        return 0\n",
    "    \n",
    "def sixties(x):\n",
    "    if x == '60s':\n",
    "        return 1\n",
    "    else:\n",
    "        return 0\n",
    "\n",
    "def seventies(x):\n",
    "    if x == '70s':\n",
    "        return 1\n",
    "    else:\n",
    "        return 0\n",
    "\n",
    "def eighties(x):\n",
    "    if x == '80s':\n",
    "        return 1\n",
    "    else:\n",
    "        return 0\n",
    "    \n",
    "def nineties(x):\n",
    "    if x == '90s':\n",
    "        return 1\n",
    "    else:\n",
    "        return 0\n",
    "\n",
    "def thirties(x):\n",
    "    if x == '30s':\n",
    "        return 1\n",
    "    else:\n",
    "        return 0\n",
    "    \n",
    "def fourties(x):\n",
    "    if x == '40s':\n",
    "        return 1\n",
    "    else:\n",
    "        return 0\n",
    "    \n",
    "def twenties(x):\n",
    "    if x == '20s':\n",
    "        return 1\n",
    "    else:\n",
    "        return 0\n",
    "\n",
    "def youth(x):\n",
    "    if x == '<20':\n",
    "        return 1\n",
    "    else:\n",
    "        return 0"
   ]
  },
  {
   "cell_type": "code",
   "execution_count": 7,
   "metadata": {},
   "outputs": [],
   "source": [
    "covid['youth'] = covid['Age_Group'].map(lambda x: youth(x))\n",
    "covid['20s'] = covid['Age_Group'].map(lambda x: twenties(x))\n",
    "covid['30s'] = covid['Age_Group'].map(lambda x: thirties(x))\n",
    "covid['40s'] = covid['Age_Group'].map(lambda x: fourties(x))\n",
    "covid['50s'] = covid['Age_Group'].map(lambda x: fifties(x))\n",
    "covid['60s'] = covid['Age_Group'].map(lambda x: sixties(x))\n",
    "covid['70s'] = covid['Age_Group'].map(lambda x: seventies(x))\n",
    "covid['80s'] = covid['Age_Group'].map(lambda x: eighties(x))\n",
    "covid['90s'] = covid['Age_Group'].map(lambda x: nineties(x))\n"
   ]
  },
  {
   "cell_type": "markdown",
   "metadata": {},
   "source": [
    "#### Re-organize covid data - Case Acquisition Info"
   ]
  },
  {
   "cell_type": "code",
   "execution_count": 9,
   "metadata": {},
   "outputs": [],
   "source": [
    "def contact(x):\n",
    "    if x == 'Contact of a confirmed case':\n",
    "        return 1\n",
    "    else:\n",
    "        return 0\n",
    "\n",
    "def neither(x):\n",
    "    if x == 'Neither':\n",
    "        return 1\n",
    "    else:\n",
    "        return 0\n",
    "\n",
    "def travel(x):\n",
    "    if x == 'Travel-Related':\n",
    "        return 1\n",
    "    else:\n",
    "        return 0\n",
    "\n"
   ]
  },
  {
   "cell_type": "code",
   "execution_count": 10,
   "metadata": {},
   "outputs": [],
   "source": [
    "covid['CONTACT'] = covid.Case_AcquisitionInfo.map(lambda x: contact(x))\n",
    "covid['NEITHER'] = covid.Case_AcquisitionInfo.map(lambda x: neither(x))\n",
    "covid['TRAVEL-RELATED'] = covid.Case_AcquisitionInfo.map(lambda x: travel(x))"
   ]
  },
  {
   "cell_type": "markdown",
   "metadata": {},
   "source": [
    "#### Re-organize covid data - Outcome"
   ]
  },
  {
   "cell_type": "code",
   "execution_count": 11,
   "metadata": {},
   "outputs": [],
   "source": [
    "def not_resolved(x):\n",
    "    if x == 'Not Resolved':\n",
    "        return 1\n",
    "    else:\n",
    "        return 0\n",
    "    \n",
    "def resolved(x):\n",
    "    if x == 'Resolved':\n",
    "        return 1\n",
    "    else:\n",
    "        return 0\n",
    "        \n",
    "def fatal(x):\n",
    "    if x == 'Fatal':\n",
    "        return 1\n",
    "    else:\n",
    "        return 0\n",
    "        "
   ]
  },
  {
   "cell_type": "code",
   "execution_count": 12,
   "metadata": {},
   "outputs": [],
   "source": [
    "covid['NOT-RESOLVED'] = covid.Outcome1.map(lambda x: not_resolved(x))\n",
    "covid['RESOLVED'] = covid.Outcome1.map(lambda x: resolved(x))\n",
    "covid['FATAL'] = covid.Outcome1.map(lambda x: fatal(x))"
   ]
  },
  {
   "cell_type": "markdown",
   "metadata": {},
   "source": [
    "#### Re-organize covid data - Gender"
   ]
  },
  {
   "cell_type": "code",
   "execution_count": 8,
   "metadata": {},
   "outputs": [
    {
     "data": {
      "text/plain": [
       "array(['FEMALE', 'MALE', 'UNKNOWN', 'TRANSGENDER', 'OTHER'], dtype=object)"
      ]
     },
     "execution_count": 8,
     "metadata": {},
     "output_type": "execute_result"
    }
   ],
   "source": [
    "covid.Client_Gender.unique()"
   ]
  },
  {
   "cell_type": "code",
   "execution_count": 15,
   "metadata": {},
   "outputs": [],
   "source": [
    "def female(x):\n",
    "    if x == \"FEMALE\":\n",
    "        return 1\n",
    "    else:\n",
    "        return 0\n",
    "    \n",
    "def male(x):\n",
    "    if x == \"MALE\":\n",
    "        return 1\n",
    "    else:\n",
    "        return 0\n",
    "    \n",
    "def transgender(x):\n",
    "    if x == \"TRANSGENDER\":\n",
    "        return 1\n",
    "    else:\n",
    "        return 0\n",
    "    \n",
    "def unknown(x):\n",
    "    if x == \"UNKNOWN\":\n",
    "        return 1\n",
    "    else:\n",
    "        return 0\n",
    "    \n",
    "def other(x):\n",
    "    if x == \"OTHER\":\n",
    "        return 1\n",
    "    else:\n",
    "        return 0"
   ]
  },
  {
   "cell_type": "code",
   "execution_count": 16,
   "metadata": {},
   "outputs": [],
   "source": [
    "covid['FEMALE'] = covid.Client_Gender.map(lambda x: female(x))\n",
    "covid['MALE'] = covid.Client_Gender.map(lambda x: male(x))\n",
    "covid['TRANSGENDER'] = covid.Client_Gender.map(lambda x: transgender(x))\n",
    "covid['UNKNOWN'] = covid.Client_Gender.map(lambda x: unknown(x))\n",
    "covid['OTHER'] = covid.Client_Gender.map(lambda x: other(x))"
   ]
  },
  {
   "cell_type": "markdown",
   "metadata": {},
   "source": [
    "### Get count data:\n",
    "---"
   ]
  },
  {
   "cell_type": "code",
   "execution_count": 17,
   "metadata": {},
   "outputs": [
    {
     "name": "stderr",
     "output_type": "stream",
     "text": [
      "//anaconda3/lib/python3.7/site-packages/ipykernel_launcher.py:1: FutureWarning: Indexing with multiple keys (implicitly converted to a tuple of keys) will be deprecated, use a list instead.\n",
      "  \"\"\"Entry point for launching an IPython kernel.\n"
     ]
    }
   ],
   "source": [
    "covid2 = covid.groupby('Reporting_PHU')['FEMALE', 'MALE', 'TRANSGENDER', 'UNKNOWN', 'OTHER',\n",
    "                               'CONTACT', 'NEITHER', 'TRAVEL-RELATED',\n",
    "                              'NOT-RESOLVED', 'RESOLVED', 'FATAL', \n",
    "                                       'youth', '20s', '30s', '40s', '50s', '60s',\n",
    "                                       '70s', '80s', '90s'].sum()"
   ]
  },
  {
   "cell_type": "code",
   "execution_count": 18,
   "metadata": {},
   "outputs": [],
   "source": [
    "covid2['TOTAL'] = covid.groupby('Reporting_PHU').size().to_list()"
   ]
  },
  {
   "cell_type": "code",
   "execution_count": 22,
   "metadata": {},
   "outputs": [],
   "source": [
    "covid2.to_csv('../data/covid_wrangled.csv')"
   ]
  }
 ],
 "metadata": {
  "kernelspec": {
   "display_name": "Python 3",
   "language": "python",
   "name": "python3"
  },
  "language_info": {
   "codemirror_mode": {
    "name": "ipython",
    "version": 3
   },
   "file_extension": ".py",
   "mimetype": "text/x-python",
   "name": "python",
   "nbconvert_exporter": "python",
   "pygments_lexer": "ipython3",
   "version": "3.7.4"
  }
 },
 "nbformat": 4,
 "nbformat_minor": 4
}
