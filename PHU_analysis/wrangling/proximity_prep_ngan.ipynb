{
 "cells": [
  {
   "cell_type": "code",
   "execution_count": 122,
   "metadata": {},
   "outputs": [],
   "source": [
    "import pandas as pd\n",
    "import re\n",
    "import numpy as np"
   ]
  },
  {
   "cell_type": "code",
   "execution_count": 107,
   "metadata": {},
   "outputs": [
    {
     "name": "stdout",
     "output_type": "stream",
     "text": [
      "<class 'pandas.core.frame.DataFrame'>\n",
      "RangeIndex: 489676 entries, 0 to 489675\n",
      "Data columns (total 34 columns):\n",
      "DBUID                 489676 non-null int64\n",
      "DBPOP                 489361 non-null object\n",
      "CSDUID                489676 non-null int64\n",
      "CSDNAME               489676 non-null object\n",
      "CSDTYPE               489676 non-null object\n",
      "CSDPOP                489361 non-null object\n",
      "PRUID                 489676 non-null int64\n",
      "PRNAME                489676 non-null object\n",
      "PRPOP                 489676 non-null object\n",
      "lon                   489676 non-null float64\n",
      "lat                   489676 non-null float64\n",
      "in_db_emp             489676 non-null object\n",
      "prox_idx_emp          489676 non-null object\n",
      "in_db_pharma          489676 non-null object\n",
      "prox_idx_pharma       489676 non-null object\n",
      "in_db_childcare       489676 non-null object\n",
      "prox_idx_childcare    489676 non-null object\n",
      "in_db_health          489676 non-null object\n",
      "prox_idx_health       489676 non-null object\n",
      "in_db_grocery         489676 non-null object\n",
      "prox_idx_grocery      489676 non-null object\n",
      "in_db_educpri         489676 non-null object\n",
      "prox_idx_educpri      489676 non-null object\n",
      "in_db_educsec         489676 non-null object\n",
      "prox_idx_educsec      489676 non-null object\n",
      "in_db_lib             489676 non-null object\n",
      "prox_idx_lib          489676 non-null object\n",
      "in_db_parks           489676 non-null object\n",
      "prox_idx_parks        489676 non-null object\n",
      "in_db_transit         489676 non-null object\n",
      "prox_idx_transit      489676 non-null object\n",
      "transit_na            489676 non-null int64\n",
      "amenity_dense         489676 non-null object\n",
      "suppressed            489676 non-null int64\n",
      "dtypes: float64(2), int64(5), object(27)\n",
      "memory usage: 127.0+ MB\n"
     ]
    }
   ],
   "source": [
    "# import proximity data\n",
    "list = [i for i in range(13,41)]\n",
    "df = pd.read_csv('PMD-en.csv', usecols=([0,1,4,5,6,7]+list))\n",
    "df.info()"
   ]
  },
  {
   "cell_type": "code",
   "execution_count": 114,
   "metadata": {},
   "outputs": [],
   "source": [
    "# drop in_db columns\n",
    "list_indb = ['in_db_emp', 'in_db_pharma', 'in_db_childcare', 'in_db_health', 'in_db_grocery', 'in_db_educpri', 'in_db_educsec', 'in_db_lib', 'in_db_parks', 'in_db_transit']\n",
    "df.drop(list_indb , axis = 1, inplace = True)"
   ]
  },
  {
   "cell_type": "code",
   "execution_count": 116,
   "metadata": {},
   "outputs": [
    {
     "name": "stdout",
     "output_type": "stream",
     "text": [
      "<class 'pandas.core.frame.DataFrame'>\n",
      "Int64Index: 133214 entries, 148270 to 281483\n",
      "Data columns (total 24 columns):\n",
      "DBUID                 133214 non-null int64\n",
      "DBPOP                 133103 non-null object\n",
      "CSDUID                133214 non-null int64\n",
      "CSDNAME               133214 non-null object\n",
      "CSDTYPE               133214 non-null object\n",
      "CSDPOP                133103 non-null object\n",
      "PRUID                 133214 non-null int64\n",
      "PRNAME                133214 non-null object\n",
      "PRPOP                 133214 non-null object\n",
      "lon                   133214 non-null float64\n",
      "lat                   133214 non-null float64\n",
      "prox_idx_emp          133214 non-null object\n",
      "prox_idx_pharma       133214 non-null object\n",
      "prox_idx_childcare    133214 non-null object\n",
      "prox_idx_health       133214 non-null object\n",
      "prox_idx_grocery      133214 non-null object\n",
      "prox_idx_educpri      133214 non-null object\n",
      "prox_idx_educsec      133214 non-null object\n",
      "prox_idx_lib          133214 non-null object\n",
      "prox_idx_parks        133214 non-null object\n",
      "prox_idx_transit      133214 non-null object\n",
      "transit_na            133214 non-null int64\n",
      "amenity_dense         133214 non-null object\n",
      "suppressed            133214 non-null int64\n",
      "dtypes: float64(2), int64(5), object(17)\n",
      "memory usage: 25.4+ MB\n"
     ]
    }
   ],
   "source": [
    "# filter for data from Ontario\n",
    "mask = df['PRNAME'] == 'Ontario'\n",
    "df_on = df[mask]\n",
    "df_on.info()"
   ]
  },
  {
   "cell_type": "code",
   "execution_count": 117,
   "metadata": {},
   "outputs": [
    {
     "name": "stdout",
     "output_type": "stream",
     "text": [
      "<class 'pandas.core.frame.DataFrame'>\n",
      "Int64Index: 132711 entries, 148270 to 281483\n",
      "Data columns (total 24 columns):\n",
      "DBUID                 132711 non-null int64\n",
      "DBPOP                 132602 non-null object\n",
      "CSDUID                132711 non-null int64\n",
      "CSDNAME               132711 non-null object\n",
      "CSDTYPE               132711 non-null object\n",
      "CSDPOP                132602 non-null object\n",
      "PRUID                 132711 non-null int64\n",
      "PRNAME                132711 non-null object\n",
      "PRPOP                 132711 non-null object\n",
      "lon                   132711 non-null float64\n",
      "lat                   132711 non-null float64\n",
      "prox_idx_emp          132711 non-null object\n",
      "prox_idx_pharma       132711 non-null object\n",
      "prox_idx_childcare    132711 non-null object\n",
      "prox_idx_health       132711 non-null object\n",
      "prox_idx_grocery      132711 non-null object\n",
      "prox_idx_educpri      132711 non-null object\n",
      "prox_idx_educsec      132711 non-null object\n",
      "prox_idx_lib          132711 non-null object\n",
      "prox_idx_parks        132711 non-null object\n",
      "prox_idx_transit      132711 non-null object\n",
      "transit_na            132711 non-null int64\n",
      "amenity_dense         132711 non-null object\n",
      "suppressed            132711 non-null int64\n",
      "dtypes: float64(2), int64(5), object(17)\n",
      "memory usage: 25.3+ MB\n"
     ]
    }
   ],
   "source": [
    "# remove rows with F\n",
    "df_on2 = df_on[df_on['prox_idx_emp'] != 'F']\n",
    "df_on2.info()"
   ]
  },
  {
   "cell_type": "code",
   "execution_count": 118,
   "metadata": {},
   "outputs": [
    {
     "name": "stderr",
     "output_type": "stream",
     "text": [
      "/Users/mds/anaconda3/lib/python3.7/site-packages/ipykernel_launcher.py:4: SettingWithCopyWarning: \n",
      "A value is trying to be set on a copy of a slice from a DataFrame.\n",
      "Try using .loc[row_indexer,col_indexer] = value instead\n",
      "\n",
      "See the caveats in the documentation: http://pandas.pydata.org/pandas-docs/stable/indexing.html#indexing-view-versus-copy\n",
      "  after removing the cwd from sys.path.\n"
     ]
    }
   ],
   "source": [
    "# remove commas from population columns\n",
    "list_pop = ['DBPOP', 'CSDPOP', 'PRPOP']\n",
    "for each in list_pop:\n",
    "    df_on2[each] = df_on2[each].str.replace(',', '')\n",
    "    "
   ]
  },
  {
   "cell_type": "code",
   "execution_count": 123,
   "metadata": {},
   "outputs": [],
   "source": [
    "# float(np.nan)\n",
    "# new = df_on2[\"prox_idx_emp\"].replace({\"..\":np.nan})\n",
    "# new.astype(float)\n",
    "# new.value_counts()\n",
    "# new.str.contains('F', regex=False, na=False)"
   ]
  },
  {
   "cell_type": "code",
   "execution_count": 119,
   "metadata": {},
   "outputs": [
    {
     "name": "stderr",
     "output_type": "stream",
     "text": [
      "/Users/mds/anaconda3/lib/python3.7/site-packages/ipykernel_launcher.py:7: SettingWithCopyWarning: \n",
      "A value is trying to be set on a copy of a slice from a DataFrame.\n",
      "Try using .loc[row_indexer,col_indexer] = value instead\n",
      "\n",
      "See the caveats in the documentation: http://pandas.pydata.org/pandas-docs/stable/indexing.html#indexing-view-versus-copy\n",
      "  import sys\n"
     ]
    }
   ],
   "source": [
    "# replace .. entries from proximity data columns with nan values\n",
    "list_prox = ['prox_idx_emp', 'prox_idx_pharma', 'prox_idx_childcare',\n",
    "             'prox_idx_health', 'prox_idx_grocery', 'prox_idx_educpri',\n",
    "             'prox_idx_educsec', 'prox_idx_lib', 'prox_idx_parks', \n",
    "             'prox_idx_transit']\n",
    "for each in list_prox:\n",
    "    df_on2[each] = df_on2[each].replace({\"..\":np.nan})\n"
   ]
  },
  {
   "cell_type": "code",
   "execution_count": 120,
   "metadata": {},
   "outputs": [
    {
     "name": "stdout",
     "output_type": "stream",
     "text": [
      "DBUID                  object\n",
      "DBPOP                 float64\n",
      "CSDUID                 object\n",
      "CSDNAME                object\n",
      "CSDTYPE                object\n",
      "CSDPOP                float64\n",
      "PRUID                   int64\n",
      "PRNAME                 object\n",
      "PRPOP                   int64\n",
      "lon                   float64\n",
      "lat                   float64\n",
      "prox_idx_emp          float64\n",
      "prox_idx_pharma       float64\n",
      "prox_idx_childcare    float64\n",
      "prox_idx_health       float64\n",
      "prox_idx_grocery      float64\n",
      "prox_idx_educpri      float64\n",
      "prox_idx_educsec      float64\n",
      "prox_idx_lib          float64\n",
      "prox_idx_parks        float64\n",
      "prox_idx_transit      float64\n",
      "transit_na              int64\n",
      "amenity_dense          object\n",
      "suppressed              int64\n",
      "dtype: object\n"
     ]
    }
   ],
   "source": [
    "# convert UID columns to strings\n",
    "df_on2[['DBUID', 'CSDUID']] = df_on2[['DBUID', 'CSDUID']].astype(str)\n",
    "\n",
    "# convert population columns to integer types\n",
    "df_on2[['DBPOP', 'CSDPOP', 'PRPOP']] = df_on2[['DBPOP', 'CSDPOP', 'PRPOP']].apply(pd.to_numeric) \n",
    "\n",
    "# convert proximity data columns to float type\n",
    "df_on2[list_prox] = df_on2[list_prox].astype(float)\n",
    "\n",
    "print(df_on2.dtypes) # check datatypes\n",
    "\n",
    "\n",
    "\n"
   ]
  },
  {
   "cell_type": "code",
   "execution_count": 121,
   "metadata": {},
   "outputs": [],
   "source": [
    "# export the proximity data\n",
    "df_on2.to_csv(r'prox_ontario_nan.csv', index = False)"
   ]
  }
 ],
 "metadata": {
  "kernelspec": {
   "display_name": "Python 3",
   "language": "python",
   "name": "python3"
  },
  "language_info": {
   "codemirror_mode": {
    "name": "ipython",
    "version": 3
   },
   "file_extension": ".py",
   "mimetype": "text/x-python",
   "name": "python",
   "nbconvert_exporter": "python",
   "pygments_lexer": "ipython3",
   "version": "3.7.4"
  }
 },
 "nbformat": 4,
 "nbformat_minor": 2
}
