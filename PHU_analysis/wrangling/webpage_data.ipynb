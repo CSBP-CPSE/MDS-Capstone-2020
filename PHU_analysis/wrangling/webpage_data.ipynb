{
 "cells": [
  {
   "cell_type": "markdown",
   "metadata": {},
   "source": [
    "# Metadata used for PHU map on webpage\n",
    "\n",
    "[Visualization](https://ubco-mds-2019-labs.github.io/data-599-capstone-statistics-canada/kt/)\n",
    "\n",
    "---"
   ]
  },
  {
   "cell_type": "code",
   "execution_count": 20,
   "metadata": {},
   "outputs": [],
   "source": [
    "import pandas as pd"
   ]
  },
  {
   "cell_type": "code",
   "execution_count": 21,
   "metadata": {},
   "outputs": [],
   "source": [
    "df = pd.read_csv('../data/clean/PHU_master_prop.csv')"
   ]
  },
  {
   "cell_type": "code",
   "execution_count": 46,
   "metadata": {},
   "outputs": [],
   "source": [
    "keep2 = ['HR_UID_x', 'Reporting_PHU', 'FATAL', 'TOTAL', 'DBPOP', 'TOTALprop', 'amenity', ]\n",
    "\n",
    "webpage = df.loc[:,keep2]"
   ]
  },
  {
   "cell_type": "code",
   "execution_count": 47,
   "metadata": {},
   "outputs": [],
   "source": [
    "webpage.loc[:,'TOTALprop'] = webpage.loc[:, 'TOTALprop'].map(lambda x: x*100000)"
   ]
  },
  {
   "cell_type": "code",
   "execution_count": 48,
   "metadata": {},
   "outputs": [],
   "source": [
    "webpage.rename(columns={'HR_UID_x' : 'HR_UID',\n",
    "                        'TOTALprop':'TOTAL_prop', \n",
    "                        'Reporting_PHU':'ENG_LABEL',\n",
    "                       'amenity':'amenity_dense'}, inplace = True)"
   ]
  },
  {
   "cell_type": "markdown",
   "metadata": {},
   "source": [
    "---\n",
    "**Incidence rate ratio:**\n",
    "\n",
    "$\\frac{count of exposed}{count of unexposed}$\n",
    "\n",
    "\n",
    "per 100,000\n",
    "\n",
    "AKA, case proportion (`TOTAL_prop`)\n",
    "\n",
    "---"
   ]
  },
  {
   "cell_type": "code",
   "execution_count": 26,
   "metadata": {},
   "outputs": [],
   "source": [
    "# webpage['incidence_RR'] = webpage.TOTAL/webpage.DBPOP*100000"
   ]
  },
  {
   "cell_type": "markdown",
   "metadata": {},
   "source": [
    "---\n",
    "**Case fatality ratio:**\n",
    "\n",
    "$\\frac{deaths}{confirmed cases}$\n",
    "\n",
    "per 100,000\n",
    "\n",
    "---"
   ]
  },
  {
   "cell_type": "code",
   "execution_count": 27,
   "metadata": {},
   "outputs": [],
   "source": [
    "# Calculate case fatality ratio\n",
    "webpage['fatality_ratio'] = webpage.FATAL/webpage.TOTAL"
   ]
  },
  {
   "cell_type": "code",
   "execution_count": 57,
   "metadata": {},
   "outputs": [],
   "source": [
    "# sort by amenity density ascending\n",
    "webpage.sort_values(by = 'amenity_dense', inplace = True)"
   ]
  },
  {
   "cell_type": "code",
   "execution_count": 58,
   "metadata": {},
   "outputs": [],
   "source": [
    "# set index to HRUID for map reference\n",
    "webpage.HR_UID = webpage.HR_UID.apply(int).apply(str)\n",
    "webpage.set_index('HR_UID', inplace = True)"
   ]
  },
  {
   "cell_type": "code",
   "execution_count": 59,
   "metadata": {},
   "outputs": [],
   "source": [
    "webpage.to_csv('../../docs/kt/data/phu_statistics.csv')"
   ]
  },
  {
   "cell_type": "code",
   "execution_count": null,
   "metadata": {},
   "outputs": [],
   "source": []
  }
 ],
 "metadata": {
  "kernelspec": {
   "display_name": "Python 3",
   "language": "python",
   "name": "python3"
  },
  "language_info": {
   "codemirror_mode": {
    "name": "ipython",
    "version": 3
   },
   "file_extension": ".py",
   "mimetype": "text/x-python",
   "name": "python",
   "nbconvert_exporter": "python",
   "pygments_lexer": "ipython3",
   "version": "3.7.4"
  }
 },
 "nbformat": 4,
 "nbformat_minor": 4
}
