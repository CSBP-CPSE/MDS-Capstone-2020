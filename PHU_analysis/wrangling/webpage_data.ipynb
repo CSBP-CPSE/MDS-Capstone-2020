{
 "cells": [
  {
   "cell_type": "markdown",
   "metadata": {},
   "source": [
    "# Metadata used for PHU map on webpage\n",
    "\n",
    "[Visualization](https://ubco-mds-2019-labs.github.io/data-599-capstone-statistics-canada/kt/)\n",
    "\n",
    "---"
   ]
  },
  {
   "cell_type": "code",
   "execution_count": 20,
   "metadata": {},
   "outputs": [],
   "source": [
    "import pandas as pd"
   ]
  },
  {
   "cell_type": "code",
   "execution_count": 21,
   "metadata": {},
   "outputs": [],
   "source": [
    "df = pd.read_csv('../data/clean/PHU_master_prop.csv')"
   ]
  },
  {
   "cell_type": "code",
   "execution_count": 22,
   "metadata": {},
   "outputs": [
    {
     "data": {
      "text/plain": [
       "Index(['Unnamed: 0', 'DBPOP', 'Reporting_PHU', 'Census', 'HR_UID_x', 'FATAL',\n",
       "       'TOTAL', 'TOTALprop', 'FATALprop', 'fid', 'DBUID', 'PRUID_x',\n",
       "       'CSDUID_x', 'CMAUID_x', 'CMAPUID_x', 'DAUID', 'lon', 'lat',\n",
       "       'prox_idx_emp', 'prox_idx_pharma', 'prox_idx_childcare',\n",
       "       'prox_idx_health', 'prox_idx_grocery', 'prox_idx_educpri',\n",
       "       'prox_idx_educsec', 'prox_idx_lib', 'prox_idx_parks',\n",
       "       'prox_idx_transit', 'amenity', 'Arthritis (15 years and over)',\n",
       "       'Asthma',\n",
       "       'Body mass index, adjusted self-reported, adult (18 years and over), obese',\n",
       "       'Body mass index, adjusted self-reported, adult (18 years and over), overweight',\n",
       "       'Body mass index, self-reported, youth (12 to 17 years old), overweight or obese',\n",
       "       'Breast milk feeding initiation',\n",
       "       'Chronic obstructive pulmonary disease (COPD; 35 years and over)',\n",
       "       'Current smoker, daily', 'Current smoker, daily or occasional',\n",
       "       'Diabetes', 'Exclusive breastfeeding, at least 6 months',\n",
       "       'Has a regular healthcare provider', 'Heavy drinking',\n",
       "       'High blood pressure', 'Influenza immunization in the past 12 months',\n",
       "       'Life satisfaction, satisfied or very satisfied', 'Mood disorder',\n",
       "       'Perceived health, fair or poor',\n",
       "       'Perceived health, very good or excellent',\n",
       "       'Perceived life stress, most days quite a bit or extremely stressful',\n",
       "       'Perceived mental health, fair or poor',\n",
       "       'Perceived mental health, very good or excellent',\n",
       "       'Physical activity, 150 minutes per week, adult (18 years and over)',\n",
       "       'Physical activity, average 60 minutes per day, youth (12 to 17 years old)',\n",
       "       'Sense of belonging to local community, somewhat strong or very strong'],\n",
       "      dtype='object')"
      ]
     },
     "execution_count": 22,
     "metadata": {},
     "output_type": "execute_result"
    }
   ],
   "source": [
    "df.columns"
   ]
  },
  {
   "cell_type": "code",
   "execution_count": 23,
   "metadata": {},
   "outputs": [],
   "source": [
    "keep2 = ['HR_UID_x', 'Reporting_PHU', 'FATAL', 'TOTAL', 'DBPOP', 'TOTALprop', 'amenity', ]\n",
    "\n",
    "webpage = df.loc[:,keep2]"
   ]
  },
  {
   "cell_type": "code",
   "execution_count": 24,
   "metadata": {},
   "outputs": [],
   "source": [
    "webpage.loc[:,'TOTALprop'] = webpage.loc[:, 'TOTALprop'].map(lambda x: x*100000)"
   ]
  },
  {
   "cell_type": "code",
   "execution_count": 29,
   "metadata": {},
   "outputs": [],
   "source": [
    "webpage.rename(columns={'HR_UID_x' : 'HR_UID',\n",
    "                        'TOTALprop':'TOTAL_prop', \n",
    "                        'Reporting_PHU':'ENG_LABEL',\n",
    "                       'amenity':'amenity_dense'}, inplace = True)"
   ]
  },
  {
   "cell_type": "markdown",
   "metadata": {},
   "source": [
    "---\n",
    "**Incidence rate ratio:**\n",
    "\n",
    "$\\frac{count of exposed}{count of unexposed}$\n",
    "\n",
    "\n",
    "per 100,000\n",
    "\n",
    "AKA, case proportion (`TOTAL_prop`)\n",
    "\n",
    "---"
   ]
  },
  {
   "cell_type": "code",
   "execution_count": 26,
   "metadata": {},
   "outputs": [],
   "source": [
    "# webpage['incidence_RR'] = webpage.TOTAL/webpage.DBPOP*100000"
   ]
  },
  {
   "cell_type": "markdown",
   "metadata": {},
   "source": [
    "---\n",
    "**Case fatality ratio:**\n",
    "\n",
    "$\\frac{deaths}{confirmed cases}$\n",
    "\n",
    "per 100,000\n",
    "\n",
    "---"
   ]
  },
  {
   "cell_type": "code",
   "execution_count": 27,
   "metadata": {},
   "outputs": [],
   "source": [
    "webpage['fatality_ratio'] = webpage.FATAL/webpage.TOTAL"
   ]
  },
  {
   "cell_type": "code",
   "execution_count": 30,
   "metadata": {},
   "outputs": [],
   "source": [
    "webpage.to_csv('../../docs/kt/data/phu_statistics.csv')"
   ]
  },
  {
   "cell_type": "code",
   "execution_count": null,
   "metadata": {},
   "outputs": [],
   "source": []
  }
 ],
 "metadata": {
  "kernelspec": {
   "display_name": "Python 3",
   "language": "python",
   "name": "python3"
  },
  "language_info": {
   "codemirror_mode": {
    "name": "ipython",
    "version": 3
   },
   "file_extension": ".py",
   "mimetype": "text/x-python",
   "name": "python",
   "nbconvert_exporter": "python",
   "pygments_lexer": "ipython3",
   "version": "3.7.4"
  }
 },
 "nbformat": 4,
 "nbformat_minor": 4
}
