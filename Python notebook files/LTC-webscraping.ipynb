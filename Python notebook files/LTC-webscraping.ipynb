{
 "cells": [
  {
   "cell_type": "markdown",
   "metadata": {},
   "source": [
    "## LTC Web Scraping\n",
    "\n",
    "[How Ontario is responding to Covid-19](https://www.ontario.ca/page/how-ontario-is-responding-covid-19)\n",
    "\n",
    "**Authors:** KT and Shreeram\n",
    "\n",
    "*Note:* must run selenium server in command prompt\n",
    "\n",
    "`java -jar /path/to/selenium-server`\n",
    "\n",
    "`java -jar /usr/local/bin/selenium-server-standalone-3.141.59.jar`\n",
    "\n",
    "must also have installed\n",
    "\n",
    "`brew cask install chromedriver`\n",
    "\n",
    "`brew cask install chromium`\n",
    "\n",
    "---"
   ]
  },
  {
   "cell_type": "code",
   "execution_count": 5,
   "metadata": {},
   "outputs": [],
   "source": [
    "import pandas as pd\n",
    "from bs4 import BeautifulSoup\n",
    "import requests\n",
    "r = requests.get('https://www.ontario.ca/page/how-ontario-is-responding-covid-19#section-1')\n",
    "s = BeautifulSoup(r.text,'html5lib')"
   ]
  },
  {
   "cell_type": "code",
   "execution_count": 6,
   "metadata": {},
   "outputs": [
    {
     "data": {
      "text/plain": [
       "{'User-Agent': 'python-requests/2.23.0', 'Accept-Encoding': 'gzip, deflate', 'Accept': '*/*', 'Connection': 'keep-alive'}"
      ]
     },
     "execution_count": 6,
     "metadata": {},
     "output_type": "execute_result"
    }
   ],
   "source": [
    "r.request.headers"
   ]
  },
  {
   "cell_type": "code",
   "execution_count": 7,
   "metadata": {},
   "outputs": [
    {
     "data": {
      "text/plain": [
       "'Thu, 07 May 2020 22:05:04 GMT'"
      ]
     },
     "execution_count": 7,
     "metadata": {},
     "output_type": "execute_result"
    }
   ],
   "source": [
    "r.headers['Last-Modified']"
   ]
  },
  {
   "cell_type": "markdown",
   "metadata": {},
   "source": [
    "#### Method 5: Selenium Server"
   ]
  },
  {
   "cell_type": "code",
   "execution_count": 11,
   "metadata": {},
   "outputs": [
    {
     "ename": "SessionNotCreatedException",
     "evalue": "Message: session not created: This version of ChromeDriver only supports Chrome version 81\nBuild info: version: '3.141.59', revision: 'e82be7d358', time: '2018-11-14T08:25:53'\nSystem info: host: 'KTs-MacBook-Pro.local', ip: 'fe80:0:0:0:1001:5c52:7fbd:2831%en0', os.name: 'Mac OS X', os.arch: 'x86_64', os.version: '10.14.6', java.version: '13'\nDriver info: driver.version: unknown\nremote stacktrace: 0   chromedriver                        0x0000000108c5c269 chromedriver + 4674153\n1   chromedriver                        0x0000000108bf6593 chromedriver + 4257171\n2   chromedriver                        0x000000010889ffcf chromedriver + 757711\n3   chromedriver                        0x00000001087fff89 chromedriver + 102281\n4   chromedriver                        0x00000001087fc1bc chromedriver + 86460\n5   chromedriver                        0x000000010882b3c3 chromedriver + 279491\n6   chromedriver                        0x00000001088281d3 chromedriver + 266707\n7   chromedriver                        0x00000001088021dd chromedriver + 111069\n8   chromedriver                        0x0000000108803185 chromedriver + 115077\n9   chromedriver                        0x0000000108c1dfff chromedriver + 4419583\n10  chromedriver                        0x0000000108c2b7ba chromedriver + 4474810\n11  chromedriver                        0x0000000108c2b557 chromedriver + 4474199\n12  chromedriver                        0x0000000108c02149 chromedriver + 4305225\n13  chromedriver                        0x0000000108c2c067 chromedriver + 4477031\n14  chromedriver                        0x0000000108c13d87 chromedriver + 4377991\n15  chromedriver                        0x0000000108c422d4 chromedriver + 4567764\n16  chromedriver                        0x0000000108c621f7 chromedriver + 4698615\n17  libsystem_pthread.dylib             0x00007fff77b072eb _pthread_body + 126\n18  libsystem_pthread.dylib             0x00007fff77b0a249 _pthread_start + 66\n19  libsystem_pthread.dylib             0x00007fff77b0640d thread_start + 13\n\nStacktrace:\n    at jdk.internal.reflect.NativeConstructorAccessorImpl.newInstance0 (NativeConstructorAccessorImpl.java:-2)\n    at jdk.internal.reflect.NativeConstructorAccessorImpl.newInstance (NativeConstructorAccessorImpl.java:62)\n    at jdk.internal.reflect.DelegatingConstructorAccessorImpl.newInstance (DelegatingConstructorAccessorImpl.java:45)\n    at java.lang.reflect.Constructor.newInstanceWithCaller (Constructor.java:500)\n    at java.lang.reflect.Constructor.newInstance (Constructor.java:481)\n    at org.openqa.selenium.remote.W3CHandshakeResponse.lambda$errorHandler$0 (W3CHandshakeResponse.java:62)\n    at org.openqa.selenium.remote.HandshakeResponse.lambda$getResponseFunction$0 (HandshakeResponse.java:30)\n    at org.openqa.selenium.remote.ProtocolHandshake.lambda$createSession$0 (ProtocolHandshake.java:126)\n    at java.util.stream.ReferencePipeline$3$1.accept (ReferencePipeline.java:195)\n    at java.util.Spliterators$ArraySpliterator.tryAdvance (Spliterators.java:958)\n    at java.util.stream.ReferencePipeline.forEachWithCancel (ReferencePipeline.java:127)\n    at java.util.stream.AbstractPipeline.copyIntoWithCancel (AbstractPipeline.java:502)\n    at java.util.stream.AbstractPipeline.copyInto (AbstractPipeline.java:488)\n    at java.util.stream.AbstractPipeline.wrapAndCopyInto (AbstractPipeline.java:474)\n    at java.util.stream.FindOps$FindOp.evaluateSequential (FindOps.java:150)\n    at java.util.stream.AbstractPipeline.evaluate (AbstractPipeline.java:234)\n    at java.util.stream.ReferencePipeline.findFirst (ReferencePipeline.java:543)\n    at org.openqa.selenium.remote.ProtocolHandshake.createSession (ProtocolHandshake.java:128)\n    at org.openqa.selenium.remote.ProtocolHandshake.createSession (ProtocolHandshake.java:74)\n    at org.openqa.selenium.grid.session.remote.RemoteSession$Factory.performHandshake (RemoteSession.java:147)\n    at org.openqa.selenium.grid.session.remote.ServicedSession$Factory.apply (ServicedSession.java:161)\n    at org.openqa.selenium.remote.server.ActiveSessionFactory.lambda$apply$12 (ActiveSessionFactory.java:180)\n    at java.util.stream.ReferencePipeline$3$1.accept (ReferencePipeline.java:195)\n    at java.util.stream.ReferencePipeline$11$1.accept (ReferencePipeline.java:442)\n    at java.util.stream.ReferencePipeline$2$1.accept (ReferencePipeline.java:177)\n    at java.util.Spliterators$ArraySpliterator.tryAdvance (Spliterators.java:958)\n    at java.util.stream.ReferencePipeline.forEachWithCancel (ReferencePipeline.java:127)\n    at java.util.stream.AbstractPipeline.copyIntoWithCancel (AbstractPipeline.java:502)\n    at java.util.stream.AbstractPipeline.copyInto (AbstractPipeline.java:488)\n    at java.util.stream.AbstractPipeline.wrapAndCopyInto (AbstractPipeline.java:474)\n    at java.util.stream.FindOps$FindOp.evaluateSequential (FindOps.java:150)\n    at java.util.stream.AbstractPipeline.evaluate (AbstractPipeline.java:234)\n    at java.util.stream.ReferencePipeline.findFirst (ReferencePipeline.java:543)\n    at org.openqa.selenium.remote.server.ActiveSessionFactory.apply (ActiveSessionFactory.java:183)\n    at org.openqa.selenium.remote.server.NewSessionPipeline.lambda$null$2 (NewSessionPipeline.java:66)\n    at java.util.stream.ReferencePipeline$3$1.accept (ReferencePipeline.java:195)\n    at java.util.stream.ReferencePipeline$2$1.accept (ReferencePipeline.java:177)\n    at java.util.Collections$2.tryAdvance (Collections.java:4747)\n    at java.util.stream.ReferencePipeline.forEachWithCancel (ReferencePipeline.java:127)\n    at java.util.stream.AbstractPipeline.copyIntoWithCancel (AbstractPipeline.java:502)\n    at java.util.stream.AbstractPipeline.copyInto (AbstractPipeline.java:488)\n    at java.util.stream.AbstractPipeline.wrapAndCopyInto (AbstractPipeline.java:474)\n    at java.util.stream.FindOps$FindOp.evaluateSequential (FindOps.java:150)\n    at java.util.stream.AbstractPipeline.evaluate (AbstractPipeline.java:234)\n    at java.util.stream.ReferencePipeline.findFirst (ReferencePipeline.java:543)\n    at org.openqa.selenium.remote.server.NewSessionPipeline.lambda$createNewSession$3 (NewSessionPipeline.java:69)\n    at java.util.stream.ReferencePipeline$3$1.accept (ReferencePipeline.java:195)\n    at java.util.stream.ReferencePipeline$3$1.accept (ReferencePipeline.java:195)\n    at java.util.stream.ReferencePipeline$3$1.accept (ReferencePipeline.java:195)\n    at java.util.stream.DistinctOps$1$2.accept (DistinctOps.java:174)\n    at java.util.stream.ReferencePipeline$2$1.accept (ReferencePipeline.java:177)\n    at java.util.stream.ReferencePipeline$3$1.accept (ReferencePipeline.java:195)\n    at java.util.stream.ReferencePipeline$2$1.accept (ReferencePipeline.java:177)\n    at java.util.stream.Streams$StreamBuilderImpl.tryAdvance (Streams.java:397)\n    at java.util.stream.Streams$ConcatSpliterator.tryAdvance (Streams.java:720)\n    at java.util.stream.ReferencePipeline.forEachWithCancel (ReferencePipeline.java:127)\n    at java.util.stream.AbstractPipeline.copyIntoWithCancel (AbstractPipeline.java:502)\n    at java.util.stream.AbstractPipeline.copyInto (AbstractPipeline.java:488)\n    at java.util.stream.AbstractPipeline.wrapAndCopyInto (AbstractPipeline.java:474)\n    at java.util.stream.FindOps$FindOp.evaluateSequential (FindOps.java:150)\n    at java.util.stream.AbstractPipeline.evaluate (AbstractPipeline.java:234)\n    at java.util.stream.ReferencePipeline.findFirst (ReferencePipeline.java:543)\n    at org.openqa.selenium.remote.server.NewSessionPipeline.createNewSession (NewSessionPipeline.java:72)\n    at org.openqa.selenium.remote.server.commandhandler.BeginSession.execute (BeginSession.java:65)\n    at org.openqa.selenium.remote.server.WebDriverServlet.lambda$handle$0 (WebDriverServlet.java:235)\n    at java.util.concurrent.Executors$RunnableAdapter.call (Executors.java:515)\n    at java.util.concurrent.FutureTask.run (FutureTask.java:264)\n    at java.util.concurrent.ThreadPoolExecutor.runWorker (ThreadPoolExecutor.java:1128)\n    at java.util.concurrent.ThreadPoolExecutor$Worker.run (ThreadPoolExecutor.java:628)\n    at java.lang.Thread.run (Thread.java:830)",
     "output_type": "error",
     "traceback": [
      "\u001b[0;31m---------------------------------------------------------------------------\u001b[0m",
      "\u001b[0;31mSessionNotCreatedException\u001b[0m                Traceback (most recent call last)",
      "\u001b[0;32m<ipython-input-11-e722e169f678>\u001b[0m in \u001b[0;36m<module>\u001b[0;34m\u001b[0m\n\u001b[1;32m      4\u001b[0m driver = webdriver.Remote(\n\u001b[1;32m      5\u001b[0m    \u001b[0mcommand_executor\u001b[0m\u001b[0;34m=\u001b[0m\u001b[0;34m'http://127.0.0.1:4444/wd/hub'\u001b[0m\u001b[0;34m,\u001b[0m\u001b[0;34m\u001b[0m\u001b[0;34m\u001b[0m\u001b[0m\n\u001b[0;32m----> 6\u001b[0;31m    desired_capabilities=DesiredCapabilities.CHROME)\n\u001b[0m",
      "\u001b[0;32m//anaconda3/lib/python3.7/site-packages/selenium/webdriver/remote/webdriver.py\u001b[0m in \u001b[0;36m__init__\u001b[0;34m(self, command_executor, desired_capabilities, browser_profile, proxy, keep_alive, file_detector, options)\u001b[0m\n\u001b[1;32m    155\u001b[0m             warnings.warn(\"Please use FirefoxOptions to set browser profile\",\n\u001b[1;32m    156\u001b[0m                           DeprecationWarning, stacklevel=2)\n\u001b[0;32m--> 157\u001b[0;31m         \u001b[0mself\u001b[0m\u001b[0;34m.\u001b[0m\u001b[0mstart_session\u001b[0m\u001b[0;34m(\u001b[0m\u001b[0mcapabilities\u001b[0m\u001b[0;34m,\u001b[0m \u001b[0mbrowser_profile\u001b[0m\u001b[0;34m)\u001b[0m\u001b[0;34m\u001b[0m\u001b[0;34m\u001b[0m\u001b[0m\n\u001b[0m\u001b[1;32m    158\u001b[0m         \u001b[0mself\u001b[0m\u001b[0;34m.\u001b[0m\u001b[0m_switch_to\u001b[0m \u001b[0;34m=\u001b[0m \u001b[0mSwitchTo\u001b[0m\u001b[0;34m(\u001b[0m\u001b[0mself\u001b[0m\u001b[0;34m)\u001b[0m\u001b[0;34m\u001b[0m\u001b[0;34m\u001b[0m\u001b[0m\n\u001b[1;32m    159\u001b[0m         \u001b[0mself\u001b[0m\u001b[0;34m.\u001b[0m\u001b[0m_mobile\u001b[0m \u001b[0;34m=\u001b[0m \u001b[0mMobile\u001b[0m\u001b[0;34m(\u001b[0m\u001b[0mself\u001b[0m\u001b[0;34m)\u001b[0m\u001b[0;34m\u001b[0m\u001b[0;34m\u001b[0m\u001b[0m\n",
      "\u001b[0;32m//anaconda3/lib/python3.7/site-packages/selenium/webdriver/remote/webdriver.py\u001b[0m in \u001b[0;36mstart_session\u001b[0;34m(self, capabilities, browser_profile)\u001b[0m\n\u001b[1;32m    250\u001b[0m         parameters = {\"capabilities\": w3c_caps,\n\u001b[1;32m    251\u001b[0m                       \"desiredCapabilities\": capabilities}\n\u001b[0;32m--> 252\u001b[0;31m         \u001b[0mresponse\u001b[0m \u001b[0;34m=\u001b[0m \u001b[0mself\u001b[0m\u001b[0;34m.\u001b[0m\u001b[0mexecute\u001b[0m\u001b[0;34m(\u001b[0m\u001b[0mCommand\u001b[0m\u001b[0;34m.\u001b[0m\u001b[0mNEW_SESSION\u001b[0m\u001b[0;34m,\u001b[0m \u001b[0mparameters\u001b[0m\u001b[0;34m)\u001b[0m\u001b[0;34m\u001b[0m\u001b[0;34m\u001b[0m\u001b[0m\n\u001b[0m\u001b[1;32m    253\u001b[0m         \u001b[0;32mif\u001b[0m \u001b[0;34m'sessionId'\u001b[0m \u001b[0;32mnot\u001b[0m \u001b[0;32min\u001b[0m \u001b[0mresponse\u001b[0m\u001b[0;34m:\u001b[0m\u001b[0;34m\u001b[0m\u001b[0;34m\u001b[0m\u001b[0m\n\u001b[1;32m    254\u001b[0m             \u001b[0mresponse\u001b[0m \u001b[0;34m=\u001b[0m \u001b[0mresponse\u001b[0m\u001b[0;34m[\u001b[0m\u001b[0;34m'value'\u001b[0m\u001b[0;34m]\u001b[0m\u001b[0;34m\u001b[0m\u001b[0;34m\u001b[0m\u001b[0m\n",
      "\u001b[0;32m//anaconda3/lib/python3.7/site-packages/selenium/webdriver/remote/webdriver.py\u001b[0m in \u001b[0;36mexecute\u001b[0;34m(self, driver_command, params)\u001b[0m\n\u001b[1;32m    319\u001b[0m         \u001b[0mresponse\u001b[0m \u001b[0;34m=\u001b[0m \u001b[0mself\u001b[0m\u001b[0;34m.\u001b[0m\u001b[0mcommand_executor\u001b[0m\u001b[0;34m.\u001b[0m\u001b[0mexecute\u001b[0m\u001b[0;34m(\u001b[0m\u001b[0mdriver_command\u001b[0m\u001b[0;34m,\u001b[0m \u001b[0mparams\u001b[0m\u001b[0;34m)\u001b[0m\u001b[0;34m\u001b[0m\u001b[0;34m\u001b[0m\u001b[0m\n\u001b[1;32m    320\u001b[0m         \u001b[0;32mif\u001b[0m \u001b[0mresponse\u001b[0m\u001b[0;34m:\u001b[0m\u001b[0;34m\u001b[0m\u001b[0;34m\u001b[0m\u001b[0m\n\u001b[0;32m--> 321\u001b[0;31m             \u001b[0mself\u001b[0m\u001b[0;34m.\u001b[0m\u001b[0merror_handler\u001b[0m\u001b[0;34m.\u001b[0m\u001b[0mcheck_response\u001b[0m\u001b[0;34m(\u001b[0m\u001b[0mresponse\u001b[0m\u001b[0;34m)\u001b[0m\u001b[0;34m\u001b[0m\u001b[0;34m\u001b[0m\u001b[0m\n\u001b[0m\u001b[1;32m    322\u001b[0m             response['value'] = self._unwrap_value(\n\u001b[1;32m    323\u001b[0m                 response.get('value', None))\n",
      "\u001b[0;32m//anaconda3/lib/python3.7/site-packages/selenium/webdriver/remote/errorhandler.py\u001b[0m in \u001b[0;36mcheck_response\u001b[0;34m(self, response)\u001b[0m\n\u001b[1;32m    240\u001b[0m                 \u001b[0malert_text\u001b[0m \u001b[0;34m=\u001b[0m \u001b[0mvalue\u001b[0m\u001b[0;34m[\u001b[0m\u001b[0;34m'alert'\u001b[0m\u001b[0;34m]\u001b[0m\u001b[0;34m.\u001b[0m\u001b[0mget\u001b[0m\u001b[0;34m(\u001b[0m\u001b[0;34m'text'\u001b[0m\u001b[0;34m)\u001b[0m\u001b[0;34m\u001b[0m\u001b[0;34m\u001b[0m\u001b[0m\n\u001b[1;32m    241\u001b[0m             \u001b[0;32mraise\u001b[0m \u001b[0mexception_class\u001b[0m\u001b[0;34m(\u001b[0m\u001b[0mmessage\u001b[0m\u001b[0;34m,\u001b[0m \u001b[0mscreen\u001b[0m\u001b[0;34m,\u001b[0m \u001b[0mstacktrace\u001b[0m\u001b[0;34m,\u001b[0m \u001b[0malert_text\u001b[0m\u001b[0;34m)\u001b[0m\u001b[0;34m\u001b[0m\u001b[0;34m\u001b[0m\u001b[0m\n\u001b[0;32m--> 242\u001b[0;31m         \u001b[0;32mraise\u001b[0m \u001b[0mexception_class\u001b[0m\u001b[0;34m(\u001b[0m\u001b[0mmessage\u001b[0m\u001b[0;34m,\u001b[0m \u001b[0mscreen\u001b[0m\u001b[0;34m,\u001b[0m \u001b[0mstacktrace\u001b[0m\u001b[0;34m)\u001b[0m\u001b[0;34m\u001b[0m\u001b[0;34m\u001b[0m\u001b[0m\n\u001b[0m\u001b[1;32m    243\u001b[0m \u001b[0;34m\u001b[0m\u001b[0m\n\u001b[1;32m    244\u001b[0m     \u001b[0;32mdef\u001b[0m \u001b[0m_value_or_default\u001b[0m\u001b[0;34m(\u001b[0m\u001b[0mself\u001b[0m\u001b[0;34m,\u001b[0m \u001b[0mobj\u001b[0m\u001b[0;34m,\u001b[0m \u001b[0mkey\u001b[0m\u001b[0;34m,\u001b[0m \u001b[0mdefault\u001b[0m\u001b[0;34m)\u001b[0m\u001b[0;34m:\u001b[0m\u001b[0;34m\u001b[0m\u001b[0;34m\u001b[0m\u001b[0m\n",
      "\u001b[0;31mSessionNotCreatedException\u001b[0m: Message: session not created: This version of ChromeDriver only supports Chrome version 81\nBuild info: version: '3.141.59', revision: 'e82be7d358', time: '2018-11-14T08:25:53'\nSystem info: host: 'KTs-MacBook-Pro.local', ip: 'fe80:0:0:0:1001:5c52:7fbd:2831%en0', os.name: 'Mac OS X', os.arch: 'x86_64', os.version: '10.14.6', java.version: '13'\nDriver info: driver.version: unknown\nremote stacktrace: 0   chromedriver                        0x0000000108c5c269 chromedriver + 4674153\n1   chromedriver                        0x0000000108bf6593 chromedriver + 4257171\n2   chromedriver                        0x000000010889ffcf chromedriver + 757711\n3   chromedriver                        0x00000001087fff89 chromedriver + 102281\n4   chromedriver                        0x00000001087fc1bc chromedriver + 86460\n5   chromedriver                        0x000000010882b3c3 chromedriver + 279491\n6   chromedriver                        0x00000001088281d3 chromedriver + 266707\n7   chromedriver                        0x00000001088021dd chromedriver + 111069\n8   chromedriver                        0x0000000108803185 chromedriver + 115077\n9   chromedriver                        0x0000000108c1dfff chromedriver + 4419583\n10  chromedriver                        0x0000000108c2b7ba chromedriver + 4474810\n11  chromedriver                        0x0000000108c2b557 chromedriver + 4474199\n12  chromedriver                        0x0000000108c02149 chromedriver + 4305225\n13  chromedriver                        0x0000000108c2c067 chromedriver + 4477031\n14  chromedriver                        0x0000000108c13d87 chromedriver + 4377991\n15  chromedriver                        0x0000000108c422d4 chromedriver + 4567764\n16  chromedriver                        0x0000000108c621f7 chromedriver + 4698615\n17  libsystem_pthread.dylib             0x00007fff77b072eb _pthread_body + 126\n18  libsystem_pthread.dylib             0x00007fff77b0a249 _pthread_start + 66\n19  libsystem_pthread.dylib             0x00007fff77b0640d thread_start + 13\n\nStacktrace:\n    at jdk.internal.reflect.NativeConstructorAccessorImpl.newInstance0 (NativeConstructorAccessorImpl.java:-2)\n    at jdk.internal.reflect.NativeConstructorAccessorImpl.newInstance (NativeConstructorAccessorImpl.java:62)\n    at jdk.internal.reflect.DelegatingConstructorAccessorImpl.newInstance (DelegatingConstructorAccessorImpl.java:45)\n    at java.lang.reflect.Constructor.newInstanceWithCaller (Constructor.java:500)\n    at java.lang.reflect.Constructor.newInstance (Constructor.java:481)\n    at org.openqa.selenium.remote.W3CHandshakeResponse.lambda$errorHandler$0 (W3CHandshakeResponse.java:62)\n    at org.openqa.selenium.remote.HandshakeResponse.lambda$getResponseFunction$0 (HandshakeResponse.java:30)\n    at org.openqa.selenium.remote.ProtocolHandshake.lambda$createSession$0 (ProtocolHandshake.java:126)\n    at java.util.stream.ReferencePipeline$3$1.accept (ReferencePipeline.java:195)\n    at java.util.Spliterators$ArraySpliterator.tryAdvance (Spliterators.java:958)\n    at java.util.stream.ReferencePipeline.forEachWithCancel (ReferencePipeline.java:127)\n    at java.util.stream.AbstractPipeline.copyIntoWithCancel (AbstractPipeline.java:502)\n    at java.util.stream.AbstractPipeline.copyInto (AbstractPipeline.java:488)\n    at java.util.stream.AbstractPipeline.wrapAndCopyInto (AbstractPipeline.java:474)\n    at java.util.stream.FindOps$FindOp.evaluateSequential (FindOps.java:150)\n    at java.util.stream.AbstractPipeline.evaluate (AbstractPipeline.java:234)\n    at java.util.stream.ReferencePipeline.findFirst (ReferencePipeline.java:543)\n    at org.openqa.selenium.remote.ProtocolHandshake.createSession (ProtocolHandshake.java:128)\n    at org.openqa.selenium.remote.ProtocolHandshake.createSession (ProtocolHandshake.java:74)\n    at org.openqa.selenium.grid.session.remote.RemoteSession$Factory.performHandshake (RemoteSession.java:147)\n    at org.openqa.selenium.grid.session.remote.ServicedSession$Factory.apply (ServicedSession.java:161)\n    at org.openqa.selenium.remote.server.ActiveSessionFactory.lambda$apply$12 (ActiveSessionFactory.java:180)\n    at java.util.stream.ReferencePipeline$3$1.accept (ReferencePipeline.java:195)\n    at java.util.stream.ReferencePipeline$11$1.accept (ReferencePipeline.java:442)\n    at java.util.stream.ReferencePipeline$2$1.accept (ReferencePipeline.java:177)\n    at java.util.Spliterators$ArraySpliterator.tryAdvance (Spliterators.java:958)\n    at java.util.stream.ReferencePipeline.forEachWithCancel (ReferencePipeline.java:127)\n    at java.util.stream.AbstractPipeline.copyIntoWithCancel (AbstractPipeline.java:502)\n    at java.util.stream.AbstractPipeline.copyInto (AbstractPipeline.java:488)\n    at java.util.stream.AbstractPipeline.wrapAndCopyInto (AbstractPipeline.java:474)\n    at java.util.stream.FindOps$FindOp.evaluateSequential (FindOps.java:150)\n    at java.util.stream.AbstractPipeline.evaluate (AbstractPipeline.java:234)\n    at java.util.stream.ReferencePipeline.findFirst (ReferencePipeline.java:543)\n    at org.openqa.selenium.remote.server.ActiveSessionFactory.apply (ActiveSessionFactory.java:183)\n    at org.openqa.selenium.remote.server.NewSessionPipeline.lambda$null$2 (NewSessionPipeline.java:66)\n    at java.util.stream.ReferencePipeline$3$1.accept (ReferencePipeline.java:195)\n    at java.util.stream.ReferencePipeline$2$1.accept (ReferencePipeline.java:177)\n    at java.util.Collections$2.tryAdvance (Collections.java:4747)\n    at java.util.stream.ReferencePipeline.forEachWithCancel (ReferencePipeline.java:127)\n    at java.util.stream.AbstractPipeline.copyIntoWithCancel (AbstractPipeline.java:502)\n    at java.util.stream.AbstractPipeline.copyInto (AbstractPipeline.java:488)\n    at java.util.stream.AbstractPipeline.wrapAndCopyInto (AbstractPipeline.java:474)\n    at java.util.stream.FindOps$FindOp.evaluateSequential (FindOps.java:150)\n    at java.util.stream.AbstractPipeline.evaluate (AbstractPipeline.java:234)\n    at java.util.stream.ReferencePipeline.findFirst (ReferencePipeline.java:543)\n    at org.openqa.selenium.remote.server.NewSessionPipeline.lambda$createNewSession$3 (NewSessionPipeline.java:69)\n    at java.util.stream.ReferencePipeline$3$1.accept (ReferencePipeline.java:195)\n    at java.util.stream.ReferencePipeline$3$1.accept (ReferencePipeline.java:195)\n    at java.util.stream.ReferencePipeline$3$1.accept (ReferencePipeline.java:195)\n    at java.util.stream.DistinctOps$1$2.accept (DistinctOps.java:174)\n    at java.util.stream.ReferencePipeline$2$1.accept (ReferencePipeline.java:177)\n    at java.util.stream.ReferencePipeline$3$1.accept (ReferencePipeline.java:195)\n    at java.util.stream.ReferencePipeline$2$1.accept (ReferencePipeline.java:177)\n    at java.util.stream.Streams$StreamBuilderImpl.tryAdvance (Streams.java:397)\n    at java.util.stream.Streams$ConcatSpliterator.tryAdvance (Streams.java:720)\n    at java.util.stream.ReferencePipeline.forEachWithCancel (ReferencePipeline.java:127)\n    at java.util.stream.AbstractPipeline.copyIntoWithCancel (AbstractPipeline.java:502)\n    at java.util.stream.AbstractPipeline.copyInto (AbstractPipeline.java:488)\n    at java.util.stream.AbstractPipeline.wrapAndCopyInto (AbstractPipeline.java:474)\n    at java.util.stream.FindOps$FindOp.evaluateSequential (FindOps.java:150)\n    at java.util.stream.AbstractPipeline.evaluate (AbstractPipeline.java:234)\n    at java.util.stream.ReferencePipeline.findFirst (ReferencePipeline.java:543)\n    at org.openqa.selenium.remote.server.NewSessionPipeline.createNewSession (NewSessionPipeline.java:72)\n    at org.openqa.selenium.remote.server.commandhandler.BeginSession.execute (BeginSession.java:65)\n    at org.openqa.selenium.remote.server.WebDriverServlet.lambda$handle$0 (WebDriverServlet.java:235)\n    at java.util.concurrent.Executors$RunnableAdapter.call (Executors.java:515)\n    at java.util.concurrent.FutureTask.run (FutureTask.java:264)\n    at java.util.concurrent.ThreadPoolExecutor.runWorker (ThreadPoolExecutor.java:1128)\n    at java.util.concurrent.ThreadPoolExecutor$Worker.run (ThreadPoolExecutor.java:628)\n    at java.lang.Thread.run (Thread.java:830)"
     ]
    }
   ],
   "source": [
    "from selenium import webdriver\n",
    "from selenium.webdriver.common.desired_capabilities import DesiredCapabilities\n",
    "\n",
    "driver = webdriver.Remote(\n",
    "   command_executor='http://127.0.0.1:4444/wd/hub',\n",
    "   desired_capabilities=DesiredCapabilities.CHROME)"
   ]
  },
  {
   "cell_type": "code",
   "execution_count": null,
   "metadata": {},
   "outputs": [],
   "source": [
    "my_url = 'https://www.ontario.ca/page/how-ontario-is-responding-covid-19#section-1'\n",
    "driver.get(my_url)"
   ]
  },
  {
   "cell_type": "code",
   "execution_count": null,
   "metadata": {},
   "outputs": [],
   "source": [
    "df = pd.read_html(driver.page_source)[3]\n",
    "df2 = pd.read_html(driver.page_source)[4]"
   ]
  },
  {
   "cell_type": "code",
   "execution_count": null,
   "metadata": {},
   "outputs": [],
   "source": [
    "df.to_csv('ltc-active_secondScrape.csv')\n",
    "df2.to_csv('ltc-inactive_secondScrape.csv')"
   ]
  },
  {
   "cell_type": "code",
   "execution_count": null,
   "metadata": {},
   "outputs": [],
   "source": [
    "df2['Status'] = 'Inactive'"
   ]
  },
  {
   "cell_type": "code",
   "execution_count": null,
   "metadata": {},
   "outputs": [],
   "source": [
    "df['Status'] = 'Active'"
   ]
  },
  {
   "cell_type": "code",
   "execution_count": null,
   "metadata": {},
   "outputs": [],
   "source": [
    "all_ltc = df.append(df2)"
   ]
  },
  {
   "cell_type": "code",
   "execution_count": null,
   "metadata": {},
   "outputs": [],
   "source": [
    "all_ltc.to_csv('../data/merged_ltc_secondScrape.csv')"
   ]
  },
  {
   "cell_type": "markdown",
   "metadata": {},
   "source": [
    "---\n",
    "# Other Attempts:\n",
    "\n",
    "---"
   ]
  },
  {
   "cell_type": "markdown",
   "metadata": {},
   "source": [
    "#### Methods 1: Firefox driver with options and binary"
   ]
  },
  {
   "cell_type": "code",
   "execution_count": null,
   "metadata": {},
   "outputs": [],
   "source": [
    "import selenium \n",
    "from selenium.webdriver.firefox.options import Options\n",
    "from selenium.webdriver.firefox.firefox_binary import FirefoxBinary\n",
    "\n",
    "options = Options()\n",
    "options.binary_location = FirefoxBinary('/usr/local/bin')\n",
    "selenium.webdriver.firefox.webdriver.WebDriver(firefox_options=options)"
   ]
  },
  {
   "cell_type": "markdown",
   "metadata": {},
   "source": [
    "#### Methods 2: Firefox driver with binary and desired capabilities"
   ]
  },
  {
   "cell_type": "code",
   "execution_count": null,
   "metadata": {
    "scrolled": true
   },
   "outputs": [],
   "source": [
    "from selenium.webdriver.firefox.firefox_binary import FirefoxBinary\n",
    "from selenium.webdriver.common.desired_capabilities import DesiredCapabilities\n",
    "\n",
    "cap = DesiredCapabilities().FIREFOX\n",
    "cap[\"marionette\"] = False\n",
    "browser = webdriver.Firefox(capabilities=cap, executable_path=\"/usr/local/bin/geckodriver.exe\")\n",
    "browser.get(my_url)\n",
    "browser.quit()"
   ]
  },
  {
   "cell_type": "markdown",
   "metadata": {},
   "source": [
    "#### Methods 3: Firefox driver"
   ]
  },
  {
   "cell_type": "code",
   "execution_count": null,
   "metadata": {
    "scrolled": true
   },
   "outputs": [],
   "source": [
    "with webdriver.Firefox() as driver:\n",
    "    driver.get('my_url')\n",
    "    tds = driver.get_element_by_tag_name('table')\n",
    "    for i in range(0, len(table)):\n",
    "        bs = bs4.BeautifulSoup(i, 'html.parser')\n",
    "        print(bs)"
   ]
  },
  {
   "cell_type": "markdown",
   "metadata": {},
   "source": [
    "#### Methods 4: Faking a browser visit"
   ]
  },
  {
   "cell_type": "code",
   "execution_count": null,
   "metadata": {},
   "outputs": [],
   "source": [
    "import requests\n",
    "\n",
    "headers = {'User-Agent': 'Mozilla/5.0 (Macintosh; Intel Mac OS X 10_10_1) AppleWebKit/537.36 (KHTML, like Gecko) Chrome/39.0.2171.95 Safari/537.36'}\n",
    "\n",
    "response = requests.get(my_url, headers=headers)\n",
    "print(response.content)"
   ]
  },
  {
   "cell_type": "code",
   "execution_count": null,
   "metadata": {},
   "outputs": [],
   "source": [
    "profile = webdriver.FirefoxProfile('/usr/local/bin')\n",
    "driver = webdriver.Firefox(profile)"
   ]
  },
  {
   "cell_type": "code",
   "execution_count": null,
   "metadata": {},
   "outputs": [],
   "source": [
    "s"
   ]
  }
 ],
 "metadata": {
  "kernelspec": {
   "display_name": "Python 3",
   "language": "python",
   "name": "python3"
  },
  "language_info": {
   "codemirror_mode": {
    "name": "ipython",
    "version": 3
   },
   "file_extension": ".py",
   "mimetype": "text/x-python",
   "name": "python",
   "nbconvert_exporter": "python",
   "pygments_lexer": "ipython3",
   "version": "3.7.4"
  }
 },
 "nbformat": 4,
 "nbformat_minor": 4
}
