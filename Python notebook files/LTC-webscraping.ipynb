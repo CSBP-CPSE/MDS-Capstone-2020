{
 "cells": [
  {
   "cell_type": "markdown",
   "metadata": {},
   "source": [
    "## LTC Web Scraping\n",
    "\n",
    "[How Ontario is responding to Covid-19](https://www.ontario.ca/page/how-ontario-is-responding-covid-19)\n",
    "\n",
    "**Authors:** KT and Shreeram\n",
    "\n",
    "---"
   ]
  },
  {
   "cell_type": "code",
   "execution_count": 31,
   "metadata": {},
   "outputs": [],
   "source": [
    "from bs4 import BeautifulSoup\n",
    "import requests\n",
    "r = requests.get('https://www.ontario.ca/page/how-ontario-is-responding-covid-19#section-1')\n",
    "s = BeautifulSoup(r.text,'html5lib')"
   ]
  },
  {
   "cell_type": "code",
   "execution_count": 32,
   "metadata": {},
   "outputs": [
    {
     "data": {
      "text/plain": [
       "'OK'"
      ]
     },
     "execution_count": 32,
     "metadata": {},
     "output_type": "execute_result"
    }
   ],
   "source": [
    "r.reason"
   ]
  },
  {
   "cell_type": "code",
   "execution_count": 33,
   "metadata": {},
   "outputs": [
    {
     "data": {
      "text/plain": [
       "{'User-Agent': 'python-requests/2.23.0', 'Accept-Encoding': 'gzip, deflate', 'Accept': '*/*', 'Connection': 'keep-alive'}"
      ]
     },
     "execution_count": 33,
     "metadata": {},
     "output_type": "execute_result"
    }
   ],
   "source": [
    "r.request.headers"
   ]
  },
  {
   "cell_type": "code",
   "execution_count": 34,
   "metadata": {},
   "outputs": [
    {
     "data": {
      "text/plain": [
       "<!DOCTYPE html>\n",
       "<html class=\"no-js\" lang=\"en\"><head> <meta charset=\"utf-8\"/> <meta content=\"width=device-width,initial-scale=1\" name=\"viewport\"/> <meta content=\"IE=edge\" http-equiv=\"X-UA-Compatible\"/> <meta content=\"0f38a1022cdb82bc265752c28d3c370df5c9dafd\" name=\"sha\"/> <title></title> <base href=\"/\"/> <link href=\"/css/combined.css\" media=\"screen\" rel=\"stylesheet\"/> <link href=\"/css/print.css\" media=\"print\" rel=\"stylesheet\"/> <script src=\"/vendor/modernizr/modernizr.js\"></script> <script>!function(a,e,o,n,c,i,t){a.GoogleAnalyticsObject=c,a.ga=a.ga||function(){(a.ga.q=a.ga.q||[]).push(arguments)},a.ga.l=1*new Date,i=e.createElement(o),t=e.getElementsByTagName(o)[0],i.async=1,i.src=\"//www.google-analytics.com/analytics.js\",t.parentNode.insertBefore(i,t)}(window,document,\"script\",0,\"ga\"),ga(\"create\",\"UA-21003310-6\",{cookieDomain:\"auto\",allowLinker:!0}),ga(\"create\",\"UA-48649528-1\",{cookieDomain:\"auto\",allowLinker:!0,name:\"ServiceOntario\"}),ga(\"require\",\"linker\"),ga(\"linker:autoLink\",[\"serviceontario.ca\",\"services.gov.on.ca\",\"appmybizaccount.gov.on.ca\",\"appointments.gov.on.ca\",\"personalproperty.gov.on.ca\",\"orgforms.gov.on.ca\",\"services1.gov.on.ca\"])</script> <link href=\"/img/favicon.ico\" rel=\"icon\" type=\"image/x-icon\"/> <link href=\"/img/favicon.ico\" rel=\"shortcut icon\" type=\"image/x-icon\"/> <link class=\"hreflang\"/> <link class=\"hreflang-alt\"/> <!-- Bing webmaster tools --> <meta content=\"1458065E1A4468FEAE68FAF332D18764\" name=\"msvalidate.01\"/> <script async=\"\" defer=\"defer\" src=\"https://www.google.com/recaptcha/api.js?render=explicit\"></script> </head> <body class=\"node-{{ mainController.node.content.id }}\" ng-app=\"onesite.app\" ng-class=\"{\n",
       "          'static splash': mainController.node.content.type === 'splash',\n",
       "          'static home-page': mainController.node.content.type === 'homepage'\n",
       "        }\" ng-cloak=\"\" ng-controller=\"MainController as mainController\"> <div class=\"emergency-banner emergency-banner--covid\" ng-cloak=\"\" ng-show=\"['53966','53967'].includes(mainController.node.content.id) === false\n",
       "         &amp;&amp; mainController.node.content.type !== 'splash'\n",
       "         &amp;&amp; mainController.node.content.type != null\"> <div class=\"row\"> <div class=\"small-12 columns emergency-banner__icon\" ng-switch=\"mainController.node.content.lang\"> <div ng-switch-when=\"fr\"> <p> <img alt=\"\" aria-hidden=\"true\" class=\"emergency-banner__warning\" role=\"presentation\" src=\"/img/assets/icon-alert-warning-white.svg\"/> COVID-19 : Obtenez les <a analytics-category=\"Header\" analytics-event=\"Covid-19\" analytics-label=\"derniÃ¨res mises Ã  jour||https://covid-19.ontario.ca/fr/index.fr.html\" analytics-on=\"\" href=\"//covid-19.ontario.ca/fr/index.fr.html\">derniÃ¨res mises Ã  jour</a> ou faites une <a analytics-category=\"Header\" analytics-event=\"Covid-19\" analytics-label=\"autoÃ©valuation||https://covid-19.ontario.ca/autoevaluation\" analytics-on=\"\" href=\"//covid-19.ontario.ca/autoevaluation/\">autoÃ©valuation</a>. </p> </div> <div ng-switch-default=\"\"> <p> <img alt=\"\" aria-hidden=\"true\" class=\"emergency-banner__warning\" role=\"presentation\" src=\"/img/assets/icon-alert-warning-white.svg\"/> COVID-19: Get the <a analytics-category=\"Header\" analytics-event=\"Covid-19\" analytics-label=\"latest updates||https://covid-19.ontario.ca\" analytics-on=\"\" href=\"//covid-19.ontario.ca/\">latest updates</a> or take a <a analytics-category=\"Header\" analytics-event=\"Covid-19\" analytics-label=\"self-assessment||https://covid-19.ontario.ca/self-assessment\" analytics-on=\"\" href=\"//covid-19.ontario.ca/self-assessment/\">self-assessment</a>. </p> </div> </div> </div> </div> <noscript> <header> <div class=\"row expanded\"> <div class=\"small-12 columns\"> <div class=\"iconWrapperLongNoBg iconLogoHeader\"> <img alt=\"Government of Ontario | Gouvernement de lâOntario\" class=\"site-logo\" ng-src=\"/img/logo-ontario@2x.png\" src=\"/img/logo-ontario@2x.png\"/> </div> </div> </div> </header> <main style=\"margin-top:1em\"> <div class=\"row\"> <div class=\"small-9 columns\" lang=\"en\"> <h1>JavaScript is required to view this site</h1> <p>Ontario.ca needs JavaScript to function properly and provide you with a fast, stable experience. Please enable JavaScript or check your browser's settings.</p> </div> <div class=\"small-12 columns\" lang=\"fr\"> <h1>JavaScript est nÃ©cessaire pour ce site</h1> <p>Le site Ontario.ca exige JavaScript pour fonctionner comme il faut, avec rapiditÃ© et stabilitÃ©. Veuillez activer JavaScript ou vÃ©rifier les paramÃ¨tres de votre navigateur.</p> </div> </div> </main> </noscript> <!--\n",
       "      Skip link that appears on focus, don't add to select language page or search\n",
       "    --> <div class=\"row\" ng-if=\"mainController.node.content.params.contentType !== '#!'\"> <div class=\"columns center small-3 small-centered\"> <a class=\"show-on-focus skip-link\" href=\"{{mainController.node.content.params.alias}}#ng-view\" id=\"skip-link\" ng-if=\"mainController.node.content.params.contentType !== 'searchResults'\" target=\"_self\"> {{ 'Skip to main content' | translate }} </a> <!--\n",
       "          For all search related pages, i.e. main search, trade calendar, gazette,\n",
       "          orders in council, data catalogue, land registration, etc.\n",
       "\n",
       "          With this implementation, the skip link will only work on the first click\n",
       "          and will benefit mostly when a user clicks a search page with a query already\n",
       "          in the URL. This is a workaround since the mainController doesn't have access\n",
       "          to updated queries.\n",
       "        --> <a class=\"show-on-focus skip-link\" href=\"#ng-view\" id=\"skip-link\" ng-if=\"mainController.node.content.params.contentType === 'searchResults'\"> {{ 'Skip to main content' | translate }} </a> </div> </div> <onesite-header content-node=\"mainController.node.content\" id=\"ng-view-header\" ng-show=\"mainController.node.content.headerType\" role=\"banner\" search=\"mainController.search\" update=\"mainController.update\"> </onesite-header> <div class=\"ie10\" id=\"ie10\" style=\"margin-bottom:0\"> <div class=\"row small\"> <div class=\"small-1 columns\"> <img alt=\"\" class=\"top-margin-half\" src=\"https://files.ontario.ca/banner-icon-alert-xsmall.png\"/> </div> <div class=\"small-11 columns\"> <p lang=\"en\"> You are using an outdated browser that is no longer supported by Ontario.ca. <br/>Outdated browsers lack safety features that keep your information secure, and they can also be slow. <br/><a href=\"/page/browsers\">Learn about the browsers we support.</a> </p> <p lang=\"fr\" style=\"margin-bottom:0\"> Vous utilisez un navigateur dÃ©suet qui nâest plus acceptÃ© par Ontario.ca. <br/>Les navigateurs dÃ©suets ne disposent pas de caractÃ©ristiques sÃ©curitaires permettant dâassurer la sÃ©curitÃ© de vos renseignements. <br/><a href=\"/fr/page/navigateurs\">En savoir plus sur les navigateurs que nous supportons.</a> </p> </div> </div> </div> <div id=\"ng-view\" ng-view=\"\"></div> <script src=\"/vendor/moment/min/moment.min.js\"></script> <script src=\"https://cdnjs.cloudflare.com/ajax/libs/jquery/2.2.4/jquery.min.js\"></script> <script src=\"/js/libs.min.js\"></script> <noscript> <iframe height=\"0\" src=\"https://www.googletagmanager.com/ns.html?id=GTM-T7V5LF\" style=\"display:none;visibility:hidden\" width=\"0\"></iframe> </noscript> <script>!function(e,t,a,n,g){e[n]=e[n]||[],e[n].push({\"gtm.start\":(new Date).getTime(),event:\"gtm.js\"});var m=t.getElementsByTagName(a)[0],r=t.createElement(a);r.async=!0,r.src=\"//www.googletagmanager.com/gtm.js?id=GTM-T7V5LF\",m.parentNode.insertBefore(r,m)}(window,document,\"script\",\"dataLayer\")</script> <script src=\"/onesite_modules/onesite-angular-foundation/onesite-angular-foundation.min.js\"></script> <script src=\"/onesite_modules/onesite-analytics/onesite-analytics.min.js\"></script> <script src=\"/onesite_modules/onesite-search/onesite-search.min.js\"></script> <script src=\"/onesite_modules/onesite-contact-us/onesite-contact-us.min.js\"></script> <script src=\"/onesite_modules/onesite-body/onesite-body.min.js\"></script> <script src=\"/onesite_modules/onesite-live-chat/onesite-live-chat.min.js\"></script> <script src=\"/onesite_modules/onesite-holiday-pay-calculator/onesite-holiday-pay-calculator.min.js\"></script> <script src=\"/onesite_modules/onesite-moment/onesite-moment.min.js\"></script> <script src=\"/onesite_modules/onesite-health/yellowCard/onesite-health.min.js\"></script> <script src=\"/core_modules/content-type/content-type.min.js\"></script> <script src=\"/core_modules/component/component.min.js\"></script> <script src=\"/js/app.min.js\"></script> <script src=\"/splash/splash.min.js\"></script> \n",
       "    <script type=\"text/javascript\">\n",
       "      /*@cc_on\n",
       "        if (/^9|10/.test(@_jscript_version)) {\n",
       "          document.getElementById(\"ie10\").className = \"alert-box\";\n",
       "        }\n",
       "      @*/\n",
       "    </script>\n",
       "       </body></html>"
      ]
     },
     "execution_count": 34,
     "metadata": {},
     "output_type": "execute_result"
    }
   ],
   "source": [
    "s"
   ]
  },
  {
   "cell_type": "code",
   "execution_count": 35,
   "metadata": {},
   "outputs": [
    {
     "data": {
      "text/plain": [
       "'Thu, 07 May 2020 22:05:04 GMT'"
      ]
     },
     "execution_count": 35,
     "metadata": {},
     "output_type": "execute_result"
    }
   ],
   "source": [
    "r.headers['Last-Modified']"
   ]
  },
  {
   "cell_type": "code",
   "execution_count": 82,
   "metadata": {},
   "outputs": [],
   "source": [
    "from selenium import webdriver\n",
    "my_url = 'https://www.ontario.ca/page/how-ontario-is-responding-covid-19#section-1'\n",
    "\n",
    "chrome_options = webdriver.ChromeOptions()\n",
    "chrome_options.add_argument('--headless')\n",
    "\n",
    "driver = webdriver.Chrome(options=chrome_options)\n",
    "driver.get(my_url)\n",
    "\n",
    "soup = BeautifulSoup(driver.page_source, 'html.parser')\n",
    "\n",
    "\n",
    "#driver.close()"
   ]
  },
  {
   "cell_type": "code",
   "execution_count": 79,
   "metadata": {},
   "outputs": [],
   "source": [
    "table = soup.find_all('table')"
   ]
  },
  {
   "cell_type": "code",
   "execution_count": 80,
   "metadata": {},
   "outputs": [
    {
     "data": {
      "text/plain": [
       "[]"
      ]
     },
     "execution_count": 80,
     "metadata": {},
     "output_type": "execute_result"
    }
   ],
   "source": [
    "table"
   ]
  },
  {
   "cell_type": "code",
   "execution_count": 94,
   "metadata": {},
   "outputs": [
    {
     "name": "stdout",
     "output_type": "stream",
     "text": [
      "<Response [200]>\n"
     ]
    }
   ],
   "source": [
    "import bs4\n",
    "import requests\n",
    "\n",
    "headers={'User-Agent': 'Mozilla/5.0 (Windows NT 6.2; Win64; x64) AppleWebKit/537.36 (KHTML, like Gecko) Chrome/32.0.1667.0 Safari/537.36'}\n",
    "session = requests.get(my_url, headers=headers)\n",
    "page = bs4.BeautifulSoup(session.text, \"html.parser\")\n",
    "\n",
    "print(page.title.text)\n"
   ]
  },
  {
   "cell_type": "code",
   "execution_count": 90,
   "metadata": {},
   "outputs": [
    {
     "data": {
      "text/plain": [
       "<!DOCTYPE html>\n",
       " <html class=\"no-js\" lang=\"en\"> <head> <meta charset=\"utf-8\"/> <meta content=\"width=device-width,initial-scale=1\" name=\"viewport\"/> <meta content=\"IE=edge\" http-equiv=\"X-UA-Compatible\"/> <meta content=\"0f38a1022cdb82bc265752c28d3c370df5c9dafd\" name=\"sha\"/> <title></title> <base href=\"/\"/> <link href=\"/css/combined.css\" media=\"screen\" rel=\"stylesheet\"/> <link href=\"/css/print.css\" media=\"print\" rel=\"stylesheet\"/> <script src=\"/vendor/modernizr/modernizr.js\"></script> <script>!function(a,e,o,n,c,i,t){a.GoogleAnalyticsObject=c,a.ga=a.ga||function(){(a.ga.q=a.ga.q||[]).push(arguments)},a.ga.l=1*new Date,i=e.createElement(o),t=e.getElementsByTagName(o)[0],i.async=1,i.src=\"//www.google-analytics.com/analytics.js\",t.parentNode.insertBefore(i,t)}(window,document,\"script\",0,\"ga\"),ga(\"create\",\"UA-21003310-6\",{cookieDomain:\"auto\",allowLinker:!0}),ga(\"create\",\"UA-48649528-1\",{cookieDomain:\"auto\",allowLinker:!0,name:\"ServiceOntario\"}),ga(\"require\",\"linker\"),ga(\"linker:autoLink\",[\"serviceontario.ca\",\"services.gov.on.ca\",\"appmybizaccount.gov.on.ca\",\"appointments.gov.on.ca\",\"personalproperty.gov.on.ca\",\"orgforms.gov.on.ca\",\"services1.gov.on.ca\"])</script> <link href=\"/img/favicon.ico\" rel=\"icon\" type=\"image/x-icon\"/> <link href=\"/img/favicon.ico\" rel=\"shortcut icon\" type=\"image/x-icon\"/> <link class=\"hreflang\"/> <link class=\"hreflang-alt\"/> <!-- Bing webmaster tools --> <meta content=\"1458065E1A4468FEAE68FAF332D18764\" name=\"msvalidate.01\"/> <script async=\"\" defer=\"defer\" src=\"https://www.google.com/recaptcha/api.js?render=explicit\"></script> </head> <body class=\"node-{{ mainController.node.content.id }}\" ng-app=\"onesite.app\" ng-class=\"{\n",
       "          'static splash': mainController.node.content.type === 'splash',\n",
       "          'static home-page': mainController.node.content.type === 'homepage'\n",
       "        }\" ng-cloak=\"\" ng-controller=\"MainController as mainController\"> <div class=\"emergency-banner emergency-banner--covid\" ng-cloak=\"\" ng-show=\"['53966','53967'].includes(mainController.node.content.id) === false\n",
       "         &amp;&amp; mainController.node.content.type !== 'splash'\n",
       "         &amp;&amp; mainController.node.content.type != null\"> <div class=\"row\"> <div class=\"small-12 columns emergency-banner__icon\" ng-switch=\"mainController.node.content.lang\"> <div ng-switch-when=\"fr\"> <p> <img alt=\"\" aria-hidden=\"true\" class=\"emergency-banner__warning\" role=\"presentation\" src=\"/img/assets/icon-alert-warning-white.svg\"/> COVID-19 : Obtenez les <a analytics-category=\"Header\" analytics-event=\"Covid-19\" analytics-label=\"derniÃ¨res mises Ã  jour||https://covid-19.ontario.ca/fr/index.fr.html\" analytics-on=\"\" href=\"//covid-19.ontario.ca/fr/index.fr.html\">derniÃ¨res mises Ã  jour</a> ou faites une <a analytics-category=\"Header\" analytics-event=\"Covid-19\" analytics-label=\"autoÃ©valuation||https://covid-19.ontario.ca/autoevaluation\" analytics-on=\"\" href=\"//covid-19.ontario.ca/autoevaluation/\">autoÃ©valuation</a>. </p> </div> <div ng-switch-default=\"\"> <p> <img alt=\"\" aria-hidden=\"true\" class=\"emergency-banner__warning\" role=\"presentation\" src=\"/img/assets/icon-alert-warning-white.svg\"/> COVID-19: Get the <a analytics-category=\"Header\" analytics-event=\"Covid-19\" analytics-label=\"latest updates||https://covid-19.ontario.ca\" analytics-on=\"\" href=\"//covid-19.ontario.ca/\">latest updates</a> or take a <a analytics-category=\"Header\" analytics-event=\"Covid-19\" analytics-label=\"self-assessment||https://covid-19.ontario.ca/self-assessment\" analytics-on=\"\" href=\"//covid-19.ontario.ca/self-assessment/\">self-assessment</a>. </p> </div> </div> </div> </div> <noscript> <header> <div class=\"row expanded\"> <div class=\"small-12 columns\"> <div class=\"iconWrapperLongNoBg iconLogoHeader\"> <img alt=\"Government of Ontario | Gouvernement de lâOntario\" class=\"site-logo\" ng-src=\"/img/logo-ontario@2x.png\" src=\"/img/logo-ontario@2x.png\"/> </div> </div> </div> </header> <main style=\"margin-top:1em\"> <div class=\"row\"> <div class=\"small-9 columns\" lang=\"en\"> <h1>JavaScript is required to view this site</h1> <p>Ontario.ca needs JavaScript to function properly and provide you with a fast, stable experience. Please enable JavaScript or check your browser's settings.</p> </div> <div class=\"small-12 columns\" lang=\"fr\"> <h1>JavaScript est nÃ©cessaire pour ce site</h1> <p>Le site Ontario.ca exige JavaScript pour fonctionner comme il faut, avec rapiditÃ© et stabilitÃ©. Veuillez activer JavaScript ou vÃ©rifier les paramÃ¨tres de votre navigateur.</p> </div> </div> </main> </noscript> <!--\n",
       "      Skip link that appears on focus, don't add to select language page or search\n",
       "    --> <div class=\"row\" ng-if=\"mainController.node.content.params.contentType !== '#!'\"> <div class=\"columns center small-3 small-centered\"> <a class=\"show-on-focus skip-link\" href=\"{{mainController.node.content.params.alias}}#ng-view\" id=\"skip-link\" ng-if=\"mainController.node.content.params.contentType !== 'searchResults'\" target=\"_self\"> {{ 'Skip to main content' | translate }} </a> <!--\n",
       "          For all search related pages, i.e. main search, trade calendar, gazette,\n",
       "          orders in council, data catalogue, land registration, etc.\n",
       "\n",
       "          With this implementation, the skip link will only work on the first click\n",
       "          and will benefit mostly when a user clicks a search page with a query already\n",
       "          in the URL. This is a workaround since the mainController doesn't have access\n",
       "          to updated queries.\n",
       "        --> <a class=\"show-on-focus skip-link\" href=\"#ng-view\" id=\"skip-link\" ng-if=\"mainController.node.content.params.contentType === 'searchResults'\"> {{ 'Skip to main content' | translate }} </a> </div> </div> <onesite-header content-node=\"mainController.node.content\" id=\"ng-view-header\" ng-show=\"mainController.node.content.headerType\" role=\"banner\" search=\"mainController.search\" update=\"mainController.update\"> </onesite-header> <div class=\"ie10\" id=\"ie10\" style=\"margin-bottom:0\"> <div class=\"row small\"> <div class=\"small-1 columns\"> <img alt=\"\" class=\"top-margin-half\" src=\"https://files.ontario.ca/banner-icon-alert-xsmall.png\"/> </div> <div class=\"small-11 columns\"> <p lang=\"en\"> You are using an outdated browser that is no longer supported by Ontario.ca. <br/>Outdated browsers lack safety features that keep your information secure, and they can also be slow. <br/><a href=\"/page/browsers\">Learn about the browsers we support.</a> </p> <p lang=\"fr\" style=\"margin-bottom:0\"> Vous utilisez un navigateur dÃ©suet qui nâest plus acceptÃ© par Ontario.ca. <br/>Les navigateurs dÃ©suets ne disposent pas de caractÃ©ristiques sÃ©curitaires permettant dâassurer la sÃ©curitÃ© de vos renseignements. <br/><a href=\"/fr/page/navigateurs\">En savoir plus sur les navigateurs que nous supportons.</a> </p> </div> </div> </div> <div id=\"ng-view\" ng-view=\"\"></div> <script src=\"/vendor/moment/min/moment.min.js\"></script> <script src=\"https://cdnjs.cloudflare.com/ajax/libs/jquery/2.2.4/jquery.min.js\"></script> <script src=\"/js/libs.min.js\"></script> <noscript> <iframe height=\"0\" src=\"https://www.googletagmanager.com/ns.html?id=GTM-T7V5LF\" style=\"display:none;visibility:hidden\" width=\"0\"></iframe> </noscript> <script>!function(e,t,a,n,g){e[n]=e[n]||[],e[n].push({\"gtm.start\":(new Date).getTime(),event:\"gtm.js\"});var m=t.getElementsByTagName(a)[0],r=t.createElement(a);r.async=!0,r.src=\"//www.googletagmanager.com/gtm.js?id=GTM-T7V5LF\",m.parentNode.insertBefore(r,m)}(window,document,\"script\",\"dataLayer\")</script> <script src=\"/onesite_modules/onesite-angular-foundation/onesite-angular-foundation.min.js\"></script> <script src=\"/onesite_modules/onesite-analytics/onesite-analytics.min.js\"></script> <script src=\"/onesite_modules/onesite-search/onesite-search.min.js\"></script> <script src=\"/onesite_modules/onesite-contact-us/onesite-contact-us.min.js\"></script> <script src=\"/onesite_modules/onesite-body/onesite-body.min.js\"></script> <script src=\"/onesite_modules/onesite-live-chat/onesite-live-chat.min.js\"></script> <script src=\"/onesite_modules/onesite-holiday-pay-calculator/onesite-holiday-pay-calculator.min.js\"></script> <script src=\"/onesite_modules/onesite-moment/onesite-moment.min.js\"></script> <script src=\"/onesite_modules/onesite-health/yellowCard/onesite-health.min.js\"></script> <script src=\"/core_modules/content-type/content-type.min.js\"></script> <script src=\"/core_modules/component/component.min.js\"></script> <script src=\"/js/app.min.js\"></script> <script src=\"/splash/splash.min.js\"></script>\n",
       "<script type=\"text/javascript\">\n",
       "      /*@cc_on\n",
       "        if (/^9|10/.test(@_jscript_version)) {\n",
       "          document.getElementById(\"ie10\").className = \"alert-box\";\n",
       "        }\n",
       "      @*/\n",
       "    </script>\n",
       "</body> </html> "
      ]
     },
     "execution_count": 90,
     "metadata": {},
     "output_type": "execute_result"
    }
   ],
   "source": [
    "page"
   ]
  },
  {
   "cell_type": "code",
   "execution_count": null,
   "metadata": {},
   "outputs": [],
   "source": []
  }
 ],
 "metadata": {
  "kernelspec": {
   "display_name": "Python 3",
   "language": "python",
   "name": "python3"
  },
  "language_info": {
   "codemirror_mode": {
    "name": "ipython",
    "version": 3
   },
   "file_extension": ".py",
   "mimetype": "text/x-python",
   "name": "python",
   "nbconvert_exporter": "python",
   "pygments_lexer": "ipython3",
   "version": "3.7.4"
  }
 },
 "nbformat": 4,
 "nbformat_minor": 4
}
