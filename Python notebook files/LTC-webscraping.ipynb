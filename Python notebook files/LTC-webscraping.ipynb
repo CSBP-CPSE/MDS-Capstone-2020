{
 "cells": [
  {
   "cell_type": "markdown",
   "metadata": {},
   "source": [
    "## LTC Web Scraping\n",
    "\n",
    "[How Ontario is responding to Covid-19](https://www.ontario.ca/page/how-ontario-is-responding-covid-19)\n",
    "\n",
    "**Authors:** KT and Shreeram\n",
    "\n",
    "*Note:* must run selenium server in command prompt\n",
    "\n",
    "`java -jar /path/to/selenium-server`\n",
    "\n",
    "must also have installed\n",
    "\n",
    "`brew cask install chromedriver`\n",
    "\n",
    "`brew cask install chromium`\n",
    "\n",
    "---"
   ]
  },
  {
   "cell_type": "code",
   "execution_count": 1,
   "metadata": {},
   "outputs": [],
   "source": [
    "import pandas as pd\n",
    "from bs4 import BeautifulSoup\n",
    "import requests\n",
    "r = requests.get('https://www.ontario.ca/page/how-ontario-is-responding-covid-19#section-1')\n",
    "s = BeautifulSoup(r.text,'html5lib')"
   ]
  },
  {
   "cell_type": "code",
   "execution_count": 2,
   "metadata": {},
   "outputs": [
    {
     "data": {
      "text/plain": [
       "{'User-Agent': 'python-requests/2.23.0', 'Accept-Encoding': 'gzip, deflate', 'Accept': '*/*', 'Connection': 'keep-alive'}"
      ]
     },
     "execution_count": 2,
     "metadata": {},
     "output_type": "execute_result"
    }
   ],
   "source": [
    "r.request.headers"
   ]
  },
  {
   "cell_type": "code",
   "execution_count": 3,
   "metadata": {},
   "outputs": [
    {
     "data": {
      "text/plain": [
       "'Thu, 07 May 2020 22:05:05 GMT'"
      ]
     },
     "execution_count": 3,
     "metadata": {},
     "output_type": "execute_result"
    }
   ],
   "source": [
    "r.headers['Last-Modified']"
   ]
  },
  {
   "cell_type": "markdown",
   "metadata": {},
   "source": [
    "#### Method 5: Selenium Server"
   ]
  },
  {
   "cell_type": "code",
   "execution_count": 4,
   "metadata": {},
   "outputs": [],
   "source": [
    "from selenium import webdriver\n",
    "from selenium.webdriver.common.desired_capabilities import DesiredCapabilities\n",
    "\n",
    "driver = webdriver.Remote(\n",
    "   command_executor='http://127.0.0.1:4444/wd/hub',\n",
    "   desired_capabilities=DesiredCapabilities.CHROME)"
   ]
  },
  {
   "cell_type": "code",
   "execution_count": 5,
   "metadata": {},
   "outputs": [],
   "source": [
    "my_url = 'https://www.ontario.ca/page/how-ontario-is-responding-covid-19#section-1'\n",
    "driver.get(my_url)"
   ]
  },
  {
   "cell_type": "code",
   "execution_count": 6,
   "metadata": {},
   "outputs": [],
   "source": [
    "df = pd.read_html(driver.page_source)[3]\n",
    "df2 = pd.read_html(driver.page_source)[4]"
   ]
  },
  {
   "cell_type": "code",
   "execution_count": 7,
   "metadata": {},
   "outputs": [],
   "source": [
    "df.to_csv('ltc-active.csv')\n",
    "df2.to_csv('ltc-inactive.csv')"
   ]
  },
  {
   "cell_type": "code",
   "execution_count": 8,
   "metadata": {},
   "outputs": [],
   "source": [
    "df2['Status'] = 'Inactive'"
   ]
  },
  {
   "cell_type": "code",
   "execution_count": 9,
   "metadata": {},
   "outputs": [],
   "source": [
    "df['Status'] = 'Active'"
   ]
  },
  {
   "cell_type": "code",
   "execution_count": 10,
   "metadata": {},
   "outputs": [],
   "source": [
    "all_ltc = df.append(df2)"
   ]
  },
  {
   "cell_type": "code",
   "execution_count": 12,
   "metadata": {},
   "outputs": [],
   "source": [
    "all_ltc.to_csv('../data/merged_ltc.csv')"
   ]
  },
  {
   "cell_type": "markdown",
   "metadata": {},
   "source": [
    "---\n",
    "# Other Attempts:\n",
    "\n",
    "---"
   ]
  },
  {
   "cell_type": "markdown",
   "metadata": {},
   "source": [
    "#### Methods 1: Firefox driver with options and binary"
   ]
  },
  {
   "cell_type": "code",
   "execution_count": 109,
   "metadata": {},
   "outputs": [
    {
     "name": "stderr",
     "output_type": "stream",
     "text": [
      "//anaconda3/lib/python3.7/site-packages/ipykernel_launcher.py:7: DeprecationWarning: use options instead of firefox_options\n",
      "  import sys\n"
     ]
    },
    {
     "ename": "PermissionError",
     "evalue": "[Errno 13] Permission denied: '/usr/local/bin'",
     "output_type": "error",
     "traceback": [
      "\u001b[0;31m---------------------------------------------------------------------------\u001b[0m",
      "\u001b[0;31mPermissionError\u001b[0m                           Traceback (most recent call last)",
      "\u001b[0;32m<ipython-input-109-1a21ccea2571>\u001b[0m in \u001b[0;36m<module>\u001b[0;34m\u001b[0m\n\u001b[1;32m      5\u001b[0m \u001b[0moptions\u001b[0m \u001b[0;34m=\u001b[0m \u001b[0mOptions\u001b[0m\u001b[0;34m(\u001b[0m\u001b[0;34m)\u001b[0m\u001b[0;34m\u001b[0m\u001b[0;34m\u001b[0m\u001b[0m\n\u001b[1;32m      6\u001b[0m \u001b[0moptions\u001b[0m\u001b[0;34m.\u001b[0m\u001b[0mbinary_location\u001b[0m \u001b[0;34m=\u001b[0m \u001b[0mFirefoxBinary\u001b[0m\u001b[0;34m(\u001b[0m\u001b[0;34m'/usr/local/bin'\u001b[0m\u001b[0;34m)\u001b[0m\u001b[0;34m\u001b[0m\u001b[0;34m\u001b[0m\u001b[0m\n\u001b[0;32m----> 7\u001b[0;31m \u001b[0mselenium\u001b[0m\u001b[0;34m.\u001b[0m\u001b[0mwebdriver\u001b[0m\u001b[0;34m.\u001b[0m\u001b[0mfirefox\u001b[0m\u001b[0;34m.\u001b[0m\u001b[0mwebdriver\u001b[0m\u001b[0;34m.\u001b[0m\u001b[0mWebDriver\u001b[0m\u001b[0;34m(\u001b[0m\u001b[0mfirefox_options\u001b[0m\u001b[0;34m=\u001b[0m\u001b[0moptions\u001b[0m\u001b[0;34m)\u001b[0m\u001b[0;34m\u001b[0m\u001b[0;34m\u001b[0m\u001b[0m\n\u001b[0m",
      "\u001b[0;32m//anaconda3/lib/python3.7/site-packages/selenium/webdriver/firefox/webdriver.py\u001b[0m in \u001b[0;36m__init__\u001b[0;34m(self, firefox_profile, firefox_binary, timeout, capabilities, proxy, executable_path, options, service_log_path, firefox_options, service_args, desired_capabilities, log_path, keep_alive)\u001b[0m\n\u001b[1;32m    189\u001b[0m \u001b[0;34m\u001b[0m\u001b[0m\n\u001b[1;32m    190\u001b[0m             executor = ExtensionConnection(\"127.0.0.1\", self.profile,\n\u001b[0;32m--> 191\u001b[0;31m                                            self.binary, timeout)\n\u001b[0m\u001b[1;32m    192\u001b[0m             RemoteWebDriver.__init__(\n\u001b[1;32m    193\u001b[0m                 \u001b[0mself\u001b[0m\u001b[0;34m,\u001b[0m\u001b[0;34m\u001b[0m\u001b[0;34m\u001b[0m\u001b[0m\n",
      "\u001b[0;32m//anaconda3/lib/python3.7/site-packages/selenium/webdriver/firefox/extension_connection.py\u001b[0m in \u001b[0;36m__init__\u001b[0;34m(self, host, firefox_profile, firefox_binary, timeout)\u001b[0m\n\u001b[1;32m     50\u001b[0m         \u001b[0mself\u001b[0m\u001b[0;34m.\u001b[0m\u001b[0mprofile\u001b[0m\u001b[0;34m.\u001b[0m\u001b[0madd_extension\u001b[0m\u001b[0;34m(\u001b[0m\u001b[0;34m)\u001b[0m\u001b[0;34m\u001b[0m\u001b[0;34m\u001b[0m\u001b[0m\n\u001b[1;32m     51\u001b[0m \u001b[0;34m\u001b[0m\u001b[0m\n\u001b[0;32m---> 52\u001b[0;31m         \u001b[0mself\u001b[0m\u001b[0;34m.\u001b[0m\u001b[0mbinary\u001b[0m\u001b[0;34m.\u001b[0m\u001b[0mlaunch_browser\u001b[0m\u001b[0;34m(\u001b[0m\u001b[0mself\u001b[0m\u001b[0;34m.\u001b[0m\u001b[0mprofile\u001b[0m\u001b[0;34m,\u001b[0m \u001b[0mtimeout\u001b[0m\u001b[0;34m=\u001b[0m\u001b[0mtimeout\u001b[0m\u001b[0;34m)\u001b[0m\u001b[0;34m\u001b[0m\u001b[0;34m\u001b[0m\u001b[0m\n\u001b[0m\u001b[1;32m     53\u001b[0m         \u001b[0m_URL\u001b[0m \u001b[0;34m=\u001b[0m \u001b[0;34m\"http://%s:%d/hub\"\u001b[0m \u001b[0;34m%\u001b[0m \u001b[0;34m(\u001b[0m\u001b[0mHOST\u001b[0m\u001b[0;34m,\u001b[0m \u001b[0mPORT\u001b[0m\u001b[0;34m)\u001b[0m\u001b[0;34m\u001b[0m\u001b[0;34m\u001b[0m\u001b[0m\n\u001b[1;32m     54\u001b[0m         RemoteConnection.__init__(\n",
      "\u001b[0;32m//anaconda3/lib/python3.7/site-packages/selenium/webdriver/firefox/firefox_binary.py\u001b[0m in \u001b[0;36mlaunch_browser\u001b[0;34m(self, profile, timeout)\u001b[0m\n\u001b[1;32m     70\u001b[0m         \u001b[0mself\u001b[0m\u001b[0;34m.\u001b[0m\u001b[0mprofile\u001b[0m \u001b[0;34m=\u001b[0m \u001b[0mprofile\u001b[0m\u001b[0;34m\u001b[0m\u001b[0;34m\u001b[0m\u001b[0m\n\u001b[1;32m     71\u001b[0m \u001b[0;34m\u001b[0m\u001b[0m\n\u001b[0;32m---> 72\u001b[0;31m         \u001b[0mself\u001b[0m\u001b[0;34m.\u001b[0m\u001b[0m_start_from_profile_path\u001b[0m\u001b[0;34m(\u001b[0m\u001b[0mself\u001b[0m\u001b[0;34m.\u001b[0m\u001b[0mprofile\u001b[0m\u001b[0;34m.\u001b[0m\u001b[0mpath\u001b[0m\u001b[0;34m)\u001b[0m\u001b[0;34m\u001b[0m\u001b[0;34m\u001b[0m\u001b[0m\n\u001b[0m\u001b[1;32m     73\u001b[0m         \u001b[0mself\u001b[0m\u001b[0;34m.\u001b[0m\u001b[0m_wait_until_connectable\u001b[0m\u001b[0;34m(\u001b[0m\u001b[0mtimeout\u001b[0m\u001b[0;34m=\u001b[0m\u001b[0mtimeout\u001b[0m\u001b[0;34m)\u001b[0m\u001b[0;34m\u001b[0m\u001b[0;34m\u001b[0m\u001b[0m\n\u001b[1;32m     74\u001b[0m \u001b[0;34m\u001b[0m\u001b[0m\n",
      "\u001b[0;32m//anaconda3/lib/python3.7/site-packages/selenium/webdriver/firefox/firefox_binary.py\u001b[0m in \u001b[0;36m_start_from_profile_path\u001b[0;34m(self, path)\u001b[0m\n\u001b[1;32m     93\u001b[0m         self.process = Popen(\n\u001b[1;32m     94\u001b[0m             \u001b[0mcommand\u001b[0m\u001b[0;34m,\u001b[0m \u001b[0mstdout\u001b[0m\u001b[0;34m=\u001b[0m\u001b[0mself\u001b[0m\u001b[0;34m.\u001b[0m\u001b[0m_log_file\u001b[0m\u001b[0;34m,\u001b[0m \u001b[0mstderr\u001b[0m\u001b[0;34m=\u001b[0m\u001b[0mSTDOUT\u001b[0m\u001b[0;34m,\u001b[0m\u001b[0;34m\u001b[0m\u001b[0;34m\u001b[0m\u001b[0m\n\u001b[0;32m---> 95\u001b[0;31m             env=self._firefox_env)\n\u001b[0m\u001b[1;32m     96\u001b[0m \u001b[0;34m\u001b[0m\u001b[0m\n\u001b[1;32m     97\u001b[0m     \u001b[0;32mdef\u001b[0m \u001b[0m_wait_until_connectable\u001b[0m\u001b[0;34m(\u001b[0m\u001b[0mself\u001b[0m\u001b[0;34m,\u001b[0m \u001b[0mtimeout\u001b[0m\u001b[0;34m=\u001b[0m\u001b[0;36m30\u001b[0m\u001b[0;34m)\u001b[0m\u001b[0;34m:\u001b[0m\u001b[0;34m\u001b[0m\u001b[0;34m\u001b[0m\u001b[0m\n",
      "\u001b[0;32m//anaconda3/lib/python3.7/subprocess.py\u001b[0m in \u001b[0;36m__init__\u001b[0;34m(self, args, bufsize, executable, stdin, stdout, stderr, preexec_fn, close_fds, shell, cwd, env, universal_newlines, startupinfo, creationflags, restore_signals, start_new_session, pass_fds, encoding, errors, text)\u001b[0m\n\u001b[1;32m    773\u001b[0m                                 \u001b[0mc2pread\u001b[0m\u001b[0;34m,\u001b[0m \u001b[0mc2pwrite\u001b[0m\u001b[0;34m,\u001b[0m\u001b[0;34m\u001b[0m\u001b[0;34m\u001b[0m\u001b[0m\n\u001b[1;32m    774\u001b[0m                                 \u001b[0merrread\u001b[0m\u001b[0;34m,\u001b[0m \u001b[0merrwrite\u001b[0m\u001b[0;34m,\u001b[0m\u001b[0;34m\u001b[0m\u001b[0;34m\u001b[0m\u001b[0m\n\u001b[0;32m--> 775\u001b[0;31m                                 restore_signals, start_new_session)\n\u001b[0m\u001b[1;32m    776\u001b[0m         \u001b[0;32mexcept\u001b[0m\u001b[0;34m:\u001b[0m\u001b[0;34m\u001b[0m\u001b[0;34m\u001b[0m\u001b[0m\n\u001b[1;32m    777\u001b[0m             \u001b[0;31m# Cleanup if the child failed starting.\u001b[0m\u001b[0;34m\u001b[0m\u001b[0;34m\u001b[0m\u001b[0;34m\u001b[0m\u001b[0m\n",
      "\u001b[0;32m//anaconda3/lib/python3.7/subprocess.py\u001b[0m in \u001b[0;36m_execute_child\u001b[0;34m(self, args, executable, preexec_fn, close_fds, pass_fds, cwd, env, startupinfo, creationflags, shell, p2cread, p2cwrite, c2pread, c2pwrite, errread, errwrite, restore_signals, start_new_session)\u001b[0m\n\u001b[1;32m   1520\u001b[0m                         \u001b[0;32mif\u001b[0m \u001b[0merrno_num\u001b[0m \u001b[0;34m==\u001b[0m \u001b[0merrno\u001b[0m\u001b[0;34m.\u001b[0m\u001b[0mENOENT\u001b[0m\u001b[0;34m:\u001b[0m\u001b[0;34m\u001b[0m\u001b[0;34m\u001b[0m\u001b[0m\n\u001b[1;32m   1521\u001b[0m                             \u001b[0merr_msg\u001b[0m \u001b[0;34m+=\u001b[0m \u001b[0;34m': '\u001b[0m \u001b[0;34m+\u001b[0m \u001b[0mrepr\u001b[0m\u001b[0;34m(\u001b[0m\u001b[0merr_filename\u001b[0m\u001b[0;34m)\u001b[0m\u001b[0;34m\u001b[0m\u001b[0;34m\u001b[0m\u001b[0m\n\u001b[0;32m-> 1522\u001b[0;31m                     \u001b[0;32mraise\u001b[0m \u001b[0mchild_exception_type\u001b[0m\u001b[0;34m(\u001b[0m\u001b[0merrno_num\u001b[0m\u001b[0;34m,\u001b[0m \u001b[0merr_msg\u001b[0m\u001b[0;34m,\u001b[0m \u001b[0merr_filename\u001b[0m\u001b[0;34m)\u001b[0m\u001b[0;34m\u001b[0m\u001b[0;34m\u001b[0m\u001b[0m\n\u001b[0m\u001b[1;32m   1523\u001b[0m                 \u001b[0;32mraise\u001b[0m \u001b[0mchild_exception_type\u001b[0m\u001b[0;34m(\u001b[0m\u001b[0merr_msg\u001b[0m\u001b[0;34m)\u001b[0m\u001b[0;34m\u001b[0m\u001b[0;34m\u001b[0m\u001b[0m\n\u001b[1;32m   1524\u001b[0m \u001b[0;34m\u001b[0m\u001b[0m\n",
      "\u001b[0;31mPermissionError\u001b[0m: [Errno 13] Permission denied: '/usr/local/bin'"
     ]
    }
   ],
   "source": [
    "import selenium \n",
    "from selenium.webdriver.firefox.options import Options\n",
    "from selenium.webdriver.firefox.firefox_binary import FirefoxBinary\n",
    "\n",
    "options = Options()\n",
    "options.binary_location = FirefoxBinary('/usr/local/bin')\n",
    "selenium.webdriver.firefox.webdriver.WebDriver(firefox_options=options)"
   ]
  },
  {
   "cell_type": "markdown",
   "metadata": {},
   "source": [
    "#### Methods 2: Firefox driver with binary and desired capabilities"
   ]
  },
  {
   "cell_type": "code",
   "execution_count": 110,
   "metadata": {
    "scrolled": true
   },
   "outputs": [
    {
     "ename": "AttributeError",
     "evalue": "'str' object has no attribute 'launch_browser'",
     "output_type": "error",
     "traceback": [
      "\u001b[0;31m---------------------------------------------------------------------------\u001b[0m",
      "\u001b[0;31mAttributeError\u001b[0m                            Traceback (most recent call last)",
      "\u001b[0;32m<ipython-input-110-af47387dd569>\u001b[0m in \u001b[0;36m<module>\u001b[0;34m\u001b[0m\n\u001b[1;32m      4\u001b[0m \u001b[0mcap\u001b[0m \u001b[0;34m=\u001b[0m \u001b[0mDesiredCapabilities\u001b[0m\u001b[0;34m(\u001b[0m\u001b[0;34m)\u001b[0m\u001b[0;34m.\u001b[0m\u001b[0mFIREFOX\u001b[0m\u001b[0;34m\u001b[0m\u001b[0;34m\u001b[0m\u001b[0m\n\u001b[1;32m      5\u001b[0m \u001b[0mcap\u001b[0m\u001b[0;34m[\u001b[0m\u001b[0;34m\"marionette\"\u001b[0m\u001b[0;34m]\u001b[0m \u001b[0;34m=\u001b[0m \u001b[0;32mFalse\u001b[0m\u001b[0;34m\u001b[0m\u001b[0;34m\u001b[0m\u001b[0m\n\u001b[0;32m----> 6\u001b[0;31m \u001b[0mbrowser\u001b[0m \u001b[0;34m=\u001b[0m \u001b[0mwebdriver\u001b[0m\u001b[0;34m.\u001b[0m\u001b[0mFirefox\u001b[0m\u001b[0;34m(\u001b[0m\u001b[0mcapabilities\u001b[0m\u001b[0;34m=\u001b[0m\u001b[0mcap\u001b[0m\u001b[0;34m,\u001b[0m \u001b[0mexecutable_path\u001b[0m\u001b[0;34m=\u001b[0m\u001b[0;34m\"/usr/local/bin/geckodriver.exe\"\u001b[0m\u001b[0;34m)\u001b[0m\u001b[0;34m\u001b[0m\u001b[0;34m\u001b[0m\u001b[0m\n\u001b[0m\u001b[1;32m      7\u001b[0m \u001b[0mbrowser\u001b[0m\u001b[0;34m.\u001b[0m\u001b[0mget\u001b[0m\u001b[0;34m(\u001b[0m\u001b[0mmy_url\u001b[0m\u001b[0;34m)\u001b[0m\u001b[0;34m\u001b[0m\u001b[0;34m\u001b[0m\u001b[0m\n\u001b[1;32m      8\u001b[0m \u001b[0mbrowser\u001b[0m\u001b[0;34m.\u001b[0m\u001b[0mquit\u001b[0m\u001b[0;34m(\u001b[0m\u001b[0;34m)\u001b[0m\u001b[0;34m\u001b[0m\u001b[0;34m\u001b[0m\u001b[0m\n",
      "\u001b[0;32m//anaconda3/lib/python3.7/site-packages/selenium/webdriver/firefox/webdriver.py\u001b[0m in \u001b[0;36m__init__\u001b[0;34m(self, firefox_profile, firefox_binary, timeout, capabilities, proxy, executable_path, options, service_log_path, firefox_options, service_args, desired_capabilities, log_path, keep_alive)\u001b[0m\n\u001b[1;32m    189\u001b[0m \u001b[0;34m\u001b[0m\u001b[0m\n\u001b[1;32m    190\u001b[0m             executor = ExtensionConnection(\"127.0.0.1\", self.profile,\n\u001b[0;32m--> 191\u001b[0;31m                                            self.binary, timeout)\n\u001b[0m\u001b[1;32m    192\u001b[0m             RemoteWebDriver.__init__(\n\u001b[1;32m    193\u001b[0m                 \u001b[0mself\u001b[0m\u001b[0;34m,\u001b[0m\u001b[0;34m\u001b[0m\u001b[0;34m\u001b[0m\u001b[0m\n",
      "\u001b[0;32m//anaconda3/lib/python3.7/site-packages/selenium/webdriver/firefox/extension_connection.py\u001b[0m in \u001b[0;36m__init__\u001b[0;34m(self, host, firefox_profile, firefox_binary, timeout)\u001b[0m\n\u001b[1;32m     50\u001b[0m         \u001b[0mself\u001b[0m\u001b[0;34m.\u001b[0m\u001b[0mprofile\u001b[0m\u001b[0;34m.\u001b[0m\u001b[0madd_extension\u001b[0m\u001b[0;34m(\u001b[0m\u001b[0;34m)\u001b[0m\u001b[0;34m\u001b[0m\u001b[0;34m\u001b[0m\u001b[0m\n\u001b[1;32m     51\u001b[0m \u001b[0;34m\u001b[0m\u001b[0m\n\u001b[0;32m---> 52\u001b[0;31m         \u001b[0mself\u001b[0m\u001b[0;34m.\u001b[0m\u001b[0mbinary\u001b[0m\u001b[0;34m.\u001b[0m\u001b[0mlaunch_browser\u001b[0m\u001b[0;34m(\u001b[0m\u001b[0mself\u001b[0m\u001b[0;34m.\u001b[0m\u001b[0mprofile\u001b[0m\u001b[0;34m,\u001b[0m \u001b[0mtimeout\u001b[0m\u001b[0;34m=\u001b[0m\u001b[0mtimeout\u001b[0m\u001b[0;34m)\u001b[0m\u001b[0;34m\u001b[0m\u001b[0;34m\u001b[0m\u001b[0m\n\u001b[0m\u001b[1;32m     53\u001b[0m         \u001b[0m_URL\u001b[0m \u001b[0;34m=\u001b[0m \u001b[0;34m\"http://%s:%d/hub\"\u001b[0m \u001b[0;34m%\u001b[0m \u001b[0;34m(\u001b[0m\u001b[0mHOST\u001b[0m\u001b[0;34m,\u001b[0m \u001b[0mPORT\u001b[0m\u001b[0;34m)\u001b[0m\u001b[0;34m\u001b[0m\u001b[0;34m\u001b[0m\u001b[0m\n\u001b[1;32m     54\u001b[0m         RemoteConnection.__init__(\n",
      "\u001b[0;31mAttributeError\u001b[0m: 'str' object has no attribute 'launch_browser'"
     ]
    }
   ],
   "source": [
    "from selenium.webdriver.firefox.firefox_binary import FirefoxBinary\n",
    "from selenium.webdriver.common.desired_capabilities import DesiredCapabilities\n",
    "\n",
    "cap = DesiredCapabilities().FIREFOX\n",
    "cap[\"marionette\"] = False\n",
    "browser = webdriver.Firefox(capabilities=cap, executable_path=\"/usr/local/bin/geckodriver.exe\")\n",
    "browser.get(my_url)\n",
    "browser.quit()"
   ]
  },
  {
   "cell_type": "markdown",
   "metadata": {},
   "source": [
    "#### Methods 3: Firefox driver"
   ]
  },
  {
   "cell_type": "code",
   "execution_count": 106,
   "metadata": {
    "scrolled": true
   },
   "outputs": [
    {
     "ename": "AttributeError",
     "evalue": "'str' object has no attribute 'launch_browser'",
     "output_type": "error",
     "traceback": [
      "\u001b[0;31m---------------------------------------------------------------------------\u001b[0m",
      "\u001b[0;31mAttributeError\u001b[0m                            Traceback (most recent call last)",
      "\u001b[0;32m<ipython-input-106-009ed4983fb1>\u001b[0m in \u001b[0;36m<module>\u001b[0;34m\u001b[0m\n\u001b[0;32m----> 1\u001b[0;31m \u001b[0;32mwith\u001b[0m \u001b[0mwebdriver\u001b[0m\u001b[0;34m.\u001b[0m\u001b[0mFirefox\u001b[0m\u001b[0;34m(\u001b[0m\u001b[0;34m)\u001b[0m \u001b[0;32mas\u001b[0m \u001b[0mdriver\u001b[0m\u001b[0;34m:\u001b[0m\u001b[0;34m\u001b[0m\u001b[0;34m\u001b[0m\u001b[0m\n\u001b[0m\u001b[1;32m      2\u001b[0m     \u001b[0mdriver\u001b[0m\u001b[0;34m.\u001b[0m\u001b[0mget\u001b[0m\u001b[0;34m(\u001b[0m\u001b[0;34m'my_url'\u001b[0m\u001b[0;34m)\u001b[0m\u001b[0;34m\u001b[0m\u001b[0;34m\u001b[0m\u001b[0m\n\u001b[1;32m      3\u001b[0m     \u001b[0mtds\u001b[0m \u001b[0;34m=\u001b[0m \u001b[0mdriver\u001b[0m\u001b[0;34m.\u001b[0m\u001b[0mget_element_by_tag_name\u001b[0m\u001b[0;34m(\u001b[0m\u001b[0;34m'table'\u001b[0m\u001b[0;34m)\u001b[0m\u001b[0;34m\u001b[0m\u001b[0;34m\u001b[0m\u001b[0m\n\u001b[1;32m      4\u001b[0m     \u001b[0;32mfor\u001b[0m \u001b[0mi\u001b[0m \u001b[0;32min\u001b[0m \u001b[0mrange\u001b[0m\u001b[0;34m(\u001b[0m\u001b[0;36m0\u001b[0m\u001b[0;34m,\u001b[0m \u001b[0mlen\u001b[0m\u001b[0;34m(\u001b[0m\u001b[0mtable\u001b[0m\u001b[0;34m)\u001b[0m\u001b[0;34m)\u001b[0m\u001b[0;34m:\u001b[0m\u001b[0;34m\u001b[0m\u001b[0;34m\u001b[0m\u001b[0m\n\u001b[1;32m      5\u001b[0m         \u001b[0mbs\u001b[0m \u001b[0;34m=\u001b[0m \u001b[0mbs4\u001b[0m\u001b[0;34m.\u001b[0m\u001b[0mBeautifulSoup\u001b[0m\u001b[0;34m(\u001b[0m\u001b[0mi\u001b[0m\u001b[0;34m,\u001b[0m \u001b[0;34m'html.parser'\u001b[0m\u001b[0;34m)\u001b[0m\u001b[0;34m\u001b[0m\u001b[0;34m\u001b[0m\u001b[0m\n",
      "\u001b[0;32m//anaconda3/lib/python3.7/site-packages/selenium/webdriver/firefox/webdriver.py\u001b[0m in \u001b[0;36m__init__\u001b[0;34m(self, firefox_profile, firefox_binary, timeout, capabilities, proxy, executable_path, options, service_log_path, firefox_options, service_args, desired_capabilities, log_path, keep_alive)\u001b[0m\n\u001b[1;32m    189\u001b[0m \u001b[0;34m\u001b[0m\u001b[0m\n\u001b[1;32m    190\u001b[0m             executor = ExtensionConnection(\"127.0.0.1\", self.profile,\n\u001b[0;32m--> 191\u001b[0;31m                                            self.binary, timeout)\n\u001b[0m\u001b[1;32m    192\u001b[0m             RemoteWebDriver.__init__(\n\u001b[1;32m    193\u001b[0m                 \u001b[0mself\u001b[0m\u001b[0;34m,\u001b[0m\u001b[0;34m\u001b[0m\u001b[0;34m\u001b[0m\u001b[0m\n",
      "\u001b[0;32m//anaconda3/lib/python3.7/site-packages/selenium/webdriver/firefox/extension_connection.py\u001b[0m in \u001b[0;36m__init__\u001b[0;34m(self, host, firefox_profile, firefox_binary, timeout)\u001b[0m\n\u001b[1;32m     50\u001b[0m         \u001b[0mself\u001b[0m\u001b[0;34m.\u001b[0m\u001b[0mprofile\u001b[0m\u001b[0;34m.\u001b[0m\u001b[0madd_extension\u001b[0m\u001b[0;34m(\u001b[0m\u001b[0;34m)\u001b[0m\u001b[0;34m\u001b[0m\u001b[0;34m\u001b[0m\u001b[0m\n\u001b[1;32m     51\u001b[0m \u001b[0;34m\u001b[0m\u001b[0m\n\u001b[0;32m---> 52\u001b[0;31m         \u001b[0mself\u001b[0m\u001b[0;34m.\u001b[0m\u001b[0mbinary\u001b[0m\u001b[0;34m.\u001b[0m\u001b[0mlaunch_browser\u001b[0m\u001b[0;34m(\u001b[0m\u001b[0mself\u001b[0m\u001b[0;34m.\u001b[0m\u001b[0mprofile\u001b[0m\u001b[0;34m,\u001b[0m \u001b[0mtimeout\u001b[0m\u001b[0;34m=\u001b[0m\u001b[0mtimeout\u001b[0m\u001b[0;34m)\u001b[0m\u001b[0;34m\u001b[0m\u001b[0;34m\u001b[0m\u001b[0m\n\u001b[0m\u001b[1;32m     53\u001b[0m         \u001b[0m_URL\u001b[0m \u001b[0;34m=\u001b[0m \u001b[0;34m\"http://%s:%d/hub\"\u001b[0m \u001b[0;34m%\u001b[0m \u001b[0;34m(\u001b[0m\u001b[0mHOST\u001b[0m\u001b[0;34m,\u001b[0m \u001b[0mPORT\u001b[0m\u001b[0;34m)\u001b[0m\u001b[0;34m\u001b[0m\u001b[0;34m\u001b[0m\u001b[0m\n\u001b[1;32m     54\u001b[0m         RemoteConnection.__init__(\n",
      "\u001b[0;31mAttributeError\u001b[0m: 'str' object has no attribute 'launch_browser'"
     ]
    }
   ],
   "source": [
    "with webdriver.Firefox() as driver:\n",
    "    driver.get('my_url')\n",
    "    tds = driver.get_element_by_tag_name('table')\n",
    "    for i in range(0, len(table)):\n",
    "        bs = bs4.BeautifulSoup(i, 'html.parser')\n",
    "        print(bs)"
   ]
  },
  {
   "cell_type": "markdown",
   "metadata": {},
   "source": [
    "#### Methods 4: Faking a browser visit"
   ]
  },
  {
   "cell_type": "code",
   "execution_count": 111,
   "metadata": {},
   "outputs": [
    {
     "name": "stdout",
     "output_type": "stream",
     "text": [
      "b'<!doctype html> <html class=\"no-js\" lang=\"en\"> <head> <meta charset=\"utf-8\"> <meta content=\"width=device-width,initial-scale=1\" name=\"viewport\"> <meta content=\"IE=edge\" http-equiv=\"X-UA-Compatible\"> <meta name=\"sha\" content=\"0f38a1022cdb82bc265752c28d3c370df5c9dafd\"> <title></title> <base href=\"/\"> <link href=\"/css/combined.css\" media=\"screen\" rel=\"stylesheet\"> <link href=\"/css/print.css\" media=\"print\" rel=\"stylesheet\"> <script src=\"/vendor/modernizr/modernizr.js\"></script> <script>!function(a,e,o,n,c,i,t){a.GoogleAnalyticsObject=c,a.ga=a.ga||function(){(a.ga.q=a.ga.q||[]).push(arguments)},a.ga.l=1*new Date,i=e.createElement(o),t=e.getElementsByTagName(o)[0],i.async=1,i.src=\"//www.google-analytics.com/analytics.js\",t.parentNode.insertBefore(i,t)}(window,document,\"script\",0,\"ga\"),ga(\"create\",\"UA-21003310-6\",{cookieDomain:\"auto\",allowLinker:!0}),ga(\"create\",\"UA-48649528-1\",{cookieDomain:\"auto\",allowLinker:!0,name:\"ServiceOntario\"}),ga(\"require\",\"linker\"),ga(\"linker:autoLink\",[\"serviceontario.ca\",\"services.gov.on.ca\",\"appmybizaccount.gov.on.ca\",\"appointments.gov.on.ca\",\"personalproperty.gov.on.ca\",\"orgforms.gov.on.ca\",\"services1.gov.on.ca\"])</script> <link href=\"/img/favicon.ico\" rel=\"icon\" type=\"image/x-icon\"> <link href=\"/img/favicon.ico\" rel=\"shortcut icon\" type=\"image/x-icon\"> <link class=\"hreflang\"> <link class=\"hreflang-alt\"> <!-- Bing webmaster tools --> <meta content=\"1458065E1A4468FEAE68FAF332D18764\" name=\"msvalidate.01\"> <script async defer=\"defer\" src=\"https://www.google.com/recaptcha/api.js?render=explicit\"></script> </head> <body class=\"node-{{ mainController.node.content.id }}\" ng-app=\"onesite.app\" ng-class=\"{\\n          \\'static splash\\': mainController.node.content.type === \\'splash\\',\\n          \\'static home-page\\': mainController.node.content.type === \\'homepage\\'\\n        }\" ng-cloak ng-controller=\"MainController as mainController\"> <div class=\"emergency-banner emergency-banner--covid\" ng-cloak ng-show=\"[\\'53966\\',\\'53967\\'].includes(mainController.node.content.id) === false\\n         && mainController.node.content.type !== \\'splash\\'\\n         && mainController.node.content.type != null\"> <div class=\"row\"> <div class=\"small-12 columns emergency-banner__icon\" ng-switch=\"mainController.node.content.lang\"> <div ng-switch-when=\"fr\"> <p> <img alt=\"\" aria-hidden=\"true\" role=\"presentation\" class=\"emergency-banner__warning\" src=\"/img/assets/icon-alert-warning-white.svg\"> COVID-19&nbsp;:&nbsp;Obtenez les <a analytics-category=\"Header\" analytics-event=\"Covid-19\" analytics-label=\"derni\\xc3\\xa8res mises \\xc3\\xa0 jour||https://covid-19.ontario.ca/fr/index.fr.html\" analytics-on href=\"//covid-19.ontario.ca/fr/index.fr.html\">derni\\xc3\\xa8res mises \\xc3\\xa0 jour</a> ou faites une <a analytics-category=\"Header\" analytics-event=\"Covid-19\" analytics-label=\"auto\\xc3\\xa9valuation||https://covid-19.ontario.ca/autoevaluation\" analytics-on href=\"//covid-19.ontario.ca/autoevaluation/\">auto\\xc3\\xa9valuation</a>. </p> </div> <div ng-switch-default> <p> <img alt=\"\" aria-hidden=\"true\" role=\"presentation\" class=\"emergency-banner__warning\" src=\"/img/assets/icon-alert-warning-white.svg\"> COVID-19: Get the <a analytics-category=\"Header\" analytics-event=\"Covid-19\" analytics-label=\"latest updates||https://covid-19.ontario.ca\" analytics-on href=\"//covid-19.ontario.ca/\">latest updates</a> or take a <a analytics-category=\"Header\" analytics-event=\"Covid-19\" analytics-label=\"self-assessment||https://covid-19.ontario.ca/self-assessment\" analytics-on href=\"//covid-19.ontario.ca/self-assessment/\">self-assessment</a>. </p> </div> </div> </div> </div> <noscript> <header> <div class=\"row expanded\"> <div class=\"small-12 columns\"> <div class=\"iconWrapperLongNoBg iconLogoHeader\"> <img alt=\"Government of Ontario | Gouvernement de l\\xe2\\x80\\x99Ontario\" class=\"site-logo\" ng-src=\"/img/logo-ontario@2x.png\" src=\"/img/logo-ontario@2x.png\"> </div> </div> </div> </header> <main style=\"margin-top:1em\"> <div class=\"row\"> <div class=\"small-9 columns\" lang=\"en\"> <h1>JavaScript is required to view this site</h1> <p>Ontario.ca needs JavaScript to function properly and provide you with a fast, stable experience. Please enable JavaScript or check your browser\\'s settings.</p> </div> <div class=\"small-12 columns\" lang=\"fr\"> <h1>JavaScript est n\\xc3\\xa9cessaire pour ce site</h1> <p>Le site Ontario.ca exige JavaScript pour fonctionner comme il faut, avec rapidit\\xc3\\xa9 et stabilit\\xc3\\xa9. Veuillez activer JavaScript ou v\\xc3\\xa9rifier les param\\xc3\\xa8tres de votre navigateur.</p> </div> </div> </main> </noscript> <!--\\n      Skip link that appears on focus, don\\'t add to select language page or search\\n    --> <div class=\"row\" ng-if=\"mainController.node.content.params.contentType !== \\'#!\\'\"> <div class=\"columns center small-3 small-centered\"> <a class=\"show-on-focus skip-link\" href=\"{{mainController.node.content.params.alias}}#ng-view\" id=\"skip-link\" ng-if=\"mainController.node.content.params.contentType !== \\'searchResults\\'\" target=\"_self\"> {{ \\'Skip to main content\\' | translate }} </a> <!--\\n          For all search related pages, i.e. main search, trade calendar, gazette,\\n          orders in council, data catalogue, land registration, etc.\\n\\n          With this implementation, the skip link will only work on the first click\\n          and will benefit mostly when a user clicks a search page with a query already\\n          in the URL. This is a workaround since the mainController doesn\\'t have access\\n          to updated queries.\\n        --> <a class=\"show-on-focus skip-link\" href=\"#ng-view\" id=\"skip-link\" ng-if=\"mainController.node.content.params.contentType === \\'searchResults\\'\"> {{ \\'Skip to main content\\' | translate }} </a> </div> </div> <onesite-header content-node=\"mainController.node.content\" id=\"ng-view-header\" ng-show=\"mainController.node.content.headerType\" role=\"banner\" search=\"mainController.search\" update=\"mainController.update\"> </onesite-header> <div class=\"ie10\" id=\"ie10\" style=\"margin-bottom:0\"> <div class=\"row small\"> <div class=\"small-1 columns\"> <img alt=\"\" class=\"top-margin-half\" src=\"https://files.ontario.ca/banner-icon-alert-xsmall.png\"> </div> <div class=\"small-11 columns\"> <p lang=\"en\"> You are using an outdated browser that is no longer supported by Ontario.ca. <br>Outdated browsers lack safety features that keep your information secure, and they can also be slow. <br><a href=\"/page/browsers\">Learn about the browsers we support.</a> </p> <p lang=\"fr\" style=\"margin-bottom:0\"> Vous utilisez un navigateur d\\xc3\\xa9suet qui n\\xe2\\x80\\x99est plus accept\\xc3\\xa9 par Ontario.ca. <br>Les navigateurs d\\xc3\\xa9suets ne disposent pas de caract\\xc3\\xa9ristiques s\\xc3\\xa9curitaires permettant d\\xe2\\x80\\x99assurer la s\\xc3\\xa9curit\\xc3\\xa9 de vos renseignements. <br><a href=\"/fr/page/navigateurs\">En savoir plus sur les navigateurs que nous supportons.</a> </p> </div> </div> </div> <div id=\"ng-view\" ng-view></div> <script src=\"/vendor/moment/min/moment.min.js\"></script> <script src=\"https://cdnjs.cloudflare.com/ajax/libs/jquery/2.2.4/jquery.min.js\"></script> <script src=\"/js/libs.min.js\"></script> <noscript> <iframe height=\"0\" src=\"https://www.googletagmanager.com/ns.html?id=GTM-T7V5LF\" style=\"display:none;visibility:hidden\" width=\"0\"></iframe> </noscript> <script>!function(e,t,a,n,g){e[n]=e[n]||[],e[n].push({\"gtm.start\":(new Date).getTime(),event:\"gtm.js\"});var m=t.getElementsByTagName(a)[0],r=t.createElement(a);r.async=!0,r.src=\"//www.googletagmanager.com/gtm.js?id=GTM-T7V5LF\",m.parentNode.insertBefore(r,m)}(window,document,\"script\",\"dataLayer\")</script> <script src=\"/onesite_modules/onesite-angular-foundation/onesite-angular-foundation.min.js\"></script> <script src=\"/onesite_modules/onesite-analytics/onesite-analytics.min.js\"></script> <script src=\"/onesite_modules/onesite-search/onesite-search.min.js\"></script> <script src=\"/onesite_modules/onesite-contact-us/onesite-contact-us.min.js\"></script> <script src=\"/onesite_modules/onesite-body/onesite-body.min.js\"></script> <script src=\"/onesite_modules/onesite-live-chat/onesite-live-chat.min.js\"></script> <script src=\"/onesite_modules/onesite-holiday-pay-calculator/onesite-holiday-pay-calculator.min.js\"></script> <script src=\"/onesite_modules/onesite-moment/onesite-moment.min.js\"></script> <script src=\"/onesite_modules/onesite-health/yellowCard/onesite-health.min.js\"></script> <script src=\"/core_modules/content-type/content-type.min.js\"></script> <script src=\"/core_modules/component/component.min.js\"></script> <script src=\"/js/app.min.js\"></script> <script src=\"/splash/splash.min.js\"></script> \\n    <script type=\"text/javascript\">\\n      /*@cc_on\\n        if (/^9|10/.test(@_jscript_version)) {\\n          document.getElementById(\"ie10\").className = \"alert-box\";\\n        }\\n      @*/\\n    </script>\\n     </body> </html> '"
     ]
    },
    {
     "name": "stdout",
     "output_type": "stream",
     "text": [
      "\n"
     ]
    }
   ],
   "source": [
    "import requests\n",
    "\n",
    "headers = {'User-Agent': 'Mozilla/5.0 (Macintosh; Intel Mac OS X 10_10_1) AppleWebKit/537.36 (KHTML, like Gecko) Chrome/39.0.2171.95 Safari/537.36'}\n",
    "\n",
    "response = requests.get(my_url, headers=headers)\n",
    "print(response.content)"
   ]
  },
  {
   "cell_type": "code",
   "execution_count": 115,
   "metadata": {},
   "outputs": [
    {
     "ename": "AttributeError",
     "evalue": "'str' object has no attribute 'launch_browser'",
     "output_type": "error",
     "traceback": [
      "\u001b[0;31m---------------------------------------------------------------------------\u001b[0m",
      "\u001b[0;31mAttributeError\u001b[0m                            Traceback (most recent call last)",
      "\u001b[0;32m<ipython-input-115-58d65039efd2>\u001b[0m in \u001b[0;36m<module>\u001b[0;34m\u001b[0m\n\u001b[1;32m      1\u001b[0m \u001b[0mprofile\u001b[0m \u001b[0;34m=\u001b[0m \u001b[0mwebdriver\u001b[0m\u001b[0;34m.\u001b[0m\u001b[0mFirefoxProfile\u001b[0m\u001b[0;34m(\u001b[0m\u001b[0;34m'/usr/local/bin'\u001b[0m\u001b[0;34m)\u001b[0m\u001b[0;34m\u001b[0m\u001b[0;34m\u001b[0m\u001b[0m\n\u001b[0;32m----> 2\u001b[0;31m \u001b[0mdriver\u001b[0m \u001b[0;34m=\u001b[0m \u001b[0mwebdriver\u001b[0m\u001b[0;34m.\u001b[0m\u001b[0mFirefox\u001b[0m\u001b[0;34m(\u001b[0m\u001b[0mprofile\u001b[0m\u001b[0;34m)\u001b[0m\u001b[0;34m\u001b[0m\u001b[0;34m\u001b[0m\u001b[0m\n\u001b[0m",
      "\u001b[0;32m//anaconda3/lib/python3.7/site-packages/selenium/webdriver/firefox/webdriver.py\u001b[0m in \u001b[0;36m__init__\u001b[0;34m(self, firefox_profile, firefox_binary, timeout, capabilities, proxy, executable_path, options, service_log_path, firefox_options, service_args, desired_capabilities, log_path, keep_alive)\u001b[0m\n\u001b[1;32m    189\u001b[0m \u001b[0;34m\u001b[0m\u001b[0m\n\u001b[1;32m    190\u001b[0m             executor = ExtensionConnection(\"127.0.0.1\", self.profile,\n\u001b[0;32m--> 191\u001b[0;31m                                            self.binary, timeout)\n\u001b[0m\u001b[1;32m    192\u001b[0m             RemoteWebDriver.__init__(\n\u001b[1;32m    193\u001b[0m                 \u001b[0mself\u001b[0m\u001b[0;34m,\u001b[0m\u001b[0;34m\u001b[0m\u001b[0;34m\u001b[0m\u001b[0m\n",
      "\u001b[0;32m//anaconda3/lib/python3.7/site-packages/selenium/webdriver/firefox/extension_connection.py\u001b[0m in \u001b[0;36m__init__\u001b[0;34m(self, host, firefox_profile, firefox_binary, timeout)\u001b[0m\n\u001b[1;32m     50\u001b[0m         \u001b[0mself\u001b[0m\u001b[0;34m.\u001b[0m\u001b[0mprofile\u001b[0m\u001b[0;34m.\u001b[0m\u001b[0madd_extension\u001b[0m\u001b[0;34m(\u001b[0m\u001b[0;34m)\u001b[0m\u001b[0;34m\u001b[0m\u001b[0;34m\u001b[0m\u001b[0m\n\u001b[1;32m     51\u001b[0m \u001b[0;34m\u001b[0m\u001b[0m\n\u001b[0;32m---> 52\u001b[0;31m         \u001b[0mself\u001b[0m\u001b[0;34m.\u001b[0m\u001b[0mbinary\u001b[0m\u001b[0;34m.\u001b[0m\u001b[0mlaunch_browser\u001b[0m\u001b[0;34m(\u001b[0m\u001b[0mself\u001b[0m\u001b[0;34m.\u001b[0m\u001b[0mprofile\u001b[0m\u001b[0;34m,\u001b[0m \u001b[0mtimeout\u001b[0m\u001b[0;34m=\u001b[0m\u001b[0mtimeout\u001b[0m\u001b[0;34m)\u001b[0m\u001b[0;34m\u001b[0m\u001b[0;34m\u001b[0m\u001b[0m\n\u001b[0m\u001b[1;32m     53\u001b[0m         \u001b[0m_URL\u001b[0m \u001b[0;34m=\u001b[0m \u001b[0;34m\"http://%s:%d/hub\"\u001b[0m \u001b[0;34m%\u001b[0m \u001b[0;34m(\u001b[0m\u001b[0mHOST\u001b[0m\u001b[0;34m,\u001b[0m \u001b[0mPORT\u001b[0m\u001b[0;34m)\u001b[0m\u001b[0;34m\u001b[0m\u001b[0;34m\u001b[0m\u001b[0m\n\u001b[1;32m     54\u001b[0m         RemoteConnection.__init__(\n",
      "\u001b[0;31mAttributeError\u001b[0m: 'str' object has no attribute 'launch_browser'"
     ]
    }
   ],
   "source": [
    "profile = webdriver.FirefoxProfile('/usr/local/bin')\n",
    "driver = webdriver.Firefox(profile)"
   ]
  },
  {
   "cell_type": "code",
   "execution_count": 34,
   "metadata": {},
   "outputs": [
    {
     "data": {
      "text/plain": [
       "<!DOCTYPE html>\n",
       "<html class=\"no-js\" lang=\"en\"><head> <meta charset=\"utf-8\"/> <meta content=\"width=device-width,initial-scale=1\" name=\"viewport\"/> <meta content=\"IE=edge\" http-equiv=\"X-UA-Compatible\"/> <meta content=\"0f38a1022cdb82bc265752c28d3c370df5c9dafd\" name=\"sha\"/> <title></title> <base href=\"/\"/> <link href=\"/css/combined.css\" media=\"screen\" rel=\"stylesheet\"/> <link href=\"/css/print.css\" media=\"print\" rel=\"stylesheet\"/> <script src=\"/vendor/modernizr/modernizr.js\"></script> <script>!function(a,e,o,n,c,i,t){a.GoogleAnalyticsObject=c,a.ga=a.ga||function(){(a.ga.q=a.ga.q||[]).push(arguments)},a.ga.l=1*new Date,i=e.createElement(o),t=e.getElementsByTagName(o)[0],i.async=1,i.src=\"//www.google-analytics.com/analytics.js\",t.parentNode.insertBefore(i,t)}(window,document,\"script\",0,\"ga\"),ga(\"create\",\"UA-21003310-6\",{cookieDomain:\"auto\",allowLinker:!0}),ga(\"create\",\"UA-48649528-1\",{cookieDomain:\"auto\",allowLinker:!0,name:\"ServiceOntario\"}),ga(\"require\",\"linker\"),ga(\"linker:autoLink\",[\"serviceontario.ca\",\"services.gov.on.ca\",\"appmybizaccount.gov.on.ca\",\"appointments.gov.on.ca\",\"personalproperty.gov.on.ca\",\"orgforms.gov.on.ca\",\"services1.gov.on.ca\"])</script> <link href=\"/img/favicon.ico\" rel=\"icon\" type=\"image/x-icon\"/> <link href=\"/img/favicon.ico\" rel=\"shortcut icon\" type=\"image/x-icon\"/> <link class=\"hreflang\"/> <link class=\"hreflang-alt\"/> <!-- Bing webmaster tools --> <meta content=\"1458065E1A4468FEAE68FAF332D18764\" name=\"msvalidate.01\"/> <script async=\"\" defer=\"defer\" src=\"https://www.google.com/recaptcha/api.js?render=explicit\"></script> </head> <body class=\"node-{{ mainController.node.content.id }}\" ng-app=\"onesite.app\" ng-class=\"{\n",
       "          'static splash': mainController.node.content.type === 'splash',\n",
       "          'static home-page': mainController.node.content.type === 'homepage'\n",
       "        }\" ng-cloak=\"\" ng-controller=\"MainController as mainController\"> <div class=\"emergency-banner emergency-banner--covid\" ng-cloak=\"\" ng-show=\"['53966','53967'].includes(mainController.node.content.id) === false\n",
       "         &amp;&amp; mainController.node.content.type !== 'splash'\n",
       "         &amp;&amp; mainController.node.content.type != null\"> <div class=\"row\"> <div class=\"small-12 columns emergency-banner__icon\" ng-switch=\"mainController.node.content.lang\"> <div ng-switch-when=\"fr\"> <p> <img alt=\"\" aria-hidden=\"true\" class=\"emergency-banner__warning\" role=\"presentation\" src=\"/img/assets/icon-alert-warning-white.svg\"/> COVID-19 : Obtenez les <a analytics-category=\"Header\" analytics-event=\"Covid-19\" analytics-label=\"derniÃ¨res mises Ã  jour||https://covid-19.ontario.ca/fr/index.fr.html\" analytics-on=\"\" href=\"//covid-19.ontario.ca/fr/index.fr.html\">derniÃ¨res mises Ã  jour</a> ou faites une <a analytics-category=\"Header\" analytics-event=\"Covid-19\" analytics-label=\"autoÃ©valuation||https://covid-19.ontario.ca/autoevaluation\" analytics-on=\"\" href=\"//covid-19.ontario.ca/autoevaluation/\">autoÃ©valuation</a>. </p> </div> <div ng-switch-default=\"\"> <p> <img alt=\"\" aria-hidden=\"true\" class=\"emergency-banner__warning\" role=\"presentation\" src=\"/img/assets/icon-alert-warning-white.svg\"/> COVID-19: Get the <a analytics-category=\"Header\" analytics-event=\"Covid-19\" analytics-label=\"latest updates||https://covid-19.ontario.ca\" analytics-on=\"\" href=\"//covid-19.ontario.ca/\">latest updates</a> or take a <a analytics-category=\"Header\" analytics-event=\"Covid-19\" analytics-label=\"self-assessment||https://covid-19.ontario.ca/self-assessment\" analytics-on=\"\" href=\"//covid-19.ontario.ca/self-assessment/\">self-assessment</a>. </p> </div> </div> </div> </div> <noscript> <header> <div class=\"row expanded\"> <div class=\"small-12 columns\"> <div class=\"iconWrapperLongNoBg iconLogoHeader\"> <img alt=\"Government of Ontario | Gouvernement de lâOntario\" class=\"site-logo\" ng-src=\"/img/logo-ontario@2x.png\" src=\"/img/logo-ontario@2x.png\"/> </div> </div> </div> </header> <main style=\"margin-top:1em\"> <div class=\"row\"> <div class=\"small-9 columns\" lang=\"en\"> <h1>JavaScript is required to view this site</h1> <p>Ontario.ca needs JavaScript to function properly and provide you with a fast, stable experience. Please enable JavaScript or check your browser's settings.</p> </div> <div class=\"small-12 columns\" lang=\"fr\"> <h1>JavaScript est nÃ©cessaire pour ce site</h1> <p>Le site Ontario.ca exige JavaScript pour fonctionner comme il faut, avec rapiditÃ© et stabilitÃ©. Veuillez activer JavaScript ou vÃ©rifier les paramÃ¨tres de votre navigateur.</p> </div> </div> </main> </noscript> <!--\n",
       "      Skip link that appears on focus, don't add to select language page or search\n",
       "    --> <div class=\"row\" ng-if=\"mainController.node.content.params.contentType !== '#!'\"> <div class=\"columns center small-3 small-centered\"> <a class=\"show-on-focus skip-link\" href=\"{{mainController.node.content.params.alias}}#ng-view\" id=\"skip-link\" ng-if=\"mainController.node.content.params.contentType !== 'searchResults'\" target=\"_self\"> {{ 'Skip to main content' | translate }} </a> <!--\n",
       "          For all search related pages, i.e. main search, trade calendar, gazette,\n",
       "          orders in council, data catalogue, land registration, etc.\n",
       "\n",
       "          With this implementation, the skip link will only work on the first click\n",
       "          and will benefit mostly when a user clicks a search page with a query already\n",
       "          in the URL. This is a workaround since the mainController doesn't have access\n",
       "          to updated queries.\n",
       "        --> <a class=\"show-on-focus skip-link\" href=\"#ng-view\" id=\"skip-link\" ng-if=\"mainController.node.content.params.contentType === 'searchResults'\"> {{ 'Skip to main content' | translate }} </a> </div> </div> <onesite-header content-node=\"mainController.node.content\" id=\"ng-view-header\" ng-show=\"mainController.node.content.headerType\" role=\"banner\" search=\"mainController.search\" update=\"mainController.update\"> </onesite-header> <div class=\"ie10\" id=\"ie10\" style=\"margin-bottom:0\"> <div class=\"row small\"> <div class=\"small-1 columns\"> <img alt=\"\" class=\"top-margin-half\" src=\"https://files.ontario.ca/banner-icon-alert-xsmall.png\"/> </div> <div class=\"small-11 columns\"> <p lang=\"en\"> You are using an outdated browser that is no longer supported by Ontario.ca. <br/>Outdated browsers lack safety features that keep your information secure, and they can also be slow. <br/><a href=\"/page/browsers\">Learn about the browsers we support.</a> </p> <p lang=\"fr\" style=\"margin-bottom:0\"> Vous utilisez un navigateur dÃ©suet qui nâest plus acceptÃ© par Ontario.ca. <br/>Les navigateurs dÃ©suets ne disposent pas de caractÃ©ristiques sÃ©curitaires permettant dâassurer la sÃ©curitÃ© de vos renseignements. <br/><a href=\"/fr/page/navigateurs\">En savoir plus sur les navigateurs que nous supportons.</a> </p> </div> </div> </div> <div id=\"ng-view\" ng-view=\"\"></div> <script src=\"/vendor/moment/min/moment.min.js\"></script> <script src=\"https://cdnjs.cloudflare.com/ajax/libs/jquery/2.2.4/jquery.min.js\"></script> <script src=\"/js/libs.min.js\"></script> <noscript> <iframe height=\"0\" src=\"https://www.googletagmanager.com/ns.html?id=GTM-T7V5LF\" style=\"display:none;visibility:hidden\" width=\"0\"></iframe> </noscript> <script>!function(e,t,a,n,g){e[n]=e[n]||[],e[n].push({\"gtm.start\":(new Date).getTime(),event:\"gtm.js\"});var m=t.getElementsByTagName(a)[0],r=t.createElement(a);r.async=!0,r.src=\"//www.googletagmanager.com/gtm.js?id=GTM-T7V5LF\",m.parentNode.insertBefore(r,m)}(window,document,\"script\",\"dataLayer\")</script> <script src=\"/onesite_modules/onesite-angular-foundation/onesite-angular-foundation.min.js\"></script> <script src=\"/onesite_modules/onesite-analytics/onesite-analytics.min.js\"></script> <script src=\"/onesite_modules/onesite-search/onesite-search.min.js\"></script> <script src=\"/onesite_modules/onesite-contact-us/onesite-contact-us.min.js\"></script> <script src=\"/onesite_modules/onesite-body/onesite-body.min.js\"></script> <script src=\"/onesite_modules/onesite-live-chat/onesite-live-chat.min.js\"></script> <script src=\"/onesite_modules/onesite-holiday-pay-calculator/onesite-holiday-pay-calculator.min.js\"></script> <script src=\"/onesite_modules/onesite-moment/onesite-moment.min.js\"></script> <script src=\"/onesite_modules/onesite-health/yellowCard/onesite-health.min.js\"></script> <script src=\"/core_modules/content-type/content-type.min.js\"></script> <script src=\"/core_modules/component/component.min.js\"></script> <script src=\"/js/app.min.js\"></script> <script src=\"/splash/splash.min.js\"></script> \n",
       "    <script type=\"text/javascript\">\n",
       "      /*@cc_on\n",
       "        if (/^9|10/.test(@_jscript_version)) {\n",
       "          document.getElementById(\"ie10\").className = \"alert-box\";\n",
       "        }\n",
       "      @*/\n",
       "    </script>\n",
       "       </body></html>"
      ]
     },
     "execution_count": 34,
     "metadata": {},
     "output_type": "execute_result"
    }
   ],
   "source": [
    "s"
   ]
  }
 ],
 "metadata": {
  "kernelspec": {
   "display_name": "Python 3",
   "language": "python",
   "name": "python3"
  },
  "language_info": {
   "codemirror_mode": {
    "name": "ipython",
    "version": 3
   },
   "file_extension": ".py",
   "mimetype": "text/x-python",
   "name": "python",
   "nbconvert_exporter": "python",
   "pygments_lexer": "ipython3",
   "version": "3.7.4"
  }
 },
 "nbformat": 4,
 "nbformat_minor": 4
}
