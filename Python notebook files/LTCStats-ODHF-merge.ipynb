{
 "cells": [
  {
   "cell_type": "markdown",
   "metadata": {},
   "source": [
    "#### Merging scraped LTC statistics with ODHF\n",
    "\n",
    "[How Ontario is responding to Covid-19](https://www.ontario.ca/page/how-ontario-is-responding-covid-19)\n",
    "\n",
    "**Authors:** KT\n",
    "\n",
    "---"
   ]
  },
  {
   "cell_type": "code",
   "execution_count": null,
   "metadata": {},
   "outputs": [],
   "source": [
    "import numpy as np \n",
    "import pandas as pd"
   ]
  },
  {
   "cell_type": "code",
   "execution_count": null,
   "metadata": {},
   "outputs": [],
   "source": [
    "odhf = pd.read_csv('../data/ODHF/odhf_v1.csv', engine='python')"
   ]
  },
  {
   "cell_type": "code",
   "execution_count": null,
   "metadata": {},
   "outputs": [],
   "source": [
    "ltc = pd.read_csv('../data/merged_ltc_secondScrape.csv')"
   ]
  },
  {
   "cell_type": "code",
   "execution_count": null,
   "metadata": {},
   "outputs": [],
   "source": [
    "ltc.head()"
   ]
  },
  {
   "cell_type": "code",
   "execution_count": null,
   "metadata": {},
   "outputs": [],
   "source": [
    "odhf.head()"
   ]
  },
  {
   "cell_type": "markdown",
   "metadata": {},
   "source": [
    "#### To Fix:\n",
    "- remove symbols in odhf `facility_name`\n",
    "- convert ltc `LTC Home` to lower case\n",
    "- convert french characters to english\n"
   ]
  },
  {
   "cell_type": "code",
   "execution_count": null,
   "metadata": {},
   "outputs": [],
   "source": [
    "import unicodedata\n",
    "\n",
    "odhf['cleaned_name'] = odhf['facility_name'].apply(lambda val: unicodedata.normalize('NFKD', val).encode('ascii', 'ignore').decode())"
   ]
  },
  {
   "cell_type": "code",
   "execution_count": null,
   "metadata": {},
   "outputs": [],
   "source": [
    "ltc['cleaned_name'] = ltc['LTC Home'].map(lambda x: str(x).lower())"
   ]
  },
  {
   "cell_type": "code",
   "execution_count": null,
   "metadata": {},
   "outputs": [],
   "source": [
    "import unidecode\n",
    "\n",
    "odhf['cleaned_name'] = odhf['cleaned_name'].map(lambda x: unidecode.unidecode(x))\n",
    "ltc['cleaned_name'] = ltc['cleaned_name'].map(lambda x: unidecode.unidecode(x))\n"
   ]
  },
  {
   "cell_type": "markdown",
   "metadata": {},
   "source": [
    "### Merge Summary"
   ]
  },
  {
   "cell_type": "code",
   "execution_count": null,
   "metadata": {},
   "outputs": [],
   "source": [
    "outer = pd.merge(odhf, ltc, how = 'right', on = 'cleaned_name')"
   ]
  },
  {
   "cell_type": "code",
   "execution_count": null,
   "metadata": {},
   "outputs": [],
   "source": [
    "outer.to_csv('../data/ltc-odhf.csv')"
   ]
  },
  {
   "cell_type": "code",
   "execution_count": null,
   "metadata": {},
   "outputs": [],
   "source": [
    "print('Rows of ODHF: {} Rows of LTC: {} Rows after merge: {}'.format(len(odhf), len(ltc), len(outer)))"
   ]
  },
  {
   "cell_type": "code",
   "execution_count": null,
   "metadata": {
    "scrolled": true
   },
   "outputs": [],
   "source": [
    "outer.groupby('source_facility_type')['cleaned_name'].nunique()"
   ]
  },
  {
   "cell_type": "markdown",
   "metadata": {},
   "source": [
    "**Scraped LTC homes not in ODHF:**"
   ]
  },
  {
   "cell_type": "code",
   "execution_count": null,
   "metadata": {},
   "outputs": [],
   "source": [
    "ltc[~ltc['cleaned_name'].isin(odhf['cleaned_name'])].dropna()"
   ]
  },
  {
   "cell_type": "markdown",
   "metadata": {},
   "source": [
    "***Other facilities found manually in ltc-odhf.csv:***\n",
    "\n",
    "*Cross-referenced with ODHF csv (after filtering on province and searching facility name)*\n",
    "\n",
    "---\n",
    "\n",
    "1. **LTC Home:** <mark> albright gardens homes, incorporated </mark> - Beamsville\n",
    "\n",
    "      * Found similar entry in **ODHF** under: <mark> albright gardens </mark> - Lincoln\n",
    "      \n",
    "      \n",
    "\n",
    "2. **LTC HOME:** <mark> st. joseph's villa, dundas </mark> - Dundas\n",
    "\n",
    "      * Found similar entry in **ODHF** under: <mark> st. josephís motherhouse martha wing </mark>"
   ]
  },
  {
   "cell_type": "markdown",
   "metadata": {},
   "source": [
    "---\n",
    "\n",
    "***Google search results:***\n",
    "\n",
    "1. [Albright Gardens](https://www.albrightgardens.ca) is a retirement community with a different address than [Albright manor](https://niagara.cioc.ca/record/NIA1571) although they are both in Beamsville, ON. ODHF does not include street address and both postal codes are the same as what's in the ODHF **(L0R 1B2).**\n",
    "2. [St. Joseph's villa, Dundas](https://sjvfoundation.ca) has a different postal code **(L9H5G7)** than [St Joseph's motherhouse martha wing](http://publicreporting.ltchomes.net/en-ca/homeprofile.aspx?Home=C604) **(L9H7L9)**, which is what is included in ODHF. Entry is also missing street address in ODHF."
   ]
  },
  {
   "cell_type": "markdown",
   "metadata": {},
   "source": [
    "---\n",
    "\n",
    "***Summary of merge discrepancies:***\n",
    "\n",
    "ODHF | LTC Scrape | Outbreak Status\n",
    "-----|------------|------------------\n",
    "bruyËre continuing care ó Èlisabeth bruyËre residence | Élisabeth-Bruyère Residence (Ottawa) | <mark> Active </mark>\n",
    "rÈsidence saint-louis | Residence Saint-Louis (Ottawa) |  <mark> Active </mark> \n",
    "**Not found** - mount forest family health team inc. | Strathcona Long Term Care (Mount Forest) |  <mark> Active </mark>\n",
    "st. joseph's villa (dundas) | st. joseph's villa, dundas (Hamilton) | Inactive\n",
    "Albright Gardens (Lincoln) | Albright Gardens (Beamsville) | Inactive\n",
    "\n",
    "---\n",
    "\n",
    "***Next Steps:***\n",
    "\n",
    "1. adjust text in odhf dataframe prior to merge\n",
    "2. merge with Ngan's scrape"
   ]
  },
  {
   "cell_type": "markdown",
   "metadata": {},
   "source": [
    "---\n",
    "\n",
    "### Merge with Ngan's Scrape\n",
    "\n",
    "- filter ON for odhf"
   ]
  },
  {
   "cell_type": "code",
   "execution_count": null,
   "metadata": {},
   "outputs": [],
   "source": [
    "ngan=pd.read_csv(\"../data/df_final_ngan.csv\")"
   ]
  },
  {
   "cell_type": "code",
   "execution_count": null,
   "metadata": {},
   "outputs": [],
   "source": [
    "odhf['cleaned_name'] = odhf['cleaned_name'].apply(lambda val: unicodedata.normalize('NFKD', val).encode('ascii', 'ignore').decode())"
   ]
  },
  {
   "cell_type": "code",
   "execution_count": null,
   "metadata": {},
   "outputs": [],
   "source": [
    "odhf = odhf.loc[odhf['province'] == 'on']"
   ]
  },
  {
   "cell_type": "markdown",
   "metadata": {},
   "source": [
    "***To Do:***\n",
    "- remove closed homes\n",
    "- cross reference discrepancies between Ngan's LTC scrape and ODHF\n",
    "- change names to match ODHF for those found\n"
   ]
  },
  {
   "cell_type": "code",
   "execution_count": null,
   "metadata": {},
   "outputs": [],
   "source": [
    "closed_homes = ngan[ngan['additional_info'].fillna('none').str.lower().str.contains('closed')]\n",
    "len(closed_homes)"
   ]
  },
  {
   "cell_type": "code",
   "execution_count": null,
   "metadata": {},
   "outputs": [],
   "source": [
    "a = set(closed_homes['cleaned_name'])\n",
    "b = set(ngan['cleaned_name'])\n",
    "def removeClosedHomes(a, b):\n",
    "    return [x for x in b if x not in a]\n",
    "open_homes = removeClosedHomes(a, b)"
   ]
  },
  {
   "cell_type": "code",
   "execution_count": null,
   "metadata": {},
   "outputs": [],
   "source": [
    "ngan2 = ngan[ngan['cleaned_name'].isin(open_homes)]"
   ]
  },
  {
   "cell_type": "markdown",
   "metadata": {},
   "source": [
    "#### Merge"
   ]
  },
  {
   "cell_type": "code",
   "execution_count": null,
   "metadata": {},
   "outputs": [],
   "source": [
    "outer2 = pd.merge(odhf, ngan2, how = 'right', on = 'cleaned_name')"
   ]
  },
  {
   "cell_type": "code",
   "execution_count": null,
   "metadata": {},
   "outputs": [],
   "source": [
    "outer2.to_csv('../data/FINAL_merge2.csv')"
   ]
  },
  {
   "cell_type": "markdown",
   "metadata": {},
   "source": [
    "#### Rename LTC scraped homes with ODHF discrepancies"
   ]
  },
  {
   "cell_type": "code",
   "execution_count": null,
   "metadata": {},
   "outputs": [],
   "source": [
    "# alternative entry names from scrape\n",
    "ngan2['cleaned_name'].replace({'albright gardens homes, incorporated' : 'albright gardens',\n",
    "                               'st. joseph\\'s villa, dundas' : \"st. joseph's villa (dundas)\",\n",
    "                               'bella senior care residences inc.' : \"bella senior care residences\",\n",
    "                               'bon air long term care residence' : 'chartwell bon air long term care residence',\n",
    "                                'caressant care - codben' : 'caressant care - cobden',\n",
    "                               'caressant care harriston' : 'caressant care - harriston',\n",
    "                               'champlain long term care residence' : 'chartwell champlain long term care residence',\n",
    "                                'dawson court' : 'city of thunder bay  dawson court',\n",
    "                               'heartwood (fka versa-care cornwall)' : 'heartwood',\n",
    "                               'lancaster long term care residence' : 'chartwell lancaster long term care residence',\n",
    "                               'niagara long term care residence' : 'chartwell niagara long term care residence',\n",
    "                               'north renfrew long-term care services' : 'north renfrew long-term care services inc.',\n",
    "                               'st. joseph\\'s health centre, guelph': 'st. joseph\\'s health centre - guelph', \n",
    "                                'the meadows' :'revera inc.  the meadows long term care centre',\n",
    "            'william a. \"bill\" george extended care facility': 'william a. \\'bill\\' george extended care facility'}, inplace = True)"
   ]
  },
  {
   "cell_type": "markdown",
   "metadata": {},
   "source": [
    "\n",
    "#### Rename names with french accents:\n",
    "\n",
    "*Require changing both ltc scraped data and odhf*"
   ]
  },
  {
   "cell_type": "code",
   "execution_count": null,
   "metadata": {},
   "outputs": [],
   "source": [
    "# elisabeth-bruyere residence\n",
    "#ngan2.loc[ngan['address'] == '75 Bruyere Street']['cleaned_name'] = 'elisabeth-bruyere residence'\n",
    "ngan2['cleaned_name'].replace({'élisabeth-bruyère residence' : 'elisabeth-bruyere residence',\n",
    "                              'rÈsidence saint-louis': 'residence saint-louis',\n",
    "                              'north shore health network – eldcap unit' : 'north shore health network - eldcap unit',\n",
    "                              'north shore health network – ltc unit' : 'north shore health network - ltc unit'}, inplace = True)\n",
    "\n",
    "odhf['cleaned_name'].replace({'lisabeth-bruyre residence': 'elisabeth-bruyere residence',\n",
    "                             'rsidence saint-louis' : 'residence saint-louis',\n",
    "                             'north shore health network - eldcap unit' : 'north shore health network - eldcap unit',\n",
    "                             'north shore health network - ltc unit' : 'north shore health network - ltc unit'}, inplace = True)"
   ]
  },
  {
   "cell_type": "code",
   "execution_count": null,
   "metadata": {},
   "outputs": [],
   "source": [
    "#ngan.loc[ngan.cleaned_name.fillna('none').str.lower().str.contains('north shore')]['cleaned_name']"
   ]
  },
  {
   "cell_type": "code",
   "execution_count": null,
   "metadata": {},
   "outputs": [],
   "source": [
    "#odhf.loc[odhf.cleaned_name.fillna('none').str.lower().str.contains('the meadows long term care')]['cleaned_name']"
   ]
  },
  {
   "cell_type": "markdown",
   "metadata": {},
   "source": [
    "#### Merge again"
   ]
  },
  {
   "cell_type": "code",
   "execution_count": null,
   "metadata": {},
   "outputs": [],
   "source": [
    "outer2 = pd.merge(odhf, ngan2, how = 'right', on = 'cleaned_name')\n",
    "\n",
    "outer2.to_csv('../data/FINAL_merge2.csv')"
   ]
  },
  {
   "cell_type": "markdown",
   "metadata": {},
   "source": [
    "#### Find lat and lon"
   ]
  },
  {
   "cell_type": "code",
   "execution_count": null,
   "metadata": {},
   "outputs": [],
   "source": [
    "import geocoder"
   ]
  },
  {
   "cell_type": "code",
   "execution_count": null,
   "metadata": {},
   "outputs": [],
   "source": [
    "t = outer2[outer2['facility_name'].isnull()][['address', 'city and postal code']]\n",
    "t['city and postal code'].iloc[0][:-8]"
   ]
  },
  {
   "cell_type": "code",
   "execution_count": null,
   "metadata": {},
   "outputs": [],
   "source": [
    "g = geocoder.google('Mountain View, CA')\n",
    "print(g.latlng)"
   ]
  },
  {
   "cell_type": "code",
   "execution_count": null,
   "metadata": {},
   "outputs": [],
   "source": [
    "from geopandas.tools import geocode"
   ]
  },
  {
   "cell_type": "code",
   "execution_count": null,
   "metadata": {},
   "outputs": [],
   "source": [
    "geocode(t['city and postal code'].iloc[0][:-8])"
   ]
  },
  {
   "cell_type": "code",
   "execution_count": null,
   "metadata": {},
   "outputs": [],
   "source": []
  }
 ],
 "metadata": {
  "kernelspec": {
   "display_name": "Python 3",
   "language": "python",
   "name": "python3"
  },
  "language_info": {
   "codemirror_mode": {
    "name": "ipython",
    "version": 3
   },
   "file_extension": ".py",
   "mimetype": "text/x-python",
   "name": "python",
   "nbconvert_exporter": "python",
   "pygments_lexer": "ipython3",
   "version": "3.7.4"
  }
 },
 "nbformat": 4,
 "nbformat_minor": 4
}
