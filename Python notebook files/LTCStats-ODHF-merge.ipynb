{
 "cells": [
  {
   "cell_type": "markdown",
   "metadata": {},
   "source": [
    "#### Merging scraped LTC statistics with ODHF\n",
    "\n",
    "[How Ontario is responding to Covid-19](https://www.ontario.ca/page/how-ontario-is-responding-covid-19)\n",
    "\n",
    "**Authors:** KT\n",
    "\n",
    "---"
   ]
  },
  {
   "cell_type": "code",
   "execution_count": 1,
   "metadata": {},
   "outputs": [],
   "source": [
    "import pandas as pd"
   ]
  },
  {
   "cell_type": "code",
   "execution_count": 2,
   "metadata": {},
   "outputs": [],
   "source": [
    "odhf = pd.read_csv('../data/ODHF/odhf_v1.csv', engine='python')"
   ]
  },
  {
   "cell_type": "code",
   "execution_count": 3,
   "metadata": {},
   "outputs": [],
   "source": [
    "ltc = pd.read_csv('../data/merged_ltc.csv')"
   ]
  },
  {
   "cell_type": "code",
   "execution_count": 4,
   "metadata": {},
   "outputs": [
    {
     "data": {
      "text/html": [
       "<div>\n",
       "<style scoped>\n",
       "    .dataframe tbody tr th:only-of-type {\n",
       "        vertical-align: middle;\n",
       "    }\n",
       "\n",
       "    .dataframe tbody tr th {\n",
       "        vertical-align: top;\n",
       "    }\n",
       "\n",
       "    .dataframe thead th {\n",
       "        text-align: right;\n",
       "    }\n",
       "</style>\n",
       "<table border=\"1\" class=\"dataframe\">\n",
       "  <thead>\n",
       "    <tr style=\"text-align: right;\">\n",
       "      <th></th>\n",
       "      <th>Unnamed: 0</th>\n",
       "      <th>LTC Home</th>\n",
       "      <th>City</th>\n",
       "      <th>Beds</th>\n",
       "      <th>Confirmed Resident Cases</th>\n",
       "      <th>Resident Deaths</th>\n",
       "      <th>Confirmed Staff Cases</th>\n",
       "      <th>Status</th>\n",
       "    </tr>\n",
       "  </thead>\n",
       "  <tbody>\n",
       "    <tr>\n",
       "      <th>0</th>\n",
       "      <td>0</td>\n",
       "      <td>Almonte Country Haven</td>\n",
       "      <td>Almonte</td>\n",
       "      <td>82</td>\n",
       "      <td>&lt;5</td>\n",
       "      <td>28</td>\n",
       "      <td>13</td>\n",
       "      <td>Active</td>\n",
       "    </tr>\n",
       "    <tr>\n",
       "      <th>1</th>\n",
       "      <td>1</td>\n",
       "      <td>Altamont Care Community</td>\n",
       "      <td>Scarborough</td>\n",
       "      <td>159</td>\n",
       "      <td>72</td>\n",
       "      <td>46</td>\n",
       "      <td>60</td>\n",
       "      <td>Active</td>\n",
       "    </tr>\n",
       "    <tr>\n",
       "      <th>2</th>\n",
       "      <td>2</td>\n",
       "      <td>Anson Place Care Centre</td>\n",
       "      <td>Hagersville</td>\n",
       "      <td>61</td>\n",
       "      <td>28</td>\n",
       "      <td>23</td>\n",
       "      <td>29</td>\n",
       "      <td>Active</td>\n",
       "    </tr>\n",
       "    <tr>\n",
       "      <th>3</th>\n",
       "      <td>3</td>\n",
       "      <td>Arbour Creek Long-Term Care Centre</td>\n",
       "      <td>Hamilton</td>\n",
       "      <td>129</td>\n",
       "      <td>0</td>\n",
       "      <td>0</td>\n",
       "      <td>&lt;5</td>\n",
       "      <td>Active</td>\n",
       "    </tr>\n",
       "    <tr>\n",
       "      <th>4</th>\n",
       "      <td>4</td>\n",
       "      <td>Avalon Retirement Centre</td>\n",
       "      <td>Orangeville</td>\n",
       "      <td>137</td>\n",
       "      <td>0</td>\n",
       "      <td>0</td>\n",
       "      <td>&lt;5</td>\n",
       "      <td>Active</td>\n",
       "    </tr>\n",
       "  </tbody>\n",
       "</table>\n",
       "</div>"
      ],
      "text/plain": [
       "   Unnamed: 0                            LTC Home         City  Beds  \\\n",
       "0           0               Almonte Country Haven      Almonte    82   \n",
       "1           1             Altamont Care Community  Scarborough   159   \n",
       "2           2             Anson Place Care Centre  Hagersville    61   \n",
       "3           3  Arbour Creek Long-Term Care Centre     Hamilton   129   \n",
       "4           4            Avalon Retirement Centre  Orangeville   137   \n",
       "\n",
       "  Confirmed Resident Cases Resident Deaths Confirmed Staff Cases  Status  \n",
       "0                       <5              28                    13  Active  \n",
       "1                       72              46                    60  Active  \n",
       "2                       28              23                    29  Active  \n",
       "3                        0               0                    <5  Active  \n",
       "4                        0               0                    <5  Active  "
      ]
     },
     "execution_count": 4,
     "metadata": {},
     "output_type": "execute_result"
    }
   ],
   "source": [
    "ltc.head()"
   ]
  },
  {
   "cell_type": "code",
   "execution_count": 5,
   "metadata": {},
   "outputs": [
    {
     "data": {
      "text/html": [
       "<div>\n",
       "<style scoped>\n",
       "    .dataframe tbody tr th:only-of-type {\n",
       "        vertical-align: middle;\n",
       "    }\n",
       "\n",
       "    .dataframe tbody tr th {\n",
       "        vertical-align: top;\n",
       "    }\n",
       "\n",
       "    .dataframe thead th {\n",
       "        text-align: right;\n",
       "    }\n",
       "</style>\n",
       "<table border=\"1\" class=\"dataframe\">\n",
       "  <thead>\n",
       "    <tr style=\"text-align: right;\">\n",
       "      <th></th>\n",
       "      <th>index</th>\n",
       "      <th>facility_name</th>\n",
       "      <th>source_facility_type</th>\n",
       "      <th>odhf_facility_type</th>\n",
       "      <th>provider</th>\n",
       "      <th>unit</th>\n",
       "      <th>street_no</th>\n",
       "      <th>street_name</th>\n",
       "      <th>postal_code</th>\n",
       "      <th>city</th>\n",
       "      <th>province</th>\n",
       "      <th>source_format_str_address</th>\n",
       "      <th>CSDname</th>\n",
       "      <th>CSDuid</th>\n",
       "      <th>Pruid</th>\n",
       "      <th>latitude</th>\n",
       "      <th>longitude</th>\n",
       "    </tr>\n",
       "  </thead>\n",
       "  <tbody>\n",
       "    <tr>\n",
       "      <th>0</th>\n",
       "      <td>1</td>\n",
       "      <td>advanced facial &amp; nasal surgery centre</td>\n",
       "      <td>active acute hospital</td>\n",
       "      <td>Hospitals</td>\n",
       "      <td>Canadian Institute for Health Information</td>\n",
       "      <td>NaN</td>\n",
       "      <td>NaN</td>\n",
       "      <td>NaN</td>\n",
       "      <td>T5M4G5</td>\n",
       "      <td>edmonton</td>\n",
       "      <td>ab</td>\n",
       "      <td>NaN</td>\n",
       "      <td>Edmonton</td>\n",
       "      <td>NaN</td>\n",
       "      <td>48</td>\n",
       "      <td>NaN</td>\n",
       "      <td>NaN</td>\n",
       "    </tr>\n",
       "    <tr>\n",
       "      <th>1</th>\n",
       "      <td>2</td>\n",
       "      <td>agecare � beverly centre glenmore</td>\n",
       "      <td>long term care</td>\n",
       "      <td>Nursing and residential care facilities</td>\n",
       "      <td>Canadian Institute for Health Information</td>\n",
       "      <td>NaN</td>\n",
       "      <td>NaN</td>\n",
       "      <td>NaN</td>\n",
       "      <td>T2V4S1</td>\n",
       "      <td>calgary</td>\n",
       "      <td>ab</td>\n",
       "      <td>NaN</td>\n",
       "      <td>Calgary</td>\n",
       "      <td>NaN</td>\n",
       "      <td>48</td>\n",
       "      <td>NaN</td>\n",
       "      <td>NaN</td>\n",
       "    </tr>\n",
       "    <tr>\n",
       "      <th>2</th>\n",
       "      <td>3</td>\n",
       "      <td>agecare � beverly centre lake midnapore</td>\n",
       "      <td>long term care</td>\n",
       "      <td>Nursing and residential care facilities</td>\n",
       "      <td>Canadian Institute for Health Information</td>\n",
       "      <td>NaN</td>\n",
       "      <td>NaN</td>\n",
       "      <td>NaN</td>\n",
       "      <td>T2X3S3</td>\n",
       "      <td>calgary</td>\n",
       "      <td>ab</td>\n",
       "      <td>NaN</td>\n",
       "      <td>Calgary</td>\n",
       "      <td>NaN</td>\n",
       "      <td>48</td>\n",
       "      <td>NaN</td>\n",
       "      <td>NaN</td>\n",
       "    </tr>\n",
       "    <tr>\n",
       "      <th>3</th>\n",
       "      <td>4</td>\n",
       "      <td>agecare � sagewood seniors community inc</td>\n",
       "      <td>long term care</td>\n",
       "      <td>Nursing and residential care facilities</td>\n",
       "      <td>Canadian Institute for Health Information</td>\n",
       "      <td>NaN</td>\n",
       "      <td>NaN</td>\n",
       "      <td>NaN</td>\n",
       "      <td>T1P0E2</td>\n",
       "      <td>strathmore</td>\n",
       "      <td>ab</td>\n",
       "      <td>NaN</td>\n",
       "      <td>Strathmore</td>\n",
       "      <td>NaN</td>\n",
       "      <td>48</td>\n",
       "      <td>NaN</td>\n",
       "      <td>NaN</td>\n",
       "    </tr>\n",
       "    <tr>\n",
       "      <th>4</th>\n",
       "      <td>5</td>\n",
       "      <td>agecare � seton</td>\n",
       "      <td>long term care</td>\n",
       "      <td>Nursing and residential care facilities</td>\n",
       "      <td>Canadian Institute for Health Information</td>\n",
       "      <td>NaN</td>\n",
       "      <td>NaN</td>\n",
       "      <td>NaN</td>\n",
       "      <td>T3M2M3</td>\n",
       "      <td>calgary</td>\n",
       "      <td>ab</td>\n",
       "      <td>NaN</td>\n",
       "      <td>Calgary</td>\n",
       "      <td>NaN</td>\n",
       "      <td>48</td>\n",
       "      <td>NaN</td>\n",
       "      <td>NaN</td>\n",
       "    </tr>\n",
       "  </tbody>\n",
       "</table>\n",
       "</div>"
      ],
      "text/plain": [
       "   index                             facility_name   source_facility_type  \\\n",
       "0      1    advanced facial & nasal surgery centre  active acute hospital   \n",
       "1      2         agecare � beverly centre glenmore         long term care   \n",
       "2      3   agecare � beverly centre lake midnapore         long term care   \n",
       "3      4  agecare � sagewood seniors community inc         long term care   \n",
       "4      5                           agecare � seton         long term care   \n",
       "\n",
       "                        odhf_facility_type  \\\n",
       "0                                Hospitals   \n",
       "1  Nursing and residential care facilities   \n",
       "2  Nursing and residential care facilities   \n",
       "3  Nursing and residential care facilities   \n",
       "4  Nursing and residential care facilities   \n",
       "\n",
       "                                    provider unit street_no street_name  \\\n",
       "0  Canadian Institute for Health Information  NaN       NaN         NaN   \n",
       "1  Canadian Institute for Health Information  NaN       NaN         NaN   \n",
       "2  Canadian Institute for Health Information  NaN       NaN         NaN   \n",
       "3  Canadian Institute for Health Information  NaN       NaN         NaN   \n",
       "4  Canadian Institute for Health Information  NaN       NaN         NaN   \n",
       "\n",
       "  postal_code        city province source_format_str_address     CSDname  \\\n",
       "0      T5M4G5    edmonton       ab                       NaN    Edmonton   \n",
       "1      T2V4S1     calgary       ab                       NaN     Calgary   \n",
       "2      T2X3S3     calgary       ab                       NaN     Calgary   \n",
       "3      T1P0E2  strathmore       ab                       NaN  Strathmore   \n",
       "4      T3M2M3     calgary       ab                       NaN     Calgary   \n",
       "\n",
       "   CSDuid  Pruid  latitude  longitude  \n",
       "0     NaN     48       NaN        NaN  \n",
       "1     NaN     48       NaN        NaN  \n",
       "2     NaN     48       NaN        NaN  \n",
       "3     NaN     48       NaN        NaN  \n",
       "4     NaN     48       NaN        NaN  "
      ]
     },
     "execution_count": 5,
     "metadata": {},
     "output_type": "execute_result"
    }
   ],
   "source": [
    "odhf.head()"
   ]
  },
  {
   "cell_type": "markdown",
   "metadata": {},
   "source": [
    "#### To Fix:\n",
    "- remove symbols in odhf `facility_name`\n",
    "- convert ltc `LTC Home` to lower case\n"
   ]
  },
  {
   "cell_type": "code",
   "execution_count": 6,
   "metadata": {},
   "outputs": [],
   "source": [
    "import unicodedata\n",
    "\n",
    "odhf['facility_name_clean'] = odhf['facility_name'].apply(lambda val: unicodedata.normalize('NFKD', val).encode('ascii', 'ignore').decode())"
   ]
  },
  {
   "cell_type": "code",
   "execution_count": 7,
   "metadata": {},
   "outputs": [],
   "source": [
    "ltc['facility_name_clean'] = ltc['LTC Home'].map(lambda x: str(x).lower())"
   ]
  },
  {
   "cell_type": "markdown",
   "metadata": {},
   "source": [
    "### Merge Summary"
   ]
  },
  {
   "cell_type": "code",
   "execution_count": 8,
   "metadata": {},
   "outputs": [],
   "source": [
    "outer = pd.merge(odhf, ltc, how = 'right', on = 'facility_name_clean')"
   ]
  },
  {
   "cell_type": "code",
   "execution_count": 9,
   "metadata": {},
   "outputs": [],
   "source": [
    "outer.to_csv('../data/ltc-odhf.csv')"
   ]
  },
  {
   "cell_type": "code",
   "execution_count": 10,
   "metadata": {},
   "outputs": [
    {
     "name": "stdout",
     "output_type": "stream",
     "text": [
      "Rows of ODHF: 9039 Rows of LTC: 244 Rows after merge: 244\n"
     ]
    }
   ],
   "source": [
    "print('Rows of ODHF: {} Rows of LTC: {} Rows after merge: {}'.format(len(odhf), len(ltc), len(outer)))"
   ]
  },
  {
   "cell_type": "code",
   "execution_count": 11,
   "metadata": {
    "scrolled": true
   },
   "outputs": [
    {
     "data": {
      "text/plain": [
       "source_facility_type\n",
       "chronic care                     1\n",
       "community support service        3\n",
       "long-term care home            229\n",
       "retirement home                  5\n",
       "senior active living centre      1\n",
       "Name: facility_name_clean, dtype: int64"
      ]
     },
     "execution_count": 11,
     "metadata": {},
     "output_type": "execute_result"
    }
   ],
   "source": [
    "outer.groupby('source_facility_type')['facility_name_clean'].nunique()"
   ]
  },
  {
   "cell_type": "markdown",
   "metadata": {},
   "source": [
    "**Scraped LTC homes not in ODHF:**"
   ]
  },
  {
   "cell_type": "code",
   "execution_count": 12,
   "metadata": {},
   "outputs": [
    {
     "data": {
      "text/html": [
       "<div>\n",
       "<style scoped>\n",
       "    .dataframe tbody tr th:only-of-type {\n",
       "        vertical-align: middle;\n",
       "    }\n",
       "\n",
       "    .dataframe tbody tr th {\n",
       "        vertical-align: top;\n",
       "    }\n",
       "\n",
       "    .dataframe thead th {\n",
       "        text-align: right;\n",
       "    }\n",
       "</style>\n",
       "<table border=\"1\" class=\"dataframe\">\n",
       "  <thead>\n",
       "    <tr style=\"text-align: right;\">\n",
       "      <th></th>\n",
       "      <th>Unnamed: 0</th>\n",
       "      <th>LTC Home</th>\n",
       "      <th>City</th>\n",
       "      <th>Beds</th>\n",
       "      <th>Confirmed Resident Cases</th>\n",
       "      <th>Resident Deaths</th>\n",
       "      <th>Confirmed Staff Cases</th>\n",
       "      <th>Status</th>\n",
       "      <th>facility_name_clean</th>\n",
       "    </tr>\n",
       "  </thead>\n",
       "  <tbody>\n",
       "    <tr>\n",
       "      <th>44</th>\n",
       "      <td>44</td>\n",
       "      <td>Élisabeth-Bruyère Residence</td>\n",
       "      <td>Ottawa</td>\n",
       "      <td>71</td>\n",
       "      <td>10</td>\n",
       "      <td>5</td>\n",
       "      <td>&lt;5</td>\n",
       "      <td>Active</td>\n",
       "      <td>élisabeth-bruyère residence</td>\n",
       "    </tr>\n",
       "    <tr>\n",
       "      <th>122</th>\n",
       "      <td>122</td>\n",
       "      <td>Residence Saint-Louis</td>\n",
       "      <td>Ottawa</td>\n",
       "      <td>198</td>\n",
       "      <td>21</td>\n",
       "      <td>&lt;5</td>\n",
       "      <td>17</td>\n",
       "      <td>Active</td>\n",
       "      <td>residence saint-louis</td>\n",
       "    </tr>\n",
       "    <tr>\n",
       "      <th>142</th>\n",
       "      <td>142</td>\n",
       "      <td>Strathcona Long Term Care</td>\n",
       "      <td>Mount Forest</td>\n",
       "      <td>87</td>\n",
       "      <td>0</td>\n",
       "      <td>0</td>\n",
       "      <td>&lt;5</td>\n",
       "      <td>Active</td>\n",
       "      <td>strathcona long term care</td>\n",
       "    </tr>\n",
       "  </tbody>\n",
       "</table>\n",
       "</div>"
      ],
      "text/plain": [
       "     Unnamed: 0                     LTC Home          City  Beds  \\\n",
       "44           44  Élisabeth-Bruyère Residence        Ottawa    71   \n",
       "122         122        Residence Saint-Louis        Ottawa   198   \n",
       "142         142    Strathcona Long Term Care  Mount Forest    87   \n",
       "\n",
       "    Confirmed Resident Cases Resident Deaths Confirmed Staff Cases  Status  \\\n",
       "44                        10               5                    <5  Active   \n",
       "122                       21              <5                    17  Active   \n",
       "142                        0               0                    <5  Active   \n",
       "\n",
       "             facility_name_clean  \n",
       "44   élisabeth-bruyère residence  \n",
       "122        residence saint-louis  \n",
       "142    strathcona long term care  "
      ]
     },
     "execution_count": 12,
     "metadata": {},
     "output_type": "execute_result"
    }
   ],
   "source": [
    "ltc[~ltc['facility_name_clean'].isin(odhf['facility_name_clean'])].dropna()"
   ]
  },
  {
   "cell_type": "markdown",
   "metadata": {},
   "source": [
    "***Other facilities found manually in ltc-odhf.csv:***\n",
    "\n",
    "*Cross-referenced with ODHF csv (after filtering on province and searching facility name)*\n",
    "\n",
    "---\n",
    "\n",
    "1. **LTC Home:** <mark> albright gardens homes, incorporated </mark> - Beamsville\n",
    "\n",
    "      * Found similar entry in **ODHF** under: <mark> albright gardens </mark> - Lincoln\n",
    "      \n",
    "      \n",
    "\n",
    "2. **LTC HOME:** <mark> st. joseph's villa, dundas </mark> - Dundas\n",
    "\n",
    "      * Found similar entry in **ODHF** under: <mark> st. josephís motherhouse martha wing </mark>"
   ]
  },
  {
   "cell_type": "markdown",
   "metadata": {},
   "source": [
    "---\n",
    "\n",
    "***Google search results:***\n",
    "\n",
    "1. [Albright Gardens](https://www.albrightgardens.ca) is a retirement community with a different address than [Albright manor](https://niagara.cioc.ca/record/NIA1571) although they are both in Beamsville, ON. ODHF does not include street address and both postal codes are the same as what's in the ODHF **(L0R 1B2).**\n",
    "2. [St. Joseph's villa, Dundas](https://sjvfoundation.ca) has a different postal code **(L9H5G7)** than [St Joseph's motherhouse martha wing](http://publicreporting.ltchomes.net/en-ca/homeprofile.aspx?Home=C604) **(L9H7L9)**, which is what is included in ODHF. Entry is also missing street address in ODHF."
   ]
  },
  {
   "attachments": {},
   "cell_type": "markdown",
   "metadata": {},
   "source": [
    "---\n",
    "\n",
    "***Summary of merge discrepancies:***\n",
    "\n",
    "ODHF | LTC Scrape | Outbreak Status\n",
    "-----|------------|------------------\n",
    "bruyËre continuing care ó Èlisabeth bruyËre residence | Élisabeth-Bruyère Residence (Ottawa) | <mark> Active </mark>\n",
    "rÈsidence saint-louis | Residence Saint-Louis (Ottawa) |  <mark> Active </mark> \n",
    "**Not found** - mount forest family health team inc. | Strathcona Long Term Care (Mount Forest) |  <mark> Active </mark>\n",
    "st. joseph's villa (dundas) | st. joseph's villa, dundas (Hamilton) | Inactive\n",
    "Albright Gardens (Lincoln) | Albright Gardens (Beamsville) | Inactive\n",
    "\n",
    "---\n",
    "\n",
    "***Next Steps:***\n",
    "\n",
    "1. adjust text in odhf dataframe prior to merge\n",
    "2. merge with Ngan's scrape"
   ]
  },
  {
   "cell_type": "code",
   "execution_count": null,
   "metadata": {},
   "outputs": [],
   "source": []
  }
 ],
 "metadata": {
  "kernelspec": {
   "display_name": "Python 3",
   "language": "python",
   "name": "python3"
  },
  "language_info": {
   "codemirror_mode": {
    "name": "ipython",
    "version": 3
   },
   "file_extension": ".py",
   "mimetype": "text/x-python",
   "name": "python",
   "nbconvert_exporter": "python",
   "pygments_lexer": "ipython3",
   "version": "3.7.4"
  }
 },
 "nbformat": 4,
 "nbformat_minor": 4
}
