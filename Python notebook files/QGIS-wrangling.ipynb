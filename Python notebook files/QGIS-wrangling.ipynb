{
 "cells": [
  {
   "cell_type": "markdown",
   "metadata": {},
   "source": [
    "### QGIS CSV merges per PHU\n",
    "**Authors:** Sofia and KT"
   ]
  },
  {
   "cell_type": "code",
   "execution_count": 1,
   "metadata": {},
   "outputs": [],
   "source": [
    "import os\n",
    "import pandas as pd\n",
    "import glob"
   ]
  },
  {
   "cell_type": "code",
   "execution_count": 21,
   "metadata": {},
   "outputs": [
    {
     "ename": "FileNotFoundError",
     "evalue": "[Errno 2] No such file or directory: '../data/QGIS_csv_files/'",
     "output_type": "error",
     "traceback": [
      "\u001b[0;31m---------------------------------------------------------------------------\u001b[0m",
      "\u001b[0;31mFileNotFoundError\u001b[0m                         Traceback (most recent call last)",
      "\u001b[0;32m<ipython-input-21-0606c95e544f>\u001b[0m in \u001b[0;36m<module>\u001b[0;34m\u001b[0m\n\u001b[0;32m----> 1\u001b[0;31m \u001b[0mos\u001b[0m\u001b[0;34m.\u001b[0m\u001b[0mchdir\u001b[0m\u001b[0;34m(\u001b[0m\u001b[0;34m'../data/QGIS_csv_files/'\u001b[0m\u001b[0;34m)\u001b[0m\u001b[0;34m\u001b[0m\u001b[0;34m\u001b[0m\u001b[0m\n\u001b[0m",
      "\u001b[0;31mFileNotFoundError\u001b[0m: [Errno 2] No such file or directory: '../data/QGIS_csv_files/'"
     ]
    }
   ],
   "source": [
    "os.chdir('../data/QGIS_csv_files/')"
   ]
  },
  {
   "cell_type": "code",
   "execution_count": 33,
   "metadata": {},
   "outputs": [],
   "source": [
    "files = glob.glob('PHU?.csv')\n",
    "extras = glob.glob('PHU?_extras.csv')"
   ]
  },
  {
   "cell_type": "code",
   "execution_count": 65,
   "metadata": {},
   "outputs": [],
   "source": [
    "total = []\n",
    "for f,e in zip(files, extras):\n",
    "    new = pd.read_csv(f).append(pd.read_csv(e))\n",
    "    total.append(new)\n",
    "        \n",
    "frame = pd.concat(total, axis=0, ignore_index=True)"
   ]
  },
  {
   "cell_type": "code",
   "execution_count": 67,
   "metadata": {},
   "outputs": [],
   "source": [
    "frame.ENG_LABEL.ffill(axis = 0, inplace=True)\n",
    "frame.FRE_LABEL.ffill(axis = 0, inplace=True)\n",
    "frame.HR_UID.ffill(axis = 0, inplace=True)"
   ]
  },
  {
   "cell_type": "code",
   "execution_count": 75,
   "metadata": {},
   "outputs": [
    {
     "data": {
      "text/plain": [
       "Index(['DBUID', 'DBRPLAMX', 'DBRPLAMY', 'PRUID', 'PRNAME', 'CDUID', 'CDNAME',\n",
       "       'CDTYPE', 'CCSUID', 'CCSNAME', 'CSDUID', 'CSDNAME', 'CSDTYPE', 'ERUID',\n",
       "       'ERNAME', 'FEDUID', 'FEDNAME', 'SACCODE', 'SACTYPE', 'CMAUID',\n",
       "       'CMAPUID', 'CMANAME', 'CMATYPE', 'CTUID', 'CTNAME', 'ADAUID', 'DAUID',\n",
       "       'HR_UID', 'ENG_LABEL', 'FRE_LABEL', 'Shape_Leng', 'Shape_Area'],\n",
       "      dtype='object')"
      ]
     },
     "execution_count": 75,
     "metadata": {},
     "output_type": "execute_result"
    }
   ],
   "source": [
    "frame.columns"
   ]
  },
  {
   "cell_type": "code",
   "execution_count": 70,
   "metadata": {},
   "outputs": [],
   "source": [
    "clean = frame[['DBUID', 'HR_UID', 'ENG_LABEL', 'FRE_LABEL']]"
   ]
  },
  {
   "cell_type": "code",
   "execution_count": 73,
   "metadata": {},
   "outputs": [
    {
     "data": {
      "text/plain": [
       "ENG_LABEL                         HR_UID\n",
       "Chatham-Kent Health Unit          3540.0    2038\n",
       "Windsor-Essex County Health Unit  3568.0    4359\n",
       "dtype: int64"
      ]
     },
     "execution_count": 73,
     "metadata": {},
     "output_type": "execute_result"
    }
   ],
   "source": [
    "clean.groupby(['ENG_LABEL', 'HR_UID']).size()"
   ]
  },
  {
   "cell_type": "code",
   "execution_count": 74,
   "metadata": {},
   "outputs": [
    {
     "data": {
      "text/html": [
       "<div>\n",
       "<style scoped>\n",
       "    .dataframe tbody tr th:only-of-type {\n",
       "        vertical-align: middle;\n",
       "    }\n",
       "\n",
       "    .dataframe tbody tr th {\n",
       "        vertical-align: top;\n",
       "    }\n",
       "\n",
       "    .dataframe thead th {\n",
       "        text-align: right;\n",
       "    }\n",
       "</style>\n",
       "<table border=\"1\" class=\"dataframe\">\n",
       "  <thead>\n",
       "    <tr style=\"text-align: right;\">\n",
       "      <th></th>\n",
       "      <th>DBUID</th>\n",
       "      <th>HR_UID</th>\n",
       "      <th>ENG_LABEL</th>\n",
       "      <th>FRE_LABEL</th>\n",
       "    </tr>\n",
       "  </thead>\n",
       "  <tbody>\n",
       "    <tr>\n",
       "      <th>0</th>\n",
       "      <td>35360381002</td>\n",
       "      <td>3540.0</td>\n",
       "      <td>Chatham-Kent Health Unit</td>\n",
       "      <td>Circonscription sanitaire de Chatham-Kent</td>\n",
       "    </tr>\n",
       "    <tr>\n",
       "      <th>1</th>\n",
       "      <td>35360382001</td>\n",
       "      <td>3540.0</td>\n",
       "      <td>Chatham-Kent Health Unit</td>\n",
       "      <td>Circonscription sanitaire de Chatham-Kent</td>\n",
       "    </tr>\n",
       "    <tr>\n",
       "      <th>2</th>\n",
       "      <td>35360382002</td>\n",
       "      <td>3540.0</td>\n",
       "      <td>Chatham-Kent Health Unit</td>\n",
       "      <td>Circonscription sanitaire de Chatham-Kent</td>\n",
       "    </tr>\n",
       "    <tr>\n",
       "      <th>3</th>\n",
       "      <td>35360382003</td>\n",
       "      <td>3540.0</td>\n",
       "      <td>Chatham-Kent Health Unit</td>\n",
       "      <td>Circonscription sanitaire de Chatham-Kent</td>\n",
       "    </tr>\n",
       "    <tr>\n",
       "      <th>4</th>\n",
       "      <td>35360382004</td>\n",
       "      <td>3540.0</td>\n",
       "      <td>Chatham-Kent Health Unit</td>\n",
       "      <td>Circonscription sanitaire de Chatham-Kent</td>\n",
       "    </tr>\n",
       "    <tr>\n",
       "      <th>...</th>\n",
       "      <td>...</td>\n",
       "      <td>...</td>\n",
       "      <td>...</td>\n",
       "      <td>...</td>\n",
       "    </tr>\n",
       "    <tr>\n",
       "      <th>6392</th>\n",
       "      <td>35370741004</td>\n",
       "      <td>3568.0</td>\n",
       "      <td>Windsor-Essex County Health Unit</td>\n",
       "      <td>Circonscription sanitaire de Windsor-comté d'E...</td>\n",
       "    </tr>\n",
       "    <tr>\n",
       "      <th>6393</th>\n",
       "      <td>35370774008</td>\n",
       "      <td>3568.0</td>\n",
       "      <td>Windsor-Essex County Health Unit</td>\n",
       "      <td>Circonscription sanitaire de Windsor-comté d'E...</td>\n",
       "    </tr>\n",
       "    <tr>\n",
       "      <th>6394</th>\n",
       "      <td>35370553004</td>\n",
       "      <td>3568.0</td>\n",
       "      <td>Windsor-Essex County Health Unit</td>\n",
       "      <td>Circonscription sanitaire de Windsor-comté d'E...</td>\n",
       "    </tr>\n",
       "    <tr>\n",
       "      <th>6395</th>\n",
       "      <td>35370555008</td>\n",
       "      <td>3568.0</td>\n",
       "      <td>Windsor-Essex County Health Unit</td>\n",
       "      <td>Circonscription sanitaire de Windsor-comté d'E...</td>\n",
       "    </tr>\n",
       "    <tr>\n",
       "      <th>6396</th>\n",
       "      <td>35370740009</td>\n",
       "      <td>3568.0</td>\n",
       "      <td>Windsor-Essex County Health Unit</td>\n",
       "      <td>Circonscription sanitaire de Windsor-comté d'E...</td>\n",
       "    </tr>\n",
       "  </tbody>\n",
       "</table>\n",
       "<p>6397 rows × 4 columns</p>\n",
       "</div>"
      ],
      "text/plain": [
       "            DBUID  HR_UID                         ENG_LABEL  \\\n",
       "0     35360381002  3540.0          Chatham-Kent Health Unit   \n",
       "1     35360382001  3540.0          Chatham-Kent Health Unit   \n",
       "2     35360382002  3540.0          Chatham-Kent Health Unit   \n",
       "3     35360382003  3540.0          Chatham-Kent Health Unit   \n",
       "4     35360382004  3540.0          Chatham-Kent Health Unit   \n",
       "...           ...     ...                               ...   \n",
       "6392  35370741004  3568.0  Windsor-Essex County Health Unit   \n",
       "6393  35370774008  3568.0  Windsor-Essex County Health Unit   \n",
       "6394  35370553004  3568.0  Windsor-Essex County Health Unit   \n",
       "6395  35370555008  3568.0  Windsor-Essex County Health Unit   \n",
       "6396  35370740009  3568.0  Windsor-Essex County Health Unit   \n",
       "\n",
       "                                              FRE_LABEL  \n",
       "0             Circonscription sanitaire de Chatham-Kent  \n",
       "1             Circonscription sanitaire de Chatham-Kent  \n",
       "2             Circonscription sanitaire de Chatham-Kent  \n",
       "3             Circonscription sanitaire de Chatham-Kent  \n",
       "4             Circonscription sanitaire de Chatham-Kent  \n",
       "...                                                 ...  \n",
       "6392  Circonscription sanitaire de Windsor-comté d'E...  \n",
       "6393  Circonscription sanitaire de Windsor-comté d'E...  \n",
       "6394  Circonscription sanitaire de Windsor-comté d'E...  \n",
       "6395  Circonscription sanitaire de Windsor-comté d'E...  \n",
       "6396  Circonscription sanitaire de Windsor-comté d'E...  \n",
       "\n",
       "[6397 rows x 4 columns]"
      ]
     },
     "execution_count": 74,
     "metadata": {},
     "output_type": "execute_result"
    }
   ],
   "source": [
    "clean"
   ]
  },
  {
   "cell_type": "code",
   "execution_count": null,
   "metadata": {},
   "outputs": [],
   "source": [
    "clean.to_csv('DB_PHU_LABELS.csv')"
   ]
  }
 ],
 "metadata": {
  "kernelspec": {
   "display_name": "Python 3",
   "language": "python",
   "name": "python3"
  },
  "language_info": {
   "codemirror_mode": {
    "name": "ipython",
    "version": 3
   },
   "file_extension": ".py",
   "mimetype": "text/x-python",
   "name": "python",
   "nbconvert_exporter": "python",
   "pygments_lexer": "ipython3",
   "version": "3.7.4"
  }
 },
 "nbformat": 4,
 "nbformat_minor": 4
}
