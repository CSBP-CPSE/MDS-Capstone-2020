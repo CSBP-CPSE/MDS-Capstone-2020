{
 "cells": [
  {
   "cell_type": "markdown",
   "metadata": {},
   "source": [
    "### QGIS CSV merges per PHU\n",
    "**Authors:** Sofia and KT"
   ]
  },
  {
   "cell_type": "code",
   "execution_count": 24,
   "metadata": {},
   "outputs": [],
   "source": [
    "import os\n",
    "import numpy as np\n",
    "import pandas as pd\n",
    "import glob\n",
    "import missingno as msno"
   ]
  },
  {
   "cell_type": "markdown",
   "metadata": {},
   "source": [
    "---\n",
    "### Import and Clean Data\n"
   ]
  },
  {
   "cell_type": "code",
   "execution_count": 25,
   "metadata": {},
   "outputs": [
    {
     "ename": "FileNotFoundError",
     "evalue": "[Errno 2] No such file or directory: '../data/QGIS_csv_files/'",
     "output_type": "error",
     "traceback": [
      "\u001b[0;31m---------------------------------------------------------------------------\u001b[0m",
      "\u001b[0;31mFileNotFoundError\u001b[0m                         Traceback (most recent call last)",
      "\u001b[0;32m<ipython-input-25-0606c95e544f>\u001b[0m in \u001b[0;36m<module>\u001b[0;34m\u001b[0m\n\u001b[0;32m----> 1\u001b[0;31m \u001b[0mos\u001b[0m\u001b[0;34m.\u001b[0m\u001b[0mchdir\u001b[0m\u001b[0;34m(\u001b[0m\u001b[0;34m'../data/QGIS_csv_files/'\u001b[0m\u001b[0;34m)\u001b[0m\u001b[0;34m\u001b[0m\u001b[0;34m\u001b[0m\u001b[0m\n\u001b[0m",
      "\u001b[0;31mFileNotFoundError\u001b[0m: [Errno 2] No such file or directory: '../data/QGIS_csv_files/'"
     ]
    }
   ],
   "source": [
    "os.chdir('../data/QGIS_csv_files/')"
   ]
  },
  {
   "cell_type": "code",
   "execution_count": null,
   "metadata": {},
   "outputs": [],
   "source": [
    "# read data\n",
    "prox = pd.read_csv('../PMD-en/PMD-on.csv')\n",
    "qgis = pd.read_csv('../QGIS_csv_files/Joined_DB_to_PHU.csv')\n",
    "amenities = pd.read_csv('../amenity_score.csv')\n",
    "covid = pd.read_csv('../covid_comorbidities.csv')\n",
    "census = pd.read_excel('../PMD-en/phu_census.xlsx', sheet_name = \"ON\")"
   ]
  },
  {
   "cell_type": "code",
   "execution_count": null,
   "metadata": {},
   "outputs": [],
   "source": [
    "# only keep necessary columns\n",
    "qgis = qgis[['fid', 'DBUID', 'PRUID', 'PRNAME', 'CSDUID', 'CSDNAME', 'CSDTYPE', 'CMAUID', 'CMAPUID', \n",
    "     'CMANAME', 'CMATYPE', 'HR_UID', 'ENG_LABEL', 'FRE_LABEL']]"
   ]
  },
  {
   "cell_type": "code",
   "execution_count": null,
   "metadata": {},
   "outputs": [],
   "source": [
    "# remove rows that don't have prox data ~ 141 rows removed\n",
    "prox2 = prox[prox['prox_idx_emp'] != 'F']\n",
    "\n",
    "# convert .. to np.nan\n",
    "list_prox = ['prox_idx_emp', 'prox_idx_pharma', 'prox_idx_childcare',\n",
    "            'prox_idx_health', 'prox_idx_grocery', 'prox_idx_educpri',\n",
    "            'prox_idx_educsec', 'prox_idx_lib', 'prox_idx_parks',\n",
    "            'prox_idx_transit']\n",
    "\n",
    "for each in list_prox:\n",
    "    prox2[each] = prox2[each].replace({\"..\":np.nan})\n",
    "\n",
    "# convert to float\n",
    "prox2[list_prox] = prox2[list_prox].astype(float)"
   ]
  },
  {
   "cell_type": "markdown",
   "metadata": {},
   "source": [
    "---\n",
    "### Merge PHU covid data with PHU census data"
   ]
  },
  {
   "cell_type": "code",
   "execution_count": null,
   "metadata": {},
   "outputs": [],
   "source": [
    "covidmerge = pd.merge(covid, census, how = 'inner', on = 'DGUID')"
   ]
  },
  {
   "cell_type": "code",
   "execution_count": null,
   "metadata": {},
   "outputs": [],
   "source": [
    "# convert census type\n",
    "covidmerge['Census'] = covidmerge['Census'].str.replace(',', '').astype(int)"
   ]
  },
  {
   "cell_type": "markdown",
   "metadata": {},
   "source": [
    "---\n",
    "### Rename QGIS data HRs to PHUs given by Ontario Case Data\n",
    "\n",
    "> ***Old Comment:*** (Reference `comorbidities-merges.ipynb` for justifications.)\n",
    "\n",
    "`Location` column in `covidmerge` and `ENG_LABEL` in `qgis` represent PHU.\n",
    "\n",
    "`Reporting_PHU` has different names."
   ]
  },
  {
   "cell_type": "code",
   "execution_count": null,
   "metadata": {},
   "outputs": [],
   "source": [
    "# QGIS\n",
    "qgis.rename(columns = {'ENG_LABEL' : 'Location'}, inplace = True)\n",
    "\n",
    "# qgis.Reporting_PHU.replace({'York Regional Health Unit' : 'York Region Public Health Services',\n",
    "#               'Waterloo Health Unit' : 'Region of Waterloo, Public Health',\n",
    "#             'Halton Regional Health Unit' : 'Halton Region Health Department',\n",
    "#               'Lambton Health Unit' : 'Lambton Public Health',\n",
    "#              'Durham Regional Health Unit' : 'Durham Region Health Department',  \n",
    "#              'City of Ottawa Health Unit' : 'Ottawa Public Health', \n",
    "#              'Peel Regional Health Unit': 'Peel Public Health',\n",
    "#               'Wellington-Dufferin-Guelph Health Unit': 'Wellington-Dufferin-Guelph Public Health',\n",
    "#             'Kingston, Frontenac and Lennox and Addington Health Unit' : 'Kingston, Frontenac and Lennox & Addington Public Health',\n",
    "#              'The Eastern Ontario Health Unit':'Eastern Ontario Health Unit',\n",
    "#               'City of Hamilton Health Unit':'Hamilton Public Health Services',\n",
    "#               'Niagara Regional Area Health Unit':'Niagara Region Public Health Department',\n",
    "#               'Sudbury and District Health Unit':'Sudbury & District Health Unit',\n",
    "#              'The District of Algoma Health Unit':'Algoma Public Health Unit',\n",
    "#              'Peterborough County - City Health Unit':'Peterborough Public Health',\n",
    "#              'City of Toronto Health Unit' : 'Toronto Public Health',\n",
    "#               'Perth District Health Unit' : 'Huron Perth District Health Unit',\n",
    "#             'Huron County Health Unit' : 'Huron Perth District Health Unit',\n",
    "#             'Elgin-St. Thomas Health Unit' : 'Southwestern Public Health',\n",
    "#             'Oxford County Health Unit' : 'Southwestern Public Health'}, inplace = True)"
   ]
  },
  {
   "cell_type": "code",
   "execution_count": null,
   "metadata": {},
   "outputs": [],
   "source": [
    "# merge\n",
    "merge = pd.merge(qgis, prox2, how = 'inner', on = 'DBUID')"
   ]
  },
  {
   "cell_type": "code",
   "execution_count": null,
   "metadata": {},
   "outputs": [],
   "source": [
    "# convert DBPOP to int\n",
    "merge['DBPOP'] = merge['DBPOP'].str.replace(\",\", \"\")\n",
    "merge['DBPOP'].replace({np.nan:0}, inplace = True)\n",
    "merge['DBPOP'] = merge['DBPOP'].map(lambda x: int(x))"
   ]
  },
  {
   "cell_type": "code",
   "execution_count": null,
   "metadata": {},
   "outputs": [],
   "source": [
    "merge[merge['DBPOP'].isna()]"
   ]
  },
  {
   "cell_type": "markdown",
   "metadata": {},
   "source": [
    "### Missing data by DB"
   ]
  },
  {
   "cell_type": "code",
   "execution_count": null,
   "metadata": {},
   "outputs": [],
   "source": [
    "msno.matrix(prox2.groupby('DBUID').median())"
   ]
  },
  {
   "cell_type": "code",
   "execution_count": null,
   "metadata": {},
   "outputs": [],
   "source": [
    "# calc median of proximity per PHU\n",
    "phu_med = merge.groupby('Location').median()"
   ]
  },
  {
   "cell_type": "code",
   "execution_count": null,
   "metadata": {},
   "outputs": [],
   "source": [
    "# convert DBPOP from median to sum\n",
    "phu_med['DBPOP'] = merge.groupby('Location').sum()['DBPOP']"
   ]
  },
  {
   "cell_type": "markdown",
   "metadata": {},
   "source": [
    "### Merge Amenity_Dense Data (proximity info)"
   ]
  },
  {
   "cell_type": "code",
   "execution_count": null,
   "metadata": {},
   "outputs": [],
   "source": [
    "phu_med = pd.merge(amenities, phu_med, on = \"Location\", how = 'inner')"
   ]
  },
  {
   "cell_type": "code",
   "execution_count": null,
   "metadata": {},
   "outputs": [],
   "source": [
    "phu_med.columns"
   ]
  },
  {
   "cell_type": "markdown",
   "metadata": {},
   "source": [
    "#### missing data by PHU"
   ]
  },
  {
   "cell_type": "code",
   "execution_count": null,
   "metadata": {},
   "outputs": [],
   "source": [
    "# missing data by PHU\n",
    "msno.matrix(phu_med[['prox_idx_transit', 'prox_idx_grocery', 'prox_idx_health', 'prox_idx_parks',]])"
   ]
  },
  {
   "cell_type": "code",
   "execution_count": null,
   "metadata": {},
   "outputs": [],
   "source": [
    "# merge covid with proximity/QGIS data\n",
    "fullmerge = pd.merge(covidmerge, phu_med, how = 'outer', on = 'Location')\n",
    "\n"
   ]
  },
  {
   "cell_type": "markdown",
   "metadata": {},
   "source": [
    "**Calculate proportions and stratified totals for covid numbers:**\n",
    "\n",
    "\n",
    "DBs were grouped by PHU and sum `DBPOP` (population of PHU). Stratified proportions of COVID cases were calculated by $phu_{weight}*phu_{proportion}$\n",
    "\n",
    "where \n",
    "\n",
    "$phu_{weight} = \\frac{phu_{pop}}{ontario_{census}}$\n",
    "\n",
    "and\n",
    "\n",
    "$phu_{proportion} = \\frac{cases}{phu_{pop}}$."
   ]
  },
  {
   "cell_type": "code",
   "execution_count": null,
   "metadata": {},
   "outputs": [],
   "source": [
    "convert = ['FEMALE', 'MALE', 'TRANSGENDER', 'UNKNOWN', 'OTHER', 'CONTACT', 'NEITHER', 'TRAVEL-RELATED', 'NOT-RESOLVED',\n",
    "          'RESOLVED', 'FATAL', 'TOTAL']\n",
    "\n",
    "for c in convert:\n",
    "    fullmerge[c+'prop'] = fullmerge[c]/fullmerge['DBPOP']\n",
    "    "
   ]
  },
  {
   "cell_type": "code",
   "execution_count": null,
   "metadata": {},
   "outputs": [],
   "source": [
    "fullmerge['phu_weight'] = fullmerge['DBPOP']/fullmerge['Census']\n",
    "fullmerge['TotalStratified'] = fullmerge['phu_weight']*fullmerge['TOTALprop']\n",
    "\n",
    "fullmerge['FatalStratified'] = fullmerge['phu_weight']*fullmerge['FATALprop']"
   ]
  },
  {
   "cell_type": "code",
   "execution_count": null,
   "metadata": {},
   "outputs": [],
   "source": [
    "# numeric columns to keep \n",
    "numeric_keep = ['DGUID', 'DBPOP', 'Reporting_PHU', 'copd', 'asthma', 'hbp', 'smokers', 'FEMALE', 'MALE', 'TRANSGENDER', \n",
    "                'UNKNOWN', 'OTHER', 'CONTACT', 'NEITHER', 'TRAVEL-RELATED', 'NOT-RESOLVED', 'RESOLVED', 'FATAL',\n",
    "               'TOTAL', 'Census', 'Location', 'fid', 'DBUID', 'PRUID_x', 'CSDUID_x', 'CMAUID_x', 'CMAPUID_x', 'HR_UID', 'DAUID',\n",
    "               'lon', 'lat', 'prox_idx_emp', 'prox_idx_pharma', 'prox_idx_childcare', 'prox_idx_health', \n",
    "                'prox_idx_grocery', 'prox_idx_educpri', 'prox_idx_educsec', 'prox_idx_lib', 'prox_idx_parks', \n",
    "                'prox_idx_transit', 'amenity']\n",
    "\n",
    "# proportion columns to keep\n",
    "prop_keep = ['DGUID', 'DBPOP', 'Reporting_PHU', 'copd-percent', 'asthma-percent', 'hbp-percent', 'smokers-percent', \n",
    "            'Census', 'phu_weight', 'TotalStratified', 'FatalStratified',\n",
    "             'Location', 'fid', 'DBUID', 'PRUID_x', 'CSDUID_x', 'CMAUID_x', \n",
    "             'CMAPUID_x', 'HR_UID', 'DAUID', 'lon', 'lat', 'prox_idx_emp', 'prox_idx_pharma', 'prox_idx_childcare', \n",
    "             'prox_idx_health', 'prox_idx_grocery', 'prox_idx_educpri', 'prox_idx_educsec', 'prox_idx_lib', 'prox_idx_parks', \n",
    "                'prox_idx_transit', 'amenity']\n",
    "\n"
   ]
  },
  {
   "cell_type": "code",
   "execution_count": null,
   "metadata": {},
   "outputs": [],
   "source": [
    "fullmerge[prop_keep].columns"
   ]
  },
  {
   "cell_type": "code",
   "execution_count": null,
   "metadata": {},
   "outputs": [],
   "source": [
    "fullmerge[prop_keep].to_csv('../PMD-en/PHU_FINAL_prop.csv')\n",
    "fullmerge[numeric_keep].to_csv('../PMD-en/PHU_FINAL_num.csv')"
   ]
  },
  {
   "cell_type": "code",
   "execution_count": null,
   "metadata": {},
   "outputs": [],
   "source": []
  }
 ],
 "metadata": {
  "kernelspec": {
   "display_name": "Python 3",
   "language": "python",
   "name": "python3"
  },
  "language_info": {
   "codemirror_mode": {
    "name": "ipython",
    "version": 3
   },
   "file_extension": ".py",
   "mimetype": "text/x-python",
   "name": "python",
   "nbconvert_exporter": "python",
   "pygments_lexer": "ipython3",
   "version": "3.7.4"
  }
 },
 "nbformat": 4,
 "nbformat_minor": 4
}
