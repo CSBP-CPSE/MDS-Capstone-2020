{
 "cells": [
  {
   "cell_type": "markdown",
   "metadata": {},
   "source": [
    "### QGIS CSV merges per PHU\n",
    "**Authors:** Sofia and KT"
   ]
  },
  {
   "cell_type": "code",
   "execution_count": 1,
   "metadata": {},
   "outputs": [],
   "source": [
    "import os\n",
    "import numpy as np\n",
    "import pandas as pd\n",
    "import glob"
   ]
  },
  {
   "cell_type": "markdown",
   "metadata": {},
   "source": [
    "---\n",
    "### Import and Clean Data\n"
   ]
  },
  {
   "cell_type": "code",
   "execution_count": 21,
   "metadata": {},
   "outputs": [
    {
     "ename": "FileNotFoundError",
     "evalue": "[Errno 2] No such file or directory: '../data/QGIS_csv_files/'",
     "output_type": "error",
     "traceback": [
      "\u001b[0;31m---------------------------------------------------------------------------\u001b[0m",
      "\u001b[0;31mFileNotFoundError\u001b[0m                         Traceback (most recent call last)",
      "\u001b[0;32m<ipython-input-21-0606c95e544f>\u001b[0m in \u001b[0;36m<module>\u001b[0;34m\u001b[0m\n\u001b[0;32m----> 1\u001b[0;31m \u001b[0mos\u001b[0m\u001b[0;34m.\u001b[0m\u001b[0mchdir\u001b[0m\u001b[0;34m(\u001b[0m\u001b[0;34m'../data/QGIS_csv_files/'\u001b[0m\u001b[0;34m)\u001b[0m\u001b[0;34m\u001b[0m\u001b[0;34m\u001b[0m\u001b[0m\n\u001b[0m",
      "\u001b[0;31mFileNotFoundError\u001b[0m: [Errno 2] No such file or directory: '../data/QGIS_csv_files/'"
     ]
    }
   ],
   "source": [
    "os.chdir('../data/QGIS_csv_files/')"
   ]
  },
  {
   "cell_type": "code",
   "execution_count": 190,
   "metadata": {},
   "outputs": [],
   "source": [
    "# read data\n",
    "prox = pd.read_csv('../PMD-en/PMD-on.csv')\n",
    "qgis = pd.read_csv('Joined_DB_to_PHU.csv')\n",
    "covid = pd.read_csv('../covid_comorbidities.csv')"
   ]
  },
  {
   "cell_type": "code",
   "execution_count": 191,
   "metadata": {},
   "outputs": [],
   "source": [
    "# only keep necessary columns\n",
    "qgis = qgis[['fid', 'DBUID', 'PRUID', 'PRNAME', 'CSDUID', 'CSDNAME', 'CSDTYPE', 'CMAUID', 'CMAPUID', \n",
    "     'CMANAME', 'CMATYPE', 'HR_UID', 'ENG_LABEL', 'FRE_LABEL']]"
   ]
  },
  {
   "cell_type": "code",
   "execution_count": 276,
   "metadata": {},
   "outputs": [],
   "source": [
    "prox = pd.read_csv('../PMD-en/PMD-on.csv')"
   ]
  },
  {
   "cell_type": "code",
   "execution_count": 285,
   "metadata": {},
   "outputs": [
    {
     "name": "stderr",
     "output_type": "stream",
     "text": [
      "//anaconda3/lib/python3.7/site-packages/ipykernel_launcher.py:11: SettingWithCopyWarning: \n",
      "A value is trying to be set on a copy of a slice from a DataFrame.\n",
      "Try using .loc[row_indexer,col_indexer] = value instead\n",
      "\n",
      "See the caveats in the documentation: https://pandas.pydata.org/pandas-docs/stable/user_guide/indexing.html#returning-a-view-versus-a-copy\n",
      "  # This is added back by InteractiveShellApp.init_path()\n"
     ]
    }
   ],
   "source": [
    "# remove rows that don't have prox data ~ 141 rows removed\n",
    "prox2 = prox[prox['prox_idx_emp'] != 'F']\n",
    "\n",
    "# convert .. to np.nan\n",
    "list_prox = ['prox_idx_emp', 'prox_idx_pharma', 'prox_idx_childcare',\n",
    "            'prox_idx_health', 'prox_idx_grocery', 'prox_idx_educpri',\n",
    "            'prox_idx_educsec', 'prox_idx_lib', 'prox_idx_parks',\n",
    "            'prox_idx_transit']\n",
    "\n",
    "for each in list_prox:\n",
    "    prox2[each] = prox2[each].replace({\"..\":np.nan})\n",
    "\n",
    "# convert to float\n",
    "prox2[list_prox] = prox2[list_prox].astype(float)"
   ]
  },
  {
   "cell_type": "code",
   "execution_count": 286,
   "metadata": {},
   "outputs": [
    {
     "name": "stdout",
     "output_type": "stream",
     "text": [
      "<class 'pandas.core.frame.DataFrame'>\n",
      "Int64Index: 132711 entries, 0 to 133213\n",
      "Data columns (total 41 columns):\n",
      " #   Column              Non-Null Count   Dtype  \n",
      "---  ------              --------------   -----  \n",
      " 0   DBUID               132711 non-null  int64  \n",
      " 1   DBPOP               132602 non-null  object \n",
      " 2   DAUID               132711 non-null  int64  \n",
      " 3   DAPOP               132602 non-null  object \n",
      " 4   CSDUID              132711 non-null  int64  \n",
      " 5   CSDNAME             132711 non-null  object \n",
      " 6   CSDTYPE             132711 non-null  object \n",
      " 7   CSDPOP              132602 non-null  object \n",
      " 8   CMAUID              97533 non-null   float64\n",
      " 9   CMAPUID             97533 non-null   float64\n",
      " 10  CMANAME             97533 non-null   object \n",
      " 11  CMATYPE             97533 non-null   object \n",
      " 12  CMAPOP              97533 non-null   object \n",
      " 13  PRUID               132711 non-null  int64  \n",
      " 14  PRNAME              132711 non-null  object \n",
      " 15  PRPOP               132711 non-null  object \n",
      " 16  lon                 132711 non-null  float64\n",
      " 17  lat                 132711 non-null  float64\n",
      " 18  in_db_emp           132711 non-null  object \n",
      " 19  prox_idx_emp        129867 non-null  float64\n",
      " 20  in_db_pharma        132711 non-null  object \n",
      " 21  prox_idx_pharma     65600 non-null   float64\n",
      " 22  in_db_childcare     132711 non-null  object \n",
      " 23  prox_idx_childcare  77800 non-null   float64\n",
      " 24  in_db_health        132711 non-null  object \n",
      " 25  prox_idx_health     101047 non-null  float64\n",
      " 26  in_db_grocery       132711 non-null  object \n",
      " 27  prox_idx_grocery    47048 non-null   float64\n",
      " 28  in_db_educpri       132711 non-null  object \n",
      " 29  prox_idx_educpri    75944 non-null   float64\n",
      " 30  in_db_educsec       132711 non-null  object \n",
      " 31  prox_idx_educsec    36585 non-null   float64\n",
      " 32  in_db_lib           132711 non-null  object \n",
      " 33  prox_idx_lib        38064 non-null   float64\n",
      " 34  in_db_parks         132711 non-null  object \n",
      " 35  prox_idx_parks      80439 non-null   float64\n",
      " 36  in_db_transit       132711 non-null  object \n",
      " 37  prox_idx_transit    64923 non-null   float64\n",
      " 38  transit_na          132711 non-null  int64  \n",
      " 39  amenity_dense       132711 non-null  object \n",
      " 40  suppressed          132711 non-null  int64  \n",
      "dtypes: float64(14), int64(6), object(21)\n",
      "memory usage: 42.5+ MB\n"
     ]
    }
   ],
   "source": [
    "prox2.info()"
   ]
  },
  {
   "cell_type": "markdown",
   "metadata": {},
   "source": [
    "---\n",
    "### Rename QGIS data HRs to PHUs given by Ontario Case Data\n",
    "\n",
    "Reference `comorbidities-merges.ipynb` for justifications."
   ]
  },
  {
   "cell_type": "code",
   "execution_count": 287,
   "metadata": {},
   "outputs": [],
   "source": [
    "# QGIS\n",
    "qgis.rename(columns = {'ENG_LABEL' : 'Reporting_PHU'}, inplace = True)\n",
    "\n",
    "qgis.Reporting_PHU.replace({'York Regional Health Unit' : 'York Region Public Health Services',\n",
    "              'Waterloo Health Unit' : 'Region of Waterloo, Public Health',\n",
    "            'Halton Regional Health Unit' : 'Halton Region Health Department',\n",
    "              'Lambton Health Unit' : 'Lambton Public Health',\n",
    "             'Durham Regional Health Unit' : 'Durham Region Health Department',  \n",
    "             'City of Ottawa Health Unit' : 'Ottawa Public Health', \n",
    "             'Peel Regional Health Unit': 'Peel Public Health',\n",
    "              'Wellington-Dufferin-Guelph Health Unit': 'Wellington-Dufferin-Guelph Public Health',\n",
    "            'Kingston, Frontenac and Lennox and Addington Health Unit' : 'Kingston, Frontenac and Lennox & Addington Public Health',\n",
    "             'The Eastern Ontario Health Unit':'Eastern Ontario Health Unit',\n",
    "              'City of Hamilton Health Unit':'Hamilton Public Health Services',\n",
    "              'Niagara Regional Area Health Unit':'Niagara Region Public Health Department',\n",
    "              'Sudbury and District Health Unit':'Sudbury & District Health Unit',\n",
    "             'The District of Algoma Health Unit':'Algoma Public Health Unit',\n",
    "             'Peterborough County - City Health Unit':'Peterborough Public Health',\n",
    "             'City of Toronto Health Unit' : 'Toronto Public Health',\n",
    "              'Perth District Health Unit' : 'Huron Perth District Health Unit',\n",
    "            'Huron County Health Unit' : 'Huron Perth District Health Unit',\n",
    "            'Elgin-St. Thomas Health Unit' : 'Southwestern Public Health',\n",
    "            'Oxford County Health Unit' : 'Southwestern Public Health'}, inplace = True)"
   ]
  },
  {
   "cell_type": "code",
   "execution_count": 288,
   "metadata": {},
   "outputs": [],
   "source": [
    "# merge\n",
    "merge = pd.merge(qgis, prox3, how = 'inner', on = 'DBUID')"
   ]
  },
  {
   "cell_type": "code",
   "execution_count": 289,
   "metadata": {},
   "outputs": [],
   "source": [
    "# calc median of proximity per PHU\n",
    "phu_med = merge.groupby('Reporting_PHU').median()"
   ]
  },
  {
   "cell_type": "code",
   "execution_count": 290,
   "metadata": {},
   "outputs": [],
   "source": [
    "# merge with covid\n",
    "pd.merge(covid, phu_med, how = 'outer', on = 'Reporting_PHU').to_csv('../PMD-en/PHU_FINAL.csv')"
   ]
  },
  {
   "cell_type": "code",
   "execution_count": null,
   "metadata": {},
   "outputs": [],
   "source": []
  }
 ],
 "metadata": {
  "kernelspec": {
   "display_name": "Python 3",
   "language": "python",
   "name": "python3"
  },
  "language_info": {
   "codemirror_mode": {
    "name": "ipython",
    "version": 3
   },
   "file_extension": ".py",
   "mimetype": "text/x-python",
   "name": "python",
   "nbconvert_exporter": "python",
   "pygments_lexer": "ipython3",
   "version": "3.7.4"
  }
 },
 "nbformat": 4,
 "nbformat_minor": 4
}
