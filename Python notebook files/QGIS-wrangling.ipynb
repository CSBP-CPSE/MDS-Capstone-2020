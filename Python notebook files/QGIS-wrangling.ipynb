{
 "cells": [
  {
   "cell_type": "markdown",
   "metadata": {},
   "source": [
    "### QGIS CSV merges per PHU\n",
    "**Authors:** Sofia and KT"
   ]
  },
  {
   "cell_type": "code",
   "execution_count": 1,
   "metadata": {},
   "outputs": [],
   "source": [
    "import os\n",
    "import pandas as pd\n",
    "import glob"
   ]
  },
  {
   "cell_type": "code",
   "execution_count": 21,
   "metadata": {},
   "outputs": [
    {
     "ename": "FileNotFoundError",
     "evalue": "[Errno 2] No such file or directory: '../data/QGIS_csv_files/'",
     "output_type": "error",
     "traceback": [
      "\u001b[0;31m---------------------------------------------------------------------------\u001b[0m",
      "\u001b[0;31mFileNotFoundError\u001b[0m                         Traceback (most recent call last)",
      "\u001b[0;32m<ipython-input-21-0606c95e544f>\u001b[0m in \u001b[0;36m<module>\u001b[0;34m\u001b[0m\n\u001b[0;32m----> 1\u001b[0;31m \u001b[0mos\u001b[0m\u001b[0;34m.\u001b[0m\u001b[0mchdir\u001b[0m\u001b[0;34m(\u001b[0m\u001b[0;34m'../data/QGIS_csv_files/'\u001b[0m\u001b[0;34m)\u001b[0m\u001b[0;34m\u001b[0m\u001b[0;34m\u001b[0m\u001b[0m\n\u001b[0m",
      "\u001b[0;31mFileNotFoundError\u001b[0m: [Errno 2] No such file or directory: '../data/QGIS_csv_files/'"
     ]
    }
   ],
   "source": [
    "os.chdir('../data/QGIS_csv_files/')"
   ]
  },
  {
   "cell_type": "code",
   "execution_count": 22,
   "metadata": {},
   "outputs": [],
   "source": [
    "files = glob.glob('PHU?.csv')\n",
    "extras = glob.glob('PHU?_extras.csv')"
   ]
  },
  {
   "cell_type": "code",
   "execution_count": 23,
   "metadata": {},
   "outputs": [],
   "source": [
    "for f in files:\n",
    "    for e in extras:\n",
    "        first = pd.read_csv(f)\n",
    "        second = pd.read_csv(e)\n",
    "        total = first.append(second)\n",
    "        \n",
    "total.ENG_LABEL.ffill(axis = 0, inplace=True)\n",
    "total.FRE_LABEL.ffill(axis = 0, inplace=True)\n",
    "total.HR_UID.ffill(axis = 0, inplace=True)"
   ]
  },
  {
   "cell_type": "code",
   "execution_count": 19,
   "metadata": {},
   "outputs": [
    {
     "data": {
      "text/plain": [
       "Index(['DBUID', 'DBRPLAMX', 'DBRPLAMY', 'PRUID', 'PRNAME', 'CDUID', 'CDNAME',\n",
       "       'CDTYPE', 'CCSUID', 'CCSNAME', 'CSDUID', 'CSDNAME', 'CSDTYPE', 'ERUID',\n",
       "       'ERNAME', 'FEDUID', 'FEDNAME', 'SACCODE', 'SACTYPE', 'CMAUID',\n",
       "       'CMAPUID', 'CMANAME', 'CMATYPE', 'CTUID', 'CTNAME', 'ADAUID', 'DAUID',\n",
       "       'HR_UID', 'ENG_LABEL', 'FRE_LABEL', 'Shape_Leng', 'Shape_Area'],\n",
       "      dtype='object')"
      ]
     },
     "execution_count": 19,
     "metadata": {},
     "output_type": "execute_result"
    }
   ],
   "source": [
    "total.columns"
   ]
  },
  {
   "cell_type": "code",
   "execution_count": 28,
   "metadata": {},
   "outputs": [
    {
     "name": "stdout",
     "output_type": "stream",
     "text": [
      "PHU2.csv\n",
      "PHU1_extras.csv\n",
      "PHU1.csv\n",
      "PHU1_extras.csv\n"
     ]
    }
   ],
   "source": [
    "for f in files:\n",
    "    for e in extras:\n",
    "        print(f)\n",
    "        print(e)"
   ]
  },
  {
   "cell_type": "code",
   "execution_count": 32,
   "metadata": {},
   "outputs": [],
   "source": [
    "clean = total[['DBUID', 'HR_UID', 'ENG_LABEL', 'FRE_LABEL']]"
   ]
  },
  {
   "cell_type": "code",
   "execution_count": null,
   "metadata": {},
   "outputs": [],
   "source": [
    "clean.to_csv('DB_PHU_LABELS.csv')"
   ]
  }
 ],
 "metadata": {
  "kernelspec": {
   "display_name": "Python 3",
   "language": "python",
   "name": "python3"
  },
  "language_info": {
   "codemirror_mode": {
    "name": "ipython",
    "version": 3
   },
   "file_extension": ".py",
   "mimetype": "text/x-python",
   "name": "python",
   "nbconvert_exporter": "python",
   "pygments_lexer": "ipython3",
   "version": "3.7.4"
  }
 },
 "nbformat": 4,
 "nbformat_minor": 4
}
