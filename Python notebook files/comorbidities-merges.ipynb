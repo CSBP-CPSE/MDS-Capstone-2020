{
 "cells": [
  {
   "cell_type": "markdown",
   "metadata": {},
   "source": [
    "## Retrieving updated COVID-19 Data for Ontario\n",
    "\n",
    "**From:** [data.ontario.ca](https://data.ontario.ca/dataset/f4112442-bdc8-45d2-be3c-12efae72fb27/resource/455fd63b-603d-4608-8216-7d8647f43350)\n",
    "\n"
   ]
  },
  {
   "cell_type": "code",
   "execution_count": 1,
   "metadata": {},
   "outputs": [],
   "source": [
    "import pandas as pd\n",
    "data = pd.read_csv('https://data.ontario.ca/dataset/f4112442-bdc8-45d2-be3c-12efae72fb27/resource/455fd63b-603d-4608-8216-7d8647f43350/download/conposcovidloc.csv')\n",
    "data.to_csv('../data/ON_cases.csv')"
   ]
  },
  {
   "cell_type": "markdown",
   "metadata": {},
   "source": [
    "### COVID-19 Comorbidities\n",
    "\n",
    "**Data Retrieved From:** [Canadian Statistical Geospatial Explorer](https://www150.statcan.gc.ca/n1/pub/71-607-x/2020010/71-607-x2020app-eng.htm)\n",
    "\n",
    "**Authors:** KT"
   ]
  },
  {
   "cell_type": "code",
   "execution_count": 62,
   "metadata": {},
   "outputs": [],
   "source": [
    "import os\n",
    "import pandas as pd\n",
    "import glob"
   ]
  },
  {
   "cell_type": "code",
   "execution_count": 63,
   "metadata": {},
   "outputs": [],
   "source": [
    "os.chdir('/Users/kt/Documents/UBC_MDS/capstone/data-599-capstone-statistics-canada/data/comorbidities')"
   ]
  },
  {
   "cell_type": "code",
   "execution_count": 127,
   "metadata": {},
   "outputs": [],
   "source": [
    "age = pd.read_excel('../age_prop.xlsx')"
   ]
  },
  {
   "cell_type": "code",
   "execution_count": 64,
   "metadata": {},
   "outputs": [],
   "source": [
    "filenames = glob.glob(\"*.xlsx\")"
   ]
  },
  {
   "cell_type": "code",
   "execution_count": 65,
   "metadata": {},
   "outputs": [],
   "source": [
    "j = pd.read_excel(filenames[0])"
   ]
  },
  {
   "cell_type": "code",
   "execution_count": 66,
   "metadata": {},
   "outputs": [],
   "source": [
    "como = pd.read_excel(filenames[0])\n",
    "for f in filenames[1:len(filenames)]:\n",
    "    new = pd.read_excel(f)\n",
    "    como = pd.merge(como, new, how = 'inner', on = 'DGUID')"
   ]
  },
  {
   "cell_type": "markdown",
   "metadata": {},
   "source": [
    "#### Removing non-Ontario entries by DGUID"
   ]
  },
  {
   "cell_type": "code",
   "execution_count": 67,
   "metadata": {},
   "outputs": [],
   "source": [
    "dguid = j[j['Province/Territory']== 'Ontario']['DGUID'].to_list()\n",
    "DGUID = j.DGUID.to_list()\n",
    "\n",
    "def ontario_only(a,b):\n",
    "    return [x for x in a if x in b]\n",
    "\n",
    "ontario = ontario_only(DGUID, dguid)\n",
    "\n",
    "como2 = como[como['DGUID'].isin(ontario)]"
   ]
  },
  {
   "cell_type": "markdown",
   "metadata": {},
   "source": [
    "### Merge with Age data"
   ]
  },
  {
   "cell_type": "code",
   "execution_count": 135,
   "metadata": {},
   "outputs": [],
   "source": [
    "age = age[age['Province/Territory'] == 'Ontario']"
   ]
  },
  {
   "cell_type": "code",
   "execution_count": 137,
   "metadata": {},
   "outputs": [
    {
     "data": {
      "text/html": [
       "<div>\n",
       "<style scoped>\n",
       "    .dataframe tbody tr th:only-of-type {\n",
       "        vertical-align: middle;\n",
       "    }\n",
       "\n",
       "    .dataframe tbody tr th {\n",
       "        vertical-align: top;\n",
       "    }\n",
       "\n",
       "    .dataframe thead th {\n",
       "        text-align: right;\n",
       "    }\n",
       "</style>\n",
       "<table border=\"1\" class=\"dataframe\">\n",
       "  <thead>\n",
       "    <tr style=\"text-align: right;\">\n",
       "      <th></th>\n",
       "      <th>DGUID</th>\n",
       "      <th>Location_x</th>\n",
       "      <th>Province/Territory_x</th>\n",
       "      <th>copd-percent</th>\n",
       "      <th>Data Comment_x</th>\n",
       "      <th>Location_y</th>\n",
       "      <th>Province/Territory_y</th>\n",
       "      <th>copd</th>\n",
       "      <th>Data Comment_y</th>\n",
       "      <th>Location_x</th>\n",
       "      <th>...</th>\n",
       "      <th>Province/Territory_x</th>\n",
       "      <th>smokers</th>\n",
       "      <th>Data Comment_x</th>\n",
       "      <th>Location_y</th>\n",
       "      <th>Province/Territory_y</th>\n",
       "      <th>smokers-percent</th>\n",
       "      <th>Data Comment_y</th>\n",
       "      <th>Location</th>\n",
       "      <th>Province/Territory</th>\n",
       "      <th>andover55</th>\n",
       "    </tr>\n",
       "  </thead>\n",
       "  <tbody>\n",
       "  </tbody>\n",
       "</table>\n",
       "<p>0 rows × 36 columns</p>\n",
       "</div>"
      ],
      "text/plain": [
       "Empty DataFrame\n",
       "Columns: [DGUID, Location_x, Province/Territory_x, copd-percent, Data Comment_x, Location_y, Province/Territory_y, copd, Data Comment_y, Location_x, Province/Territory_x, asthma, Data Comment_x, Location_y, Province/Territory_y, asthma-percent, Data Comment_y, Location_x, Province/Territory_x, hbp, Data Comment_x, Location_y, Province/Territory_y, hbp-percent, Data Comment_y, Location_x, Province/Territory_x, smokers, Data Comment_x, Location_y, Province/Territory_y, smokers-percent, Data Comment_y, Location, Province/Territory, andover55]\n",
       "Index: []\n",
       "\n",
       "[0 rows x 36 columns]"
      ]
     },
     "execution_count": 137,
     "metadata": {},
     "output_type": "execute_result"
    }
   ],
   "source": [
    "pd.merge(como, age, on ='DGUID')"
   ]
  },
  {
   "cell_type": "code",
   "execution_count": 148,
   "metadata": {},
   "outputs": [
    {
     "data": {
      "text/html": [
       "<div>\n",
       "<style scoped>\n",
       "    .dataframe tbody tr th:only-of-type {\n",
       "        vertical-align: middle;\n",
       "    }\n",
       "\n",
       "    .dataframe tbody tr th {\n",
       "        vertical-align: top;\n",
       "    }\n",
       "\n",
       "    .dataframe thead th {\n",
       "        text-align: right;\n",
       "    }\n",
       "</style>\n",
       "<table border=\"1\" class=\"dataframe\">\n",
       "  <thead>\n",
       "    <tr style=\"text-align: right;\">\n",
       "      <th></th>\n",
       "      <th>DGUID</th>\n",
       "      <th>Reporting_PHU</th>\n",
       "      <th>copd-percent</th>\n",
       "      <th>copd</th>\n",
       "      <th>asthma</th>\n",
       "      <th>asthma-percent</th>\n",
       "      <th>hbp</th>\n",
       "      <th>hbp-percent</th>\n",
       "      <th>smokers</th>\n",
       "      <th>smokers-percent</th>\n",
       "    </tr>\n",
       "  </thead>\n",
       "  <tbody>\n",
       "    <tr>\n",
       "      <th>7</th>\n",
       "      <td>2017A00073570</td>\n",
       "      <td>York Region Public Health Services</td>\n",
       "      <td>2.0 %</td>\n",
       "      <td>13,200</td>\n",
       "      <td>50,800</td>\n",
       "      <td>5.1 %</td>\n",
       "      <td>13,200</td>\n",
       "      <td>17.6 %</td>\n",
       "      <td>104,400</td>\n",
       "      <td>10.5 %</td>\n",
       "    </tr>\n",
       "    <tr>\n",
       "      <th>8</th>\n",
       "      <td>2017A00073595</td>\n",
       "      <td>Toronto Public Health</td>\n",
       "      <td>2.2 %</td>\n",
       "      <td>35,600</td>\n",
       "      <td>200,400</td>\n",
       "      <td>7.8 %</td>\n",
       "      <td>35,600</td>\n",
       "      <td>15.8 %</td>\n",
       "      <td>340,100</td>\n",
       "      <td>13.3 %</td>\n",
       "    </tr>\n",
       "    <tr>\n",
       "      <th>15</th>\n",
       "      <td>2017A00073536</td>\n",
       "      <td>Halton Region Health Department</td>\n",
       "      <td>2.7 %</td>\n",
       "      <td>8,700</td>\n",
       "      <td>34,100</td>\n",
       "      <td>6.9 %</td>\n",
       "      <td>8,700</td>\n",
       "      <td>17.8 %</td>\n",
       "      <td>57,300</td>\n",
       "      <td>11.7 %</td>\n",
       "    </tr>\n",
       "    <tr>\n",
       "      <th>18</th>\n",
       "      <td>2017A00073551</td>\n",
       "      <td>Ottawa Public Health</td>\n",
       "      <td>2.9 %</td>\n",
       "      <td>15,900</td>\n",
       "      <td>86,900</td>\n",
       "      <td>10.2 %</td>\n",
       "      <td>15,900</td>\n",
       "      <td>13.5 %</td>\n",
       "      <td>108,300</td>\n",
       "      <td>12.8 %</td>\n",
       "    </tr>\n",
       "    <tr>\n",
       "      <th>20</th>\n",
       "      <td>2017A00073553</td>\n",
       "      <td>Peel Public Health</td>\n",
       "      <td>3.2 %</td>\n",
       "      <td>25,500</td>\n",
       "      <td>76,400</td>\n",
       "      <td>6.0 %</td>\n",
       "      <td>25,500</td>\n",
       "      <td>18.5 %</td>\n",
       "      <td>159,100</td>\n",
       "      <td>12.5 %</td>\n",
       "    </tr>\n",
       "  </tbody>\n",
       "</table>\n",
       "</div>"
      ],
      "text/plain": [
       "            DGUID                       Reporting_PHU copd-percent    copd  \\\n",
       "7   2017A00073570  York Region Public Health Services        2.0 %  13,200   \n",
       "8   2017A00073595               Toronto Public Health        2.2 %  35,600   \n",
       "15  2017A00073536     Halton Region Health Department        2.7 %   8,700   \n",
       "18  2017A00073551                Ottawa Public Health        2.9 %  15,900   \n",
       "20  2017A00073553                  Peel Public Health        3.2 %  25,500   \n",
       "\n",
       "     asthma asthma-percent     hbp hbp-percent  smokers smokers-percent  \n",
       "7    50,800          5.1 %  13,200      17.6 %  104,400          10.5 %  \n",
       "8   200,400          7.8 %  35,600      15.8 %  340,100          13.3 %  \n",
       "15   34,100          6.9 %   8,700      17.8 %   57,300          11.7 %  \n",
       "18   86,900         10.2 %  15,900      13.5 %  108,300          12.8 %  \n",
       "20   76,400          6.0 %  25,500      18.5 %  159,100          12.5 %  "
      ]
     },
     "execution_count": 148,
     "metadata": {},
     "output_type": "execute_result"
    }
   ],
   "source": [
    "como3.head()"
   ]
  },
  {
   "cell_type": "code",
   "execution_count": 147,
   "metadata": {},
   "outputs": [
    {
     "data": {
      "text/html": [
       "<div>\n",
       "<style scoped>\n",
       "    .dataframe tbody tr th:only-of-type {\n",
       "        vertical-align: middle;\n",
       "    }\n",
       "\n",
       "    .dataframe tbody tr th {\n",
       "        vertical-align: top;\n",
       "    }\n",
       "\n",
       "    .dataframe thead th {\n",
       "        text-align: right;\n",
       "    }\n",
       "</style>\n",
       "<table border=\"1\" class=\"dataframe\">\n",
       "  <thead>\n",
       "    <tr style=\"text-align: right;\">\n",
       "      <th></th>\n",
       "      <th>DGUID</th>\n",
       "      <th>Location</th>\n",
       "      <th>Province/Territory</th>\n",
       "      <th>andover55</th>\n",
       "    </tr>\n",
       "  </thead>\n",
       "  <tbody>\n",
       "  </tbody>\n",
       "</table>\n",
       "</div>"
      ],
      "text/plain": [
       "Empty DataFrame\n",
       "Columns: [DGUID, Location, Province/Territory, andover55]\n",
       "Index: []"
      ]
     },
     "execution_count": 147,
     "metadata": {},
     "output_type": "execute_result"
    }
   ],
   "source": [
    "age[age['DGUID'] == \"*A00073570\"]"
   ]
  },
  {
   "cell_type": "code",
   "execution_count": 152,
   "metadata": {},
   "outputs": [
    {
     "data": {
      "text/html": [
       "<div>\n",
       "<style scoped>\n",
       "    .dataframe tbody tr th:only-of-type {\n",
       "        vertical-align: middle;\n",
       "    }\n",
       "\n",
       "    .dataframe tbody tr th {\n",
       "        vertical-align: top;\n",
       "    }\n",
       "\n",
       "    .dataframe thead th {\n",
       "        text-align: right;\n",
       "    }\n",
       "</style>\n",
       "<table border=\"1\" class=\"dataframe\">\n",
       "  <thead>\n",
       "    <tr style=\"text-align: right;\">\n",
       "      <th></th>\n",
       "      <th>DGUID</th>\n",
       "      <th>Location</th>\n",
       "      <th>Province/Territory</th>\n",
       "      <th>andover55</th>\n",
       "    </tr>\n",
       "  </thead>\n",
       "  <tbody>\n",
       "    <tr>\n",
       "      <th>1</th>\n",
       "      <td>2016S051235430737</td>\n",
       "      <td>35430737</td>\n",
       "      <td>Ontario</td>\n",
       "      <td>0.0 %</td>\n",
       "    </tr>\n",
       "    <tr>\n",
       "      <th>4</th>\n",
       "      <td>2016S051235060563</td>\n",
       "      <td>35060563</td>\n",
       "      <td>Ontario</td>\n",
       "      <td>0.0 %</td>\n",
       "    </tr>\n",
       "    <tr>\n",
       "      <th>6</th>\n",
       "      <td>2016S051235100284</td>\n",
       "      <td>35100284</td>\n",
       "      <td>Ontario</td>\n",
       "      <td>0.0 %</td>\n",
       "    </tr>\n",
       "    <tr>\n",
       "      <th>7</th>\n",
       "      <td>2016S051235430732</td>\n",
       "      <td>35430732</td>\n",
       "      <td>Ontario</td>\n",
       "      <td>0.0 %</td>\n",
       "    </tr>\n",
       "    <tr>\n",
       "      <th>10</th>\n",
       "      <td>2016S051235430734</td>\n",
       "      <td>35430734</td>\n",
       "      <td>Ontario</td>\n",
       "      <td>0.0 %</td>\n",
       "    </tr>\n",
       "  </tbody>\n",
       "</table>\n",
       "</div>"
      ],
      "text/plain": [
       "                DGUID  Location Province/Territory andover55\n",
       "1   2016S051235430737  35430737            Ontario     0.0 %\n",
       "4   2016S051235060563  35060563            Ontario     0.0 %\n",
       "6   2016S051235100284  35100284            Ontario     0.0 %\n",
       "7   2016S051235430732  35430732            Ontario     0.0 %\n",
       "10  2016S051235430734  35430734            Ontario     0.0 %"
      ]
     },
     "execution_count": 152,
     "metadata": {},
     "output_type": "execute_result"
    }
   ],
   "source": [
    "age.head()"
   ]
  },
  {
   "cell_type": "code",
   "execution_count": 68,
   "metadata": {},
   "outputs": [
    {
     "name": "stdout",
     "output_type": "stream",
     "text": [
      "length of file after ON filter: 36\n",
      "length of file after ON filter: 36\n",
      "length of file after ON filter: 36\n",
      "length of file after ON filter: 36\n",
      "length of file after ON filter: 36\n",
      "length of file after ON filter: 36\n",
      "length of file after ON filter: 36\n",
      "length of file after ON filter: 36\n"
     ]
    }
   ],
   "source": [
    "for i in filenames:\n",
    "    f = pd.read_excel(i)\n",
    "    f2 = f[f['Province/Territory'] == 'Ontario']\n",
    "    print('length of file after ON filter: {}'.format(len(f2)))"
   ]
  },
  {
   "cell_type": "markdown",
   "metadata": {},
   "source": [
    "#### Analysis of Merge"
   ]
  },
  {
   "cell_type": "code",
   "execution_count": 69,
   "metadata": {},
   "outputs": [],
   "source": [
    "import missingno as msno"
   ]
  },
  {
   "cell_type": "code",
   "execution_count": 70,
   "metadata": {},
   "outputs": [
    {
     "data": {
      "text/plain": [
       "<matplotlib.axes._subplots.AxesSubplot at 0x10f9cd450>"
      ]
     },
     "execution_count": 70,
     "metadata": {},
     "output_type": "execute_result"
    },
    {
     "data": {
      "image/png": "[encoded data removed]",
      "text/plain": [
       "<Figure size 1800x720 with 2 Axes>"
      ]
     },
     "metadata": {
      "needs_background": "light"
     },
     "output_type": "display_data"
    }
   ],
   "source": [
    "msno.matrix(como2)"
   ]
  },
  {
   "cell_type": "code",
   "execution_count": 71,
   "metadata": {},
   "outputs": [],
   "source": [
    "como3 = como2.dropna(axis = 'columns').drop(columns = ['Location_y', 'Province/Territory_y',\n",
    "                                                      'Province/Territory_x'])"
   ]
  },
  {
   "cell_type": "code",
   "execution_count": 72,
   "metadata": {},
   "outputs": [
    {
     "data": {
      "text/plain": [
       "<matplotlib.axes._subplots.AxesSubplot at 0x1a248bd250>"
      ]
     },
     "execution_count": 72,
     "metadata": {},
     "output_type": "execute_result"
    },
    {
     "data": {
      "image/png": "[encoded data removed]",
      "text/plain": [
       "<Figure size 1800x720 with 2 Axes>"
      ]
     },
     "metadata": {
      "needs_background": "light"
     },
     "output_type": "display_data"
    }
   ],
   "source": [
    "msno.matrix(como3)"
   ]
  },
  {
   "cell_type": "markdown",
   "metadata": {},
   "source": [
    "---\n",
    "### Merge with COVID data\n",
    "---"
   ]
  },
  {
   "cell_type": "code",
   "execution_count": 92,
   "metadata": {},
   "outputs": [],
   "source": [
    "covid = pd.read_csv('../ON_cases.csv')"
   ]
  },
  {
   "cell_type": "code",
   "execution_count": 74,
   "metadata": {},
   "outputs": [],
   "source": [
    "# remove duplicated column names\n",
    "como3 = como3.loc[:,~como3.columns.duplicated()]\n",
    "\n",
    "# rename location to fit covid data\n",
    "como3.rename(columns = {'Location_x' :'Reporting_PHU'}, inplace = True)\n"
   ]
  },
  {
   "cell_type": "markdown",
   "metadata": {},
   "source": [
    "#### re-organize covid data"
   ]
  },
  {
   "cell_type": "code",
   "execution_count": 94,
   "metadata": {},
   "outputs": [
    {
     "data": {
      "text/plain": [
       "array(['50s', '20s', '30s', '<20', '40s', '60s', '80s', '70s', '90s',\n",
       "       'Unknown'], dtype=object)"
      ]
     },
     "execution_count": 94,
     "metadata": {},
     "output_type": "execute_result"
    }
   ],
   "source": [
    "covid.Age_Group.unique()"
   ]
  },
  {
   "cell_type": "code",
   "execution_count": 95,
   "metadata": {},
   "outputs": [],
   "source": [
    "def fifties(x):\n",
    "    if x == '50s':\n",
    "        return 1\n",
    "    else:\n",
    "        return 0\n",
    "    \n",
    "def sixties(x):\n",
    "    if x == '60s':\n",
    "        return 1\n",
    "    else:\n",
    "        return 0\n",
    "\n",
    "def seventies(x):\n",
    "    if x == '70s':\n",
    "        return 1\n",
    "    else:\n",
    "        return 0\n",
    "\n",
    "def eighties(x):\n",
    "    if x == '80s':\n",
    "        return 1\n",
    "    else:\n",
    "        return 0\n",
    "    \n",
    "def nineties(x):\n",
    "    if x == '90s':\n",
    "        return 1\n",
    "    else:\n",
    "        return 0\n",
    "\n",
    "def thirties(x):\n",
    "    if x == '30s':\n",
    "        return 1\n",
    "    else:\n",
    "        return 0\n",
    "    \n",
    "def fourties(x):\n",
    "    if x == '40s':\n",
    "        return 1\n",
    "    else:\n",
    "        return 0\n",
    "    \n",
    "def twenties(x):\n",
    "    if x == '20s':\n",
    "        return 1\n",
    "    else:\n",
    "        return 0\n",
    "\n",
    "def youth(x):\n",
    "    if x == '<20':\n",
    "        return 1\n",
    "    else:\n",
    "        return 0"
   ]
  },
  {
   "cell_type": "code",
   "execution_count": 98,
   "metadata": {},
   "outputs": [],
   "source": [
    "covid['youth'] = covid['Age_Group'].map(lambda x: youth(x))\n",
    "covid['20s'] = covid['Age_Group'].map(lambda x: twenties(x))\n",
    "covid['30s'] = covid['Age_Group'].map(lambda x: thirties(x))\n",
    "covid['40s'] = covid['Age_Group'].map(lambda x: fourties(x))\n",
    "covid['50s'] = covid['Age_Group'].map(lambda x: fifties(x))\n",
    "covid['60s'] = covid['Age_Group'].map(lambda x: sixties(x))\n",
    "covid['70s'] = covid['Age_Group'].map(lambda x: seventies(x))\n",
    "covid['80s'] = covid['Age_Group'].map(lambda x: eighties(x))\n",
    "covid['90s'] = covid['Age_Group'].map(lambda x: nineties(x))\n"
   ]
  },
  {
   "cell_type": "code",
   "execution_count": 75,
   "metadata": {},
   "outputs": [
    {
     "data": {
      "text/plain": [
       "array(['FEMALE', 'MALE', 'UNKNOWN', 'OTHER', 'TRANSGENDER'], dtype=object)"
      ]
     },
     "execution_count": 75,
     "metadata": {},
     "output_type": "execute_result"
    }
   ],
   "source": [
    "covid.Client_Gender.unique()"
   ]
  },
  {
   "cell_type": "code",
   "execution_count": 99,
   "metadata": {},
   "outputs": [],
   "source": [
    "def contact(x):\n",
    "    if x == 'Contact of a confirmed case':\n",
    "        return 1\n",
    "    else:\n",
    "        return 0\n",
    "\n",
    "def neither(x):\n",
    "    if x == 'Neither':\n",
    "        return 1\n",
    "    else:\n",
    "        return 0\n",
    "\n",
    "def travel(x):\n",
    "    if x == 'Travel-Related':\n",
    "        return 1\n",
    "    else:\n",
    "        return 0\n",
    "\n"
   ]
  },
  {
   "cell_type": "code",
   "execution_count": 100,
   "metadata": {},
   "outputs": [],
   "source": [
    "covid['CONTACT'] = covid.Case_AcquisitionInfo.map(lambda x: contact(x))\n",
    "covid['NEITHER'] = covid.Case_AcquisitionInfo.map(lambda x: neither(x))\n",
    "covid['TRAVEL-RELATED'] = covid.Case_AcquisitionInfo.map(lambda x: travel(x))"
   ]
  },
  {
   "cell_type": "code",
   "execution_count": 101,
   "metadata": {},
   "outputs": [],
   "source": [
    "def not_resolved(x):\n",
    "    if x == 'Not Resolved':\n",
    "        return 1\n",
    "    else:\n",
    "        return 0\n",
    "    \n",
    "def resolved(x):\n",
    "    if x == 'Resolved':\n",
    "        return 1\n",
    "    else:\n",
    "        return 0\n",
    "        \n",
    "def fatal(x):\n",
    "    if x == 'Fatal':\n",
    "        return 1\n",
    "    else:\n",
    "        return 0\n",
    "        "
   ]
  },
  {
   "cell_type": "code",
   "execution_count": 102,
   "metadata": {},
   "outputs": [],
   "source": [
    "covid['NOT-RESOLVED'] = covid.Outcome1.map(lambda x: not_resolved(x))\n",
    "covid['RESOLVED'] = covid.Outcome1.map(lambda x: resolved(x))\n",
    "covid['FATAL'] = covid.Outcome1.map(lambda x: fatal(x))"
   ]
  },
  {
   "cell_type": "code",
   "execution_count": 103,
   "metadata": {},
   "outputs": [],
   "source": [
    "# covid.groupby('Reporting_PHU').count()"
   ]
  },
  {
   "cell_type": "code",
   "execution_count": 104,
   "metadata": {},
   "outputs": [],
   "source": [
    "def female(x):\n",
    "    if x == \"FEMALE\":\n",
    "        return 1\n",
    "    else:\n",
    "        return 0\n",
    "    \n",
    "def male(x):\n",
    "    if x == \"MALE\":\n",
    "        return 1\n",
    "    else:\n",
    "        return 0\n",
    "    \n",
    "def transgender(x):\n",
    "    if x == \"TRANSGENDER\":\n",
    "        return 1\n",
    "    else:\n",
    "        return 0\n",
    "    \n",
    "def unknown(x):\n",
    "    if x == \"UNKNOWN\":\n",
    "        return 1\n",
    "    else:\n",
    "        return 0\n",
    "    \n",
    "def other(x):\n",
    "    if x == \"OTHER\":\n",
    "        return 1\n",
    "    else:\n",
    "        return 0"
   ]
  },
  {
   "cell_type": "code",
   "execution_count": 105,
   "metadata": {},
   "outputs": [],
   "source": [
    "covid['FEMALE'] = covid.Client_Gender.map(lambda x: female(x))\n",
    "covid['MALE'] = covid.Client_Gender.map(lambda x: male(x))\n",
    "covid['TRANSGENDER'] = covid.Client_Gender.map(lambda x: transgender(x))\n",
    "covid['UNKNOWN'] = covid.Client_Gender.map(lambda x: unknown(x))\n",
    "covid['OTHER'] = covid.Client_Gender.map(lambda x: other(x))"
   ]
  },
  {
   "cell_type": "code",
   "execution_count": 115,
   "metadata": {},
   "outputs": [
    {
     "name": "stderr",
     "output_type": "stream",
     "text": [
      "//anaconda3/lib/python3.7/site-packages/ipykernel_launcher.py:1: FutureWarning: Indexing with multiple keys (implicitly converted to a tuple of keys) will be deprecated, use a list instead.\n",
      "  \"\"\"Entry point for launching an IPython kernel.\n"
     ]
    }
   ],
   "source": [
    "covid2 = covid.groupby('Reporting_PHU')['FEMALE', 'MALE', 'TRANSGENDER', 'UNKNOWN', 'OTHER',\n",
    "                               'CONTACT', 'NEITHER', 'TRAVEL-RELATED',\n",
    "                              'NOT-RESOLVED', 'RESOLVED', 'FATAL', \n",
    "                                       'youth', '20s', '30s', '40s', '50s', '60s',\n",
    "                                       '70s', '80s', '90s'].sum()"
   ]
  },
  {
   "cell_type": "code",
   "execution_count": 116,
   "metadata": {},
   "outputs": [],
   "source": [
    "covid2['TOTAL'] = covid.groupby('Reporting_PHU').size().to_list()"
   ]
  },
  {
   "cell_type": "markdown",
   "metadata": {},
   "source": [
    "---\n",
    "### Merge with comorbidities\n",
    "---\n",
    "\n",
    "**Note:** There are 36 PHUs but only 34 reported in the live-updating Ontario Covid Case data. There are 36 \"Health Regions\" (as indicated on Statistics Canada exports) in the proximity and comorbidity data. After research, 2 pairs of Health Regions seemed to have merged, reducing the total number of unique regions to 34.\n",
    "\n",
    "It also appears that some Health Regions were renamed to Public Health Units."
   ]
  },
  {
   "cell_type": "code",
   "execution_count": 125,
   "metadata": {},
   "outputs": [
    {
     "data": {
      "text/plain": [
       "[]"
      ]
     },
     "execution_count": 125,
     "metadata": {},
     "output_type": "execute_result"
    }
   ],
   "source": [
    "# difference between covid PHU and comorbidities HR\n",
    "list(set(covid['Reporting_PHU'].unique()) - set(como3['Reporting_PHU'].unique()))"
   ]
  },
  {
   "cell_type": "code",
   "execution_count": 118,
   "metadata": {},
   "outputs": [],
   "source": [
    "# rename comorbidities HRs to match ontario covid PHU names\n",
    "como3.Reporting_PHU.replace({'York Regional Health Unit' : 'York Region Public Health Services',\n",
    "              'Waterloo Health Unit' : 'Region of Waterloo, Public Health',\n",
    "            'Halton Regional Health Unit' : 'Halton Region Health Department',\n",
    "              'Lambton Health Unit' : 'Lambton Public Health',\n",
    "             'Durham Regional Health Unit' : 'Durham Region Health Department',  \n",
    "             'City of Ottawa Health Unit' : 'Ottawa Public Health', \n",
    "             'Peel Regional Health Unit': 'Peel Public Health',\n",
    "              'Wellington-Dufferin-Guelph Health Unit': 'Wellington-Dufferin-Guelph Public Health',\n",
    "            'Kingston, Frontenac and Lennox and Addington Health Unit' : 'Kingston, Frontenac and Lennox & Addington Public Health',\n",
    "             'The Eastern Ontario Health Unit':'Eastern Ontario Health Unit',\n",
    "              'City of Hamilton Health Unit':'Hamilton Public Health Services',\n",
    "              'Niagara Regional Area Health Unit':'Niagara Region Public Health Department',\n",
    "              'Sudbury and District Health Unit':'Sudbury & District Health Unit',\n",
    "             'The District of Algoma Health Unit':'Algoma Public Health Unit',\n",
    "             'Peterborough County - City Health Unit':'Peterborough Public Health',\n",
    "             'City of Toronto Health Unit' : 'Toronto Public Health'}, inplace = True)"
   ]
  },
  {
   "cell_type": "code",
   "execution_count": 119,
   "metadata": {},
   "outputs": [
    {
     "data": {
      "text/plain": [
       "[]"
      ]
     },
     "execution_count": 119,
     "metadata": {},
     "output_type": "execute_result"
    }
   ],
   "source": [
    "# difference between covid PHU and comorbidities HR - PHU not in HRs\n",
    "list(set(covid['Reporting_PHU'].unique()) - set(como3['Reporting_PHU'].unique()))"
   ]
  },
  {
   "cell_type": "code",
   "execution_count": 120,
   "metadata": {},
   "outputs": [
    {
     "data": {
      "text/plain": [
       "[]"
      ]
     },
     "execution_count": 120,
     "metadata": {},
     "output_type": "execute_result"
    }
   ],
   "source": [
    "# HRs not in PHU\n",
    "list(set(como3['Reporting_PHU'].unique()) - set(covid['Reporting_PHU'].unique()))"
   ]
  },
  {
   "cell_type": "markdown",
   "metadata": {},
   "source": [
    "***After Google Search:***\n",
    "\n",
    "Comorbidities HR | Covid PHU\n",
    "---------------------|----------\n",
    "Perth District Health Unit | renamed to Huron Perth \n",
    "Huron County Health Unit | renamed to Huron Perth \n",
    "Elgin-St. Thomas Health Unit | renamed to Southwestern Public Health\n",
    "Oxford County Health Unit | renamed to Southwestern Public Health\n",
    "*Huron County Health Unit has same address as [Huron Perth District Health Unit](https://www.hpph.ca/en/about-us/contact-and-locations.aspx) (77722B London Rd RR 5, Clinton, ON N0M 1L0)"
   ]
  },
  {
   "cell_type": "code",
   "execution_count": 121,
   "metadata": {},
   "outputs": [],
   "source": [
    "como3.Reporting_PHU.replace({'Perth District Health Unit' : 'Huron Perth District Health Unit',\n",
    "                             'Huron County Health Unit' : 'Huron Perth District Health Unit',\n",
    "                            'Elgin-St. Thomas Health Unit' : 'Southwestern Public Health',\n",
    "                            'Oxford County Health Unit' : 'Southwestern Public Health'}, inplace = True)"
   ]
  },
  {
   "cell_type": "code",
   "execution_count": 122,
   "metadata": {},
   "outputs": [
    {
     "name": "stdout",
     "output_type": "stream",
     "text": [
      "<class 'pandas.core.frame.DataFrame'>\n",
      "Int64Index: 36 entries, 0 to 35\n",
      "Data columns (total 31 columns):\n",
      " #   Column           Non-Null Count  Dtype \n",
      "---  ------           --------------  ----- \n",
      " 0   DGUID            36 non-null     object\n",
      " 1   Reporting_PHU    36 non-null     object\n",
      " 2   copd-percent     36 non-null     object\n",
      " 3   copd             36 non-null     object\n",
      " 4   asthma           36 non-null     object\n",
      " 5   asthma-percent   36 non-null     object\n",
      " 6   hbp              36 non-null     object\n",
      " 7   hbp-percent      36 non-null     object\n",
      " 8   smokers          36 non-null     object\n",
      " 9   smokers-percent  36 non-null     object\n",
      " 10  FEMALE           36 non-null     int64 \n",
      " 11  MALE             36 non-null     int64 \n",
      " 12  TRANSGENDER      36 non-null     int64 \n",
      " 13  UNKNOWN          36 non-null     int64 \n",
      " 14  OTHER            36 non-null     int64 \n",
      " 15  CONTACT          36 non-null     int64 \n",
      " 16  NEITHER          36 non-null     int64 \n",
      " 17  TRAVEL-RELATED   36 non-null     int64 \n",
      " 18  NOT-RESOLVED     36 non-null     int64 \n",
      " 19  RESOLVED         36 non-null     int64 \n",
      " 20  FATAL            36 non-null     int64 \n",
      " 21  youth            36 non-null     int64 \n",
      " 22  20s              36 non-null     int64 \n",
      " 23  30s              36 non-null     int64 \n",
      " 24  40s              36 non-null     int64 \n",
      " 25  50s              36 non-null     int64 \n",
      " 26  60s              36 non-null     int64 \n",
      " 27  70s              36 non-null     int64 \n",
      " 28  80s              36 non-null     int64 \n",
      " 29  90s              36 non-null     int64 \n",
      " 30  TOTAL            36 non-null     int64 \n",
      "dtypes: int64(21), object(10)\n",
      "memory usage: 9.0+ KB\n"
     ]
    }
   ],
   "source": [
    "covidmerge = pd.merge(como3, covid2, how = 'inner', on = 'Reporting_PHU')\n",
    "covidmerge.info()"
   ]
  },
  {
   "cell_type": "code",
   "execution_count": 123,
   "metadata": {},
   "outputs": [],
   "source": [
    "covidmerge.to_csv('../covid_comorbidities.csv')"
   ]
  },
  {
   "cell_type": "code",
   "execution_count": null,
   "metadata": {},
   "outputs": [],
   "source": []
  }
 ],
 "metadata": {
  "kernelspec": {
   "display_name": "Python 3",
   "language": "python",
   "name": "python3"
  },
  "language_info": {
   "codemirror_mode": {
    "name": "ipython",
    "version": 3
   },
   "file_extension": ".py",
   "mimetype": "text/x-python",
   "name": "python",
   "nbconvert_exporter": "python",
   "pygments_lexer": "ipython3",
   "version": "3.7.4"
  }
 },
 "nbformat": 4,
 "nbformat_minor": 4
}
